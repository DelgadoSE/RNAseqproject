{
 "cells": [
  {
   "cell_type": "code",
   "execution_count": 1,
   "metadata": {
    "collapsed": false
   },
   "outputs": [
    {
     "name": "stderr",
     "output_type": "stream",
     "text": [
      "Warning message:\n",
      "“replacing previous import by ‘splines::splineDesign’ when loading ‘VGAM’”Warning message:\n",
      "“replacing previous import by ‘grid::arrow’ when loading ‘monocle’”Warning message:\n",
      "“replacing previous import by ‘grid::unit’ when loading ‘monocle’”Warning message:\n",
      "“replacing previous import by ‘igraph::clusters’ when loading ‘monocle’”Warning message:\n",
      "“replacing previous import by ‘ggplot2::Position’ when loading ‘monocle’”"
     ]
    }
   ],
   "source": [
    "suppressPackageStartupMessages({\n",
    "    library(monocle)\n",
    "\n",
    "    library(RColorBrewer)\n",
    "    library(dplyr)\n",
    "    library(ggplot2)\n",
    "    library(glasso)\n",
    "    library(glmnet)\n",
    "    library(igraph)\n",
    "    library(pheatmap)\n",
    "    library(qgraph)\n",
    "    library(scales)\n",
    "    library(reshape2)\n",
    "})"
   ]
  },
  {
   "cell_type": "markdown",
   "metadata": {},
   "source": [
    "This analysis was made using Monocle version 2.3.5. The source code for Monocle 2.3.5 is available as a supplementary file to Cao et al. 2017 on the Science website. We are working on updating the analysis to the latest version of Monocle."
   ]
  },
  {
   "cell_type": "code",
   "execution_count": 2,
   "metadata": {
    "collapsed": false
   },
   "outputs": [
    {
     "data": {
      "text/plain": [
       "R version 3.2.1 (2015-06-18)\n",
       "Platform: x86_64-unknown-linux-gnu (64-bit)\n",
       "Running under: CentOS release 6.8 (Final)\n",
       "\n",
       "locale:\n",
       " [1] LC_CTYPE=en_US.UTF-8       LC_NUMERIC=C              \n",
       " [3] LC_TIME=en_US.UTF-8        LC_COLLATE=en_US.UTF-8    \n",
       " [5] LC_MONETARY=en_US.UTF-8    LC_MESSAGES=en_US.UTF-8   \n",
       " [7] LC_PAPER=en_US.UTF-8       LC_NAME=C                 \n",
       " [9] LC_ADDRESS=C               LC_TELEPHONE=C            \n",
       "[11] LC_MEASUREMENT=en_US.UTF-8 LC_IDENTIFICATION=C       \n",
       "\n",
       "attached base packages:\n",
       " [1] splines   stats4    parallel  stats     graphics  grDevices utils    \n",
       " [8] datasets  methods   base     \n",
       "\n",
       "other attached packages:\n",
       " [1] reshape2_1.4.2      scales_0.4.1        qgraph_1.4.3       \n",
       " [4] pheatmap_1.0.8      igraph_1.0.1        glmnet_2.0-10      \n",
       " [7] foreach_1.4.3       glasso_1.8          dplyr_0.7.1        \n",
       "[10] RColorBrewer_1.1-2  monocle_2.3.5       DDRTree_0.1.5      \n",
       "[13] irlba_2.2.1         VGAM_1.0-3          ggplot2_2.2.1      \n",
       "[16] Biobase_2.30.0      BiocGenerics_0.16.1 Matrix_1.2-7.1     \n",
       "\n",
       "loaded via a namespace (and not attached):\n",
       " [1] nlme_3.1-131           matrixStats_0.52.2     mi_1.0                \n",
       " [4] repr_0.12.0            tools_3.2.1            backports_1.1.0       \n",
       " [7] R6_2.2.2               d3Network_0.5.2.1      rpart_4.1-11          \n",
       "[10] Hmisc_4.0-3            lazyeval_0.2.0         colorspace_1.3-2      \n",
       "[13] nnet_7.3-12            gridExtra_2.2.1        mnormt_1.5-5          \n",
       "[16] fdrtool_1.2.15         htmlTable_1.9          network_1.13.0        \n",
       "[19] slam_0.1-35            checkmate_1.8.2        psych_1.7.5           \n",
       "[22] quadprog_1.5-5         sem_3.1-9              pbdZMQ_0.2-6          \n",
       "[25] stringr_1.2.0          digest_0.6.12          pbivnorm_0.6.0        \n",
       "[28] foreign_0.8-69         minqa_1.2.4            base64enc_0.1-3       \n",
       "[31] jpeg_0.1-8             pkgconfig_2.0.1        htmltools_0.3.6       \n",
       "[34] lme4_1.1-13            limma_3.26.9           htmlwidgets_0.8       \n",
       "[37] rlang_0.1.1            huge_1.2.7             bindr_0.1             \n",
       "[40] combinat_0.0-8         jsonlite_1.5           gtools_3.5.0          \n",
       "[43] statnet.common_3.3.0   acepack_1.4.1          magrittr_1.5          \n",
       "[46] Formula_1.2-1          Rcpp_0.12.11           IRkernel_0.7          \n",
       "[49] munsell_0.4.3          abind_1.4-5            whisker_0.3-2         \n",
       "[52] stringi_1.1.5          MASS_7.3-47            plyr_1.8.4            \n",
       "[55] matrixcalc_1.0-3       lavaan_0.5-23.1097     grid_3.2.1            \n",
       "[58] crayon_1.3.2           lattice_0.20-35        IRdisplay_0.4.4       \n",
       "[61] sna_2.4                knitr_1.16             uuid_0.1-2            \n",
       "[64] rjson_0.2.15           boot_1.3-19            corpcor_1.6.9         \n",
       "[67] codetools_0.2-15       glue_1.1.1             evaluate_0.10.1       \n",
       "[70] latticeExtra_0.6-28    data.table_1.10.0      png_0.1-7             \n",
       "[73] nloptr_1.0.4           gtable_0.2.0           assertthat_0.2.0      \n",
       "[76] coda_0.19-1            survival_2.41-3        qlcMatrix_0.9.5       \n",
       "[79] HSMMSingleCell_0.104.0 tibble_1.3.3           arm_1.9-3             \n",
       "[82] iterators_1.0.8        ggm_2.3                ellipse_0.3-8         \n",
       "[85] bindrcpp_0.2           cluster_2.0.6          fastICA_1.2-1         \n",
       "[88] densityClust_0.2.1    "
      ]
     },
     "metadata": {},
     "output_type": "display_data"
    }
   ],
   "source": [
    "sessionInfo()"
   ]
  },
  {
   "cell_type": "code",
   "execution_count": 3,
   "metadata": {
    "collapsed": true
   },
   "outputs": [],
   "source": [
    "# at certain \"checkpoints\" in this notebook, we save our progress to this RData file\n",
    "# run this cell to load your progress if you have already reached through one or more checkpoints in the notebook\n",
    "\n",
    "# IF YOU RUN THIS CELL DO NOT RUN THE CELL BELOW\n",
    "\n",
    "load(\"RData/L2.ChIP-seq.analysis.RData\")"
   ]
  },
  {
   "cell_type": "code",
   "execution_count": null,
   "metadata": {
    "collapsed": true
   },
   "outputs": [],
   "source": [
    "load(\"RData/L2.data.summaries.no-cruft.RData\")"
   ]
  },
  {
   "cell_type": "code",
   "execution_count": 4,
   "metadata": {
    "collapsed": true
   },
   "outputs": [],
   "source": [
    "download.file(\n",
    "    \"http://jpacker-data.s3.amazonaws.com/public/C.elegans.modENCODE.modERN.ChIP-seq.peak.to.gene.assignments.tsv\",\n",
    "    destfile = \"RData/C.elegans.modENCODE.modERN.ChIP-seq.peak.to.gene.assignments.tsv\")"
   ]
  },
  {
   "cell_type": "code",
   "execution_count": 5,
   "metadata": {
    "collapsed": false
   },
   "outputs": [],
   "source": [
    "peaks = read.table(\"RData/C.elegans.modENCODE.modERN.ChIP-seq.peak.to.gene.assignments.tsv\",\n",
    "    col.names = c(\"chr\", \"start\", \"end\", \"summit\", \"tf\",\n",
    "                  \"n.overlaps\", \"gene\", \"distance.to.TSS\", \"distance.ratio\"),\n",
    "    colClasses = c(\"factor\", \"integer\", \"integer\", \"numeric\", \"character\",\n",
    "                   \"integer\", \"character\", \"integer\", \"numeric\"))"
   ]
  },
  {
   "cell_type": "code",
   "execution_count": 6,
   "metadata": {
    "collapsed": false
   },
   "outputs": [
    {
     "data": {
      "text/html": [
       "<table>\n",
       "<thead><tr><th scope=col>chr</th><th scope=col>start</th><th scope=col>end</th><th scope=col>summit</th><th scope=col>tf</th><th scope=col>n.overlaps</th><th scope=col>gene</th><th scope=col>distance.to.TSS</th><th scope=col>distance.ratio</th></tr></thead>\n",
       "<tbody>\n",
       "\t<tr><td>I        </td><td>3491     </td><td>4458     </td><td>3952     </td><td>SNPC.4_PE</td><td>107      </td><td>nlp-40   </td><td>7543     </td><td>5.274    </td></tr>\n",
       "\t<tr><td>I        </td><td>3568     </td><td>4079     </td><td>3914     </td><td>NHR.47_PE</td><td>108      </td><td>nlp-40   </td><td>7581     </td><td>5.252    </td></tr>\n",
       "\t<tr><td>I        </td><td>3571     </td><td>4068     </td><td>3892     </td><td>SMA.3_PE </td><td>108      </td><td>nlp-40   </td><td>7603     </td><td>5.240    </td></tr>\n",
       "\t<tr><td>I        </td><td>3614     </td><td>4154     </td><td>3884     </td><td>REC.8_PE </td><td>108      </td><td>nlp-40   </td><td>7611     </td><td>5.236    </td></tr>\n",
       "\t<tr><td>I        </td><td>3620     </td><td>4101     </td><td>3922     </td><td>NHR.71_PE</td><td>108      </td><td>nlp-40   </td><td>7573     </td><td>5.257    </td></tr>\n",
       "\t<tr><td>I        </td><td>3627     </td><td>4098     </td><td>3898     </td><td>LIN.40_PE</td><td>108      </td><td>nlp-40   </td><td>7597     </td><td>5.244    </td></tr>\n",
       "</tbody>\n",
       "</table>\n"
      ],
      "text/latex": [
       "\\begin{tabular}{r|lllllllll}\n",
       " chr & start & end & summit & tf & n.overlaps & gene & distance.to.TSS & distance.ratio\\\\\n",
       "\\hline\n",
       "\t I           & 3491        & 4458        & 3952        & SNPC.4\\_PE & 107         & nlp-40      & 7543        & 5.274      \\\\\n",
       "\t I           & 3568        & 4079        & 3914        & NHR.47\\_PE & 108         & nlp-40      & 7581        & 5.252      \\\\\n",
       "\t I           & 3571        & 4068        & 3892        & SMA.3\\_PE  & 108         & nlp-40      & 7603        & 5.240      \\\\\n",
       "\t I           & 3614        & 4154        & 3884        & REC.8\\_PE  & 108         & nlp-40      & 7611        & 5.236      \\\\\n",
       "\t I           & 3620        & 4101        & 3922        & NHR.71\\_PE & 108         & nlp-40      & 7573        & 5.257      \\\\\n",
       "\t I           & 3627        & 4098        & 3898        & LIN.40\\_PE & 108         & nlp-40      & 7597        & 5.244      \\\\\n",
       "\\end{tabular}\n"
      ],
      "text/markdown": [
       "\n",
       "chr | start | end | summit | tf | n.overlaps | gene | distance.to.TSS | distance.ratio | \n",
       "|---|---|---|---|---|---|\n",
       "| I         | 3491      | 4458      | 3952      | SNPC.4_PE | 107       | nlp-40    | 7543      | 5.274     | \n",
       "| I         | 3568      | 4079      | 3914      | NHR.47_PE | 108       | nlp-40    | 7581      | 5.252     | \n",
       "| I         | 3571      | 4068      | 3892      | SMA.3_PE  | 108       | nlp-40    | 7603      | 5.240     | \n",
       "| I         | 3614      | 4154      | 3884      | REC.8_PE  | 108       | nlp-40    | 7611      | 5.236     | \n",
       "| I         | 3620      | 4101      | 3922      | NHR.71_PE | 108       | nlp-40    | 7573      | 5.257     | \n",
       "| I         | 3627      | 4098      | 3898      | LIN.40_PE | 108       | nlp-40    | 7597      | 5.244     | \n",
       "\n",
       "\n"
      ],
      "text/plain": [
       "  chr start end  summit tf        n.overlaps gene   distance.to.TSS\n",
       "1 I   3491  4458 3952   SNPC.4_PE 107        nlp-40 7543           \n",
       "2 I   3568  4079 3914   NHR.47_PE 108        nlp-40 7581           \n",
       "3 I   3571  4068 3892   SMA.3_PE  108        nlp-40 7603           \n",
       "4 I   3614  4154 3884   REC.8_PE  108        nlp-40 7611           \n",
       "5 I   3620  4101 3922   NHR.71_PE 108        nlp-40 7573           \n",
       "6 I   3627  4098 3898   LIN.40_PE 108        nlp-40 7597           \n",
       "  distance.ratio\n",
       "1 5.274         \n",
       "2 5.252         \n",
       "3 5.240         \n",
       "4 5.236         \n",
       "5 5.257         \n",
       "6 5.244         "
      ]
     },
     "metadata": {},
     "output_type": "display_data"
    }
   ],
   "source": [
    "head(peaks)"
   ]
  },
  {
   "cell_type": "code",
   "execution_count": null,
   "metadata": {
    "collapsed": false
   },
   "outputs": [],
   "source": [
    "n.genes = nrow(fData(cds.experiment.1))\n",
    "dummy = data.frame(\n",
    "    chr = rep(\"I\", n.genes), start = 0, end = 0, summit = 0, tf = \"DUMMY\",\n",
    "    n.overlaps = 0, gene = fData(cds.experiment.1)$symbol, distance.to.TSS = 0, distance.ratio = 999.0)\n",
    "\n",
    "peaks = rbind(peaks, dummy)\n",
    "head(peaks)\n",
    "tail(peaks)"
   ]
  },
  {
   "cell_type": "code",
   "execution_count": 31,
   "metadata": {
    "collapsed": false
   },
   "outputs": [
    {
     "data": {
      "text/html": [
       "95"
      ],
      "text/latex": [
       "95"
      ],
      "text/markdown": [
       "95"
      ],
      "text/plain": [
       "[1] 95"
      ]
     },
     "metadata": {},
     "output_type": "display_data"
    },
    {
     "data": {
      "text/html": [
       "178"
      ],
      "text/latex": [
       "178"
      ],
      "text/markdown": [
       "178"
      ],
      "text/plain": [
       "[1] 178"
      ]
     },
     "metadata": {},
     "output_type": "display_data"
    },
    {
     "data": {
      "text/html": [
       "<table>\n",
       "<thead><tr><th scope=col>TF</th><th scope=col>symbol</th><th scope=col>rank</th><th scope=col>n</th></tr></thead>\n",
       "<tbody>\n",
       "\t<tr><td>AHR.1_EM </td><td>ahr-1    </td><td>1        </td><td>1        </td></tr>\n",
       "\t<tr><td>ALR.1_PE </td><td>alr-1    </td><td>1        </td><td>1        </td></tr>\n",
       "\t<tr><td>ALY.1_EM </td><td>aly-1    </td><td>1        </td><td>1        </td></tr>\n",
       "\t<tr><td>ALY.2_PE </td><td>aly-2    </td><td>1        </td><td>1        </td></tr>\n",
       "\t<tr><td>ATF.7_PE </td><td>atf-7    </td><td>1        </td><td>1        </td></tr>\n",
       "\t<tr><td>ATHP.1_PE</td><td>athp-1   </td><td>1        </td><td>1        </td></tr>\n",
       "</tbody>\n",
       "</table>\n"
      ],
      "text/latex": [
       "\\begin{tabular}{r|llll}\n",
       " TF & symbol & rank & n\\\\\n",
       "\\hline\n",
       "\t AHR.1\\_EM  & ahr-1       & 1           & 1          \\\\\n",
       "\t ALR.1\\_PE  & alr-1       & 1           & 1          \\\\\n",
       "\t ALY.1\\_EM  & aly-1       & 1           & 1          \\\\\n",
       "\t ALY.2\\_PE  & aly-2       & 1           & 1          \\\\\n",
       "\t ATF.7\\_PE  & atf-7       & 1           & 1          \\\\\n",
       "\t ATHP.1\\_PE & athp-1      & 1           & 1          \\\\\n",
       "\\end{tabular}\n"
      ],
      "text/plain": [
       "  TF        symbol rank n\n",
       "1 AHR.1_EM  ahr-1  1    1\n",
       "2 ALR.1_PE  alr-1  1    1\n",
       "3 ALY.1_EM  aly-1  1    1\n",
       "4 ALY.2_PE  aly-2  1    1\n",
       "5 ATF.7_PE  atf-7  1    1\n",
       "6 ATHP.1_PE athp-1 1    1"
      ]
     },
     "metadata": {},
     "output_type": "display_data"
    },
    {
     "data": {
      "text/html": [
       "235"
      ],
      "text/latex": [
       "235"
      ],
      "text/markdown": [
       "235"
      ],
      "text/plain": [
       "[1] 235"
      ]
     },
     "metadata": {},
     "output_type": "display_data"
    }
   ],
   "source": [
    "all.TFs = sort(setdiff(unique(peaks$tf), c(\"DUMMY\",\n",
    "    # not TFs\n",
    "    \"AHA.1_PE\", \"RPC.1_PE\", \"FEM.2_PE\", \"TAG.315_EM\", \"HIM.8_PE\", \"LIN.37_EM\")))\n",
    "all.TFs = all.TFs[!grepl(\":\", all.TFs)]\n",
    "\n",
    "EM.TFs = all.TFs[grepl(\"_EM$\", all.TFs)]\n",
    "PE.TFs = all.TFs[grepl(\"_PE$\", all.TFs)]\n",
    "length(EM.TFs)\n",
    "length(PE.TFs)\n",
    "\n",
    "TF.symbols = ifelse(grepl(\"[0-9][.]\", all.TFs),\n",
    "    sub(\"_EM|_PE\", \"\", all.TFs),\n",
    "    tolower(sub(\"[.]\", \"-\", sub(\"_EM|_PE\", \"\", all.TFs))))\n",
    "\n",
    "name.map = list()\n",
    "name.map[[\"C01B12.2\"]] = \"gmeb-1\"\n",
    "name.map[[\"C05D10.1\"]] = \"attf-4\"\n",
    "name.map[[\"ceh-26\"]] = \"pros-1\"\n",
    "name.map[[\"C06A8.2\"]] = \"snpc-1.1\"\n",
    "name.map[[\"C27D6.4\"]] = \"crh-2\"\n",
    "name.map[[\"F08F3.9\"]] = \"snpc-1.3\"\n",
    "name.map[[\"F13H6.1\"]] = \"bcl-11\"\n",
    "name.map[[\"F23F12.9\"]] = \"zip-8\"\n",
    "name.map[[\"F37D6.2\"]] = \"row-1\"\n",
    "name.map[[\"F45C12.2\"]] = \"ceh-82\"\n",
    "name.map[[\"R06F6.6\"]] = \"ceh-62\"\n",
    "name.map[[\"T02C12.2\"]] = \"snpc-3.4\"\n",
    "name.map[[\"wago-9\"]] = \"hrde-1\"\n",
    "name.map[[\"lin-15b\"]] = \"lin-15B\"\n",
    "name.map[[\"y116a8c-19\"]] = \"Y116A8C.19\"\n",
    "name.map[[\"y22d7al-16\"]] = \"Y22D7AL.16\"\n",
    "name.map[[\"y53c12c-1\"]] = \"eyg-1\"\n",
    "\n",
    "TF.symbols = sapply(TF.symbols, function(x) {\n",
    "    if (x %in% names(name.map)) name.map[[x]]\n",
    "    else x\n",
    "})\n",
    "\n",
    "TF.to.symbol = data.frame(TF = all.TFs, symbol = TF.symbols, stringsAsFactors = F)\n",
    "TF.to.symbol = TF.to.symbol %>% group_by(symbol) %>%\n",
    "    mutate(rank = rank(TF), n = n()) %>% filter(n == 1 | rank == 2)\n",
    "TF.to.symbol = as.data.frame(TF.to.symbol)\n",
    "\n",
    "head(TF.to.symbol)\n",
    "nrow(TF.to.symbol)"
   ]
  },
  {
   "cell_type": "code",
   "execution_count": 26,
   "metadata": {
    "collapsed": false
   },
   "outputs": [
    {
     "data": {
      "text/html": [],
      "text/latex": [],
      "text/markdown": [],
      "text/plain": [
       "character(0)"
      ]
     },
     "metadata": {},
     "output_type": "display_data"
    }
   ],
   "source": [
    "setdiff(TF.to.symbol$symbol, fData(cds.experiment.1)$symbol)"
   ]
  },
  {
   "cell_type": "code",
   "execution_count": null,
   "metadata": {
    "collapsed": false
   },
   "outputs": [],
   "source": [
    "peaks$overlap.frac = ifelse(grepl(\"_EM$\", peaks$tf),\n",
    "    peaks$n.overlaps / length(EM.TFs), peaks$n.overlaps / length(PE.TFs))\n",
    "head(peaks)"
   ]
  },
  {
   "cell_type": "code",
   "execution_count": null,
   "metadata": {
    "collapsed": false
   },
   "outputs": [],
   "source": [
    "summary((peaks %>% filter(tf == \"HLH.1_EM\"))$overlap.frac)"
   ]
  },
  {
   "cell_type": "code",
   "execution_count": 3,
   "metadata": {
    "collapsed": false
   },
   "outputs": [
    {
     "data": {
      "text/html": [
       "<table>\n",
       "<thead><tr><th scope=col>chr</th><th scope=col>start</th><th scope=col>end</th><th scope=col>summit</th><th scope=col>tf</th><th scope=col>n.overlaps</th><th scope=col>gene</th><th scope=col>distance.to.TSS</th><th scope=col>distance.ratio</th><th scope=col>overlap.frac</th></tr></thead>\n",
       "<tbody>\n",
       "\t<tr><td>I        </td><td>3491     </td><td>4458     </td><td>3952     </td><td>SNPC.4_PE</td><td>107      </td><td>nlp-40   </td><td>7543     </td><td>5.274    </td><td>0.6011236</td></tr>\n",
       "\t<tr><td>I        </td><td>3568     </td><td>4079     </td><td>3914     </td><td>NHR.47_PE</td><td>108      </td><td>nlp-40   </td><td>7581     </td><td>5.252    </td><td>0.6067416</td></tr>\n",
       "\t<tr><td>I        </td><td>3571     </td><td>4068     </td><td>3892     </td><td>SMA.3_PE </td><td>108      </td><td>nlp-40   </td><td>7603     </td><td>5.240    </td><td>0.6067416</td></tr>\n",
       "\t<tr><td>I        </td><td>3614     </td><td>4154     </td><td>3884     </td><td>REC.8_PE </td><td>108      </td><td>nlp-40   </td><td>7611     </td><td>5.236    </td><td>0.6067416</td></tr>\n",
       "\t<tr><td>I        </td><td>3620     </td><td>4101     </td><td>3922     </td><td>NHR.71_PE</td><td>108      </td><td>nlp-40   </td><td>7573     </td><td>5.257    </td><td>0.6067416</td></tr>\n",
       "\t<tr><td>I        </td><td>3627     </td><td>4098     </td><td>3898     </td><td>LIN.40_PE</td><td>108      </td><td>nlp-40   </td><td>7597     </td><td>5.244    </td><td>0.6067416</td></tr>\n",
       "</tbody>\n",
       "</table>\n"
      ],
      "text/latex": [
       "\\begin{tabular}{r|llllllllll}\n",
       " chr & start & end & summit & tf & n.overlaps & gene & distance.to.TSS & distance.ratio & overlap.frac\\\\\n",
       "\\hline\n",
       "\t I           & 3491        & 4458        & 3952        & SNPC.4\\_PE & 107         & nlp-40      & 7543        & 5.274       & 0.6011236  \\\\\n",
       "\t I           & 3568        & 4079        & 3914        & NHR.47\\_PE & 108         & nlp-40      & 7581        & 5.252       & 0.6067416  \\\\\n",
       "\t I           & 3571        & 4068        & 3892        & SMA.3\\_PE  & 108         & nlp-40      & 7603        & 5.240       & 0.6067416  \\\\\n",
       "\t I           & 3614        & 4154        & 3884        & REC.8\\_PE  & 108         & nlp-40      & 7611        & 5.236       & 0.6067416  \\\\\n",
       "\t I           & 3620        & 4101        & 3922        & NHR.71\\_PE & 108         & nlp-40      & 7573        & 5.257       & 0.6067416  \\\\\n",
       "\t I           & 3627        & 4098        & 3898        & LIN.40\\_PE & 108         & nlp-40      & 7597        & 5.244       & 0.6067416  \\\\\n",
       "\\end{tabular}\n"
      ],
      "text/plain": [
       "  chr start end  summit tf        n.overlaps gene   distance.to.TSS\n",
       "1 I   3491  4458 3952   SNPC.4_PE 107        nlp-40 7543           \n",
       "2 I   3568  4079 3914   NHR.47_PE 108        nlp-40 7581           \n",
       "3 I   3571  4068 3892   SMA.3_PE  108        nlp-40 7603           \n",
       "4 I   3614  4154 3884   REC.8_PE  108        nlp-40 7611           \n",
       "5 I   3620  4101 3922   NHR.71_PE 108        nlp-40 7573           \n",
       "6 I   3627  4098 3898   LIN.40_PE 108        nlp-40 7597           \n",
       "  distance.ratio overlap.frac\n",
       "1 5.274          0.6011236   \n",
       "2 5.252          0.6067416   \n",
       "3 5.240          0.6067416   \n",
       "4 5.236          0.6067416   \n",
       "5 5.257          0.6067416   \n",
       "6 5.244          0.6067416   "
      ]
     },
     "metadata": {},
     "output_type": "display_data"
    }
   ],
   "source": [
    "head(peaks)"
   ]
  },
  {
   "cell_type": "code",
   "execution_count": 92,
   "metadata": {
    "collapsed": false
   },
   "outputs": [
    {
     "data": {
      "text/html": [
       "0.234612458422671"
      ],
      "text/latex": [
       "0.234612458422671"
      ],
      "text/markdown": [
       "0.234612458422671"
      ],
      "text/plain": [
       "[1] 0.2346125"
      ]
     },
     "metadata": {},
     "output_type": "display_data"
    }
   ],
   "source": [
    "df = filter(peaks, distance.to.TSS < 2000, distance.ratio >= 1.5, overlap.frac < 0.2)\n",
    "df$dummy = 1\n",
    "nrow(df %>% filter(tf != \"DUMMY\")) / nrow(peaks %>% filter(tf != \"DUMMY\"))\n",
    "\n",
    "df = dcast(df, gene ~ tf, value.var = \"overlap.frac\", fill = 0,\n",
    "    fun.aggregate = function(x) (0.2 - min(0.2, x)))"
   ]
  },
  {
   "cell_type": "code",
   "execution_count": 9,
   "metadata": {
    "collapsed": false
   },
   "outputs": [
    {
     "name": "stderr",
     "output_type": "stream",
     "text": [
      "Warning message in inner_join_impl(x, y, by$x, by$y, suffix$x, suffix$y):\n",
      "“joining factor and character vector, coercing into character vector”"
     ]
    }
   ],
   "source": [
    "write.table(inner_join(fData(cds.experiment.1) %>% select(gene_id, gene = symbol), df, by = \"gene\"),\n",
    "    file = \"tables/gene_promoter_ChIP.tsv\",\n",
    "    row.names = F, col.names = T, quote = F, sep = \"\\t\")"
   ]
  },
  {
   "cell_type": "code",
   "execution_count": null,
   "metadata": {
    "collapsed": false
   },
   "outputs": [],
   "source": [
    "mat = cell.type.norm.means[, colnames(cell.type.norm.means) != \"Dopaminergic neurons\"]\n",
    "rownames(mat) = fData(cds.experiment.1)$symbol\n",
    "mat = mat[apply(mat, 1, max) >= 0.05,]\n",
    "mat = log2(mat+1)\n",
    "mat = t(scale(t(mat)))\n",
    "\n",
    "all.heatmap.genes = rownames(mat)\n",
    "all.ts.genes = unique(tissue.specific.genes$gene)\n",
    "all.cts.genes = unique(cell.type.specific.genes$gene)\n",
    "\n",
    "length(all.heatmap.genes)\n",
    "length(all.ts.genes)\n",
    "length(all.cts.genes)"
   ]
  },
  {
   "cell_type": "code",
   "execution_count": null,
   "metadata": {
    "collapsed": false
   },
   "outputs": [],
   "source": [
    "tissue.tpm.melt = melt(tissue.tpm)\n",
    "names(tissue.tpm.melt) = c(\"gene\", \"tissue\", \"tpm\")\n",
    "tissue.tpm.melt$gene = as.character(tissue.tpm.melt$gene)\n",
    "\n",
    "cell.type.tpm.melt = melt(cell.type.tpm)\n",
    "names(cell.type.tpm.melt) = c(\"gene\", \"cell.type\", \"tpm\")\n",
    "cell.type.tpm.melt$gene = as.character(cell.type.tpm.melt$gene)\n",
    "\n",
    "head(tissue.tpm.melt, 2)"
   ]
  },
  {
   "cell_type": "code",
   "execution_count": 32,
   "metadata": {
    "collapsed": true
   },
   "outputs": [],
   "source": [
    "tissue.expr.TFs = list()\n",
    "cell.type.expr.TFs = list()"
   ]
  },
  {
   "cell_type": "code",
   "execution_count": 33,
   "metadata": {
    "collapsed": false
   },
   "outputs": [
    {
     "data": {
      "text/html": [
       "234"
      ],
      "text/latex": [
       "234"
      ],
      "text/markdown": [
       "234"
      ],
      "text/plain": [
       "[1] 234"
      ]
     },
     "metadata": {},
     "output_type": "display_data"
    }
   ],
   "source": [
    "TF.to.symbol = filter(TF.to.symbol, TF %in% colnames(df))\n",
    "nrow(TF.to.symbol)\n",
    "\n",
    "for (this.tissue in tissues) {\n",
    "    tissue.expr.TFs[[this.tissue]] = (tissue.tpm.melt %>%\n",
    "        filter(tissue == this.tissue, tpm >= 10.0) %>%\n",
    "        inner_join(TF.to.symbol, by = c(\"gene\" = \"symbol\")) %>%\n",
    "        arrange(-tpm))$TF\n",
    "}\n",
    "\n",
    "for (this.cell.type in cell.types) {\n",
    "    cell.type.expr.TFs[[this.cell.type]] = (cell.type.tpm.melt %>%\n",
    "        filter(cell.type == this.cell.type, tpm >= 10.0) %>%\n",
    "        inner_join(TF.to.symbol, by = c(\"gene\" = \"symbol\")) %>%\n",
    "        arrange(-tpm))$TF\n",
    "}"
   ]
  },
  {
   "cell_type": "code",
   "execution_count": 34,
   "metadata": {
    "collapsed": true
   },
   "outputs": [],
   "source": [
    "cell.type.expr.TFs[[\"Pharyngeal muscle and epithelia\"]] = unique((cell.type.tpm.melt %>%\n",
    "    filter(cell.type %in% c(\"Pharyngeal muscle\", \"Pharyngeal epithelia\"), tpm >= 10.0) %>%\n",
    "    inner_join(TF.to.symbol, by = c(\"gene\" = \"symbol\")) %>%\n",
    "    arrange(-tpm))$TF)\n",
    "\n",
    "cell.type.expr.TFs[[\"Non-seam hypodermis and rectum\"]] = unique((cell.type.tpm.melt %>%\n",
    "    filter(cell.type %in% c(\"Non-seam hypodermis\", \"Rectum\"), tpm >= 10.0) %>%\n",
    "    inner_join(TF.to.symbol, by = c(\"gene\" = \"symbol\")) %>%\n",
    "    arrange(-tpm))$TF)\n",
    "\n",
    "cell.type.expr.TFs[[\"Non-pharyngeal epithelia\"]] = unique((cell.type.tpm.melt %>%\n",
    "    filter(cell.type %in% c(\n",
    "        \"Non-seam hypodermis\", \"Rectum\", \"Vulval precursors\",\n",
    "        \"Seam cells\", \"Socket cells\", \"Excretory cells\"), tpm >= 10.0) %>%\n",
    "    inner_join(TF.to.symbol, by = c(\"gene\" = \"symbol\")) %>%\n",
    "    arrange(-tpm))$TF)\n",
    "\n",
    "cell.type.expr.TFs[[\"Still in cell cycle\"]] = unique((cell.type.tpm.melt %>%\n",
    "    filter(cell.type %in% c(\n",
    "        \"Germline\", \"Somatic gonad precursors\",\n",
    "        \"Seam cells\", \"Vulval precursors\", \"Sex myoblasts\"), tpm >= 10.0) %>%\n",
    "    inner_join(TF.to.symbol, by = c(\"gene\" = \"symbol\")) %>%\n",
    "    arrange(-tpm))$TF)"
   ]
  },
  {
   "cell_type": "code",
   "execution_count": 40,
   "metadata": {
    "collapsed": true
   },
   "outputs": [
    {
     "name": "stderr",
     "output_type": "stream",
     "text": [
      "Germline\n",
      "51\n",
      "Intestinal/rectal muscle\n",
      "72\n",
      "Coelomocytes\n",
      "66\n",
      "Ciliated sensory neurons\n",
      "81\n",
      "Seam cells\n",
      "89\n",
      "Non-seam hypodermis\n",
      "75\n",
      "Pharyngeal epithelia\n",
      "78\n",
      "Touch receptor neurons\n",
      "71\n",
      "Body wall muscle\n",
      "76\n",
      "Cholinergic neurons\n",
      "95\n",
      "Distal tip cells\n",
      "74\n",
      "Vulval precursors\n",
      "85\n",
      "Other interneurons\n",
      "80\n",
      "GABAergic neurons\n",
      "85\n",
      "Am/PH sheath cells\n",
      "72\n",
      "Pharyngeal muscle\n",
      "81\n",
      "Pharyngeal neurons\n",
      "85\n",
      "Oxygen sensory neurons\n",
      "77\n",
      "Somatic gonad precursors\n",
      "76\n",
      "flp-1(+) interneurons\n",
      "61\n",
      "Canal associated neurons\n",
      "74\n",
      "Pharyngeal gland\n",
      "65\n",
      "Sex myoblasts\n",
      "84\n",
      "Excretory cells\n",
      "73\n",
      "Socket cells\n",
      "88\n",
      "Rectum\n",
      "64\n",
      "Intestine\n",
      "82\n"
     ]
    }
   ],
   "source": [
    "ct.expr.models = list()\n",
    "\n",
    "for(cell.type in cell.types) {\n",
    "    message(cell.type)\n",
    "    \n",
    "    y = log2(cell.type.tpm[all.heatmap.genes, cell.type] + 1)\n",
    "    \n",
    "    tmp.df = df[df$gene %in% all.heatmap.genes,]\n",
    "    X = as.matrix(tmp.df[, cell.type.expr.TFs[[cell.type]]])\n",
    "    rownames(X) = tmp.df$gene\n",
    "    X = X[all.heatmap.genes, apply(X, 2, function(x) sum(x > 0) >= 50)]\n",
    "    message(ncol(X))\n",
    "        \n",
    "    ct.expr.models[[cell.type]] = cv.glmnet(X, y, family = \"gaussian\", alpha = 0.5)\n",
    "}"
   ]
  },
  {
   "cell_type": "code",
   "execution_count": 9,
   "metadata": {
    "collapsed": false
   },
   "outputs": [
    {
     "data": {
      "image/png": "[encoded data removed]",
      "text/plain": [
       "plot without title"
      ]
     },
     "metadata": {},
     "output_type": "display_data"
    }
   ],
   "source": [
    "plot(ct.expr.models[[\"Body wall muscle\"]])"
   ]
  },
  {
   "cell_type": "code",
   "execution_count": 20,
   "metadata": {
    "collapsed": true
   },
   "outputs": [],
   "source": [
    "get.model.R2 = function(model, min=F) {\n",
    "    if (min)\n",
    "        model$glmnet.fit$dev.ratio[which(model$lambda == model$lambda.min)]\n",
    "    else\n",
    "        model$glmnet.fit$dev.ratio[which(model$lambda == model$lambda.1se)]\n",
    "}"
   ]
  },
  {
   "cell_type": "code",
   "execution_count": 21,
   "metadata": {
    "collapsed": false
   },
   "outputs": [
    {
     "data": {
      "text/plain": [
       "   Min. 1st Qu.  Median    Mean 3rd Qu.    Max. \n",
       "0.04268 0.07667 0.08997 0.09654 0.11950 0.16210 "
      ]
     },
     "metadata": {},
     "output_type": "display_data"
    },
    {
     "data": {
      "text/html": [
       "<dl class=dl-horizontal>\n",
       "\t<dt>Body wall muscle</dt>\n",
       "\t\t<dd>0.162147910886027</dd>\n",
       "\t<dt>Intestine</dt>\n",
       "\t\t<dd>0.16154685901579</dd>\n",
       "\t<dt>Germline</dt>\n",
       "\t\t<dd>0.141386454998899</dd>\n",
       "\t<dt>Cholinergic neurons</dt>\n",
       "\t\t<dd>0.130760130192906</dd>\n",
       "\t<dt>Non-seam hypodermis</dt>\n",
       "\t\t<dd>0.126778745520233</dd>\n",
       "\t<dt>Ciliated sensory neurons</dt>\n",
       "\t\t<dd>0.1224675025013</dd>\n",
       "\t<dt>Rectum</dt>\n",
       "\t\t<dd>0.120440885303258</dd>\n",
       "\t<dt>Intestinal/rectal muscle</dt>\n",
       "\t\t<dd>0.118565898860239</dd>\n",
       "\t<dt>Seam cells</dt>\n",
       "\t\t<dd>0.115741991861511</dd>\n",
       "\t<dt>GABAergic neurons</dt>\n",
       "\t\t<dd>0.107064908576848</dd>\n",
       "\t<dt>Pharyngeal muscle</dt>\n",
       "\t\t<dd>0.0981054076494166</dd>\n",
       "\t<dt>Sex myoblasts</dt>\n",
       "\t\t<dd>0.0936519591526038</dd>\n",
       "\t<dt>Other interneurons</dt>\n",
       "\t\t<dd>0.0903685641568252</dd>\n",
       "\t<dt>Somatic gonad precursors</dt>\n",
       "\t\t<dd>0.0899657551403969</dd>\n",
       "\t<dt>Vulval precursors</dt>\n",
       "\t\t<dd>0.0899286979080539</dd>\n",
       "\t<dt>Oxygen sensory neurons</dt>\n",
       "\t\t<dd>0.0874286910213903</dd>\n",
       "\t<dt>Pharyngeal epithelia</dt>\n",
       "\t\t<dd>0.0864947023310837</dd>\n",
       "\t<dt>Socket cells</dt>\n",
       "\t\t<dd>0.0834452469807775</dd>\n",
       "\t<dt>Pharyngeal neurons</dt>\n",
       "\t\t<dd>0.0820537957635324</dd>\n",
       "\t<dt>Distal tip cells</dt>\n",
       "\t\t<dd>0.0790136379153143</dd>\n",
       "\t<dt>flp-1(+) interneurons</dt>\n",
       "\t\t<dd>0.0743353179263179</dd>\n",
       "\t<dt>Excretory cells</dt>\n",
       "\t\t<dd>0.0724350569420139</dd>\n",
       "\t<dt>Touch receptor neurons</dt>\n",
       "\t\t<dd>0.0702922759193635</dd>\n",
       "\t<dt>Coelomocytes</dt>\n",
       "\t\t<dd>0.0651261864034653</dd>\n",
       "\t<dt>Pharyngeal gland</dt>\n",
       "\t\t<dd>0.0493627000156417</dd>\n",
       "\t<dt>Am/PH sheath cells</dt>\n",
       "\t\t<dd>0.044996345472712</dd>\n",
       "\t<dt>Canal associated neurons</dt>\n",
       "\t\t<dd>0.0426816916922475</dd>\n",
       "</dl>\n"
      ],
      "text/latex": [
       "\\begin{description*}\n",
       "\\item[Body wall muscle] 0.162147910886027\n",
       "\\item[Intestine] 0.16154685901579\n",
       "\\item[Germline] 0.141386454998899\n",
       "\\item[Cholinergic neurons] 0.130760130192906\n",
       "\\item[Non-seam hypodermis] 0.126778745520233\n",
       "\\item[Ciliated sensory neurons] 0.1224675025013\n",
       "\\item[Rectum] 0.120440885303258\n",
       "\\item[Intestinal/rectal muscle] 0.118565898860239\n",
       "\\item[Seam cells] 0.115741991861511\n",
       "\\item[GABAergic neurons] 0.107064908576848\n",
       "\\item[Pharyngeal muscle] 0.0981054076494166\n",
       "\\item[Sex myoblasts] 0.0936519591526038\n",
       "\\item[Other interneurons] 0.0903685641568252\n",
       "\\item[Somatic gonad precursors] 0.0899657551403969\n",
       "\\item[Vulval precursors] 0.0899286979080539\n",
       "\\item[Oxygen sensory neurons] 0.0874286910213903\n",
       "\\item[Pharyngeal epithelia] 0.0864947023310837\n",
       "\\item[Socket cells] 0.0834452469807775\n",
       "\\item[Pharyngeal neurons] 0.0820537957635324\n",
       "\\item[Distal tip cells] 0.0790136379153143\n",
       "\\item[flp-1(+) interneurons] 0.0743353179263179\n",
       "\\item[Excretory cells] 0.0724350569420139\n",
       "\\item[Touch receptor neurons] 0.0702922759193635\n",
       "\\item[Coelomocytes] 0.0651261864034653\n",
       "\\item[Pharyngeal gland] 0.0493627000156417\n",
       "\\item[Am/PH sheath cells] 0.044996345472712\n",
       "\\item[Canal associated neurons] 0.0426816916922475\n",
       "\\end{description*}\n"
      ],
      "text/markdown": [
       "Body wall muscle\n",
       ":   0.162147910886027Intestine\n",
       ":   0.16154685901579Germline\n",
       ":   0.141386454998899Cholinergic neurons\n",
       ":   0.130760130192906Non-seam hypodermis\n",
       ":   0.126778745520233Ciliated sensory neurons\n",
       ":   0.1224675025013Rectum\n",
       ":   0.120440885303258Intestinal/rectal muscle\n",
       ":   0.118565898860239Seam cells\n",
       ":   0.115741991861511GABAergic neurons\n",
       ":   0.107064908576848Pharyngeal muscle\n",
       ":   0.0981054076494166Sex myoblasts\n",
       ":   0.0936519591526038Other interneurons\n",
       ":   0.0903685641568252Somatic gonad precursors\n",
       ":   0.0899657551403969Vulval precursors\n",
       ":   0.0899286979080539Oxygen sensory neurons\n",
       ":   0.0874286910213903Pharyngeal epithelia\n",
       ":   0.0864947023310837Socket cells\n",
       ":   0.0834452469807775Pharyngeal neurons\n",
       ":   0.0820537957635324Distal tip cells\n",
       ":   0.0790136379153143flp-1(+) interneurons\n",
       ":   0.0743353179263179Excretory cells\n",
       ":   0.0724350569420139Touch receptor neurons\n",
       ":   0.0702922759193635Coelomocytes\n",
       ":   0.0651261864034653Pharyngeal gland\n",
       ":   0.0493627000156417Am/PH sheath cells\n",
       ":   0.044996345472712Canal associated neurons\n",
       ":   0.0426816916922475\n",
       "\n"
      ],
      "text/plain": [
       "        Body wall muscle                Intestine                 Germline \n",
       "              0.16214791               0.16154686               0.14138645 \n",
       "     Cholinergic neurons      Non-seam hypodermis Ciliated sensory neurons \n",
       "              0.13076013               0.12677875               0.12246750 \n",
       "                  Rectum Intestinal/rectal muscle               Seam cells \n",
       "              0.12044089               0.11856590               0.11574199 \n",
       "       GABAergic neurons        Pharyngeal muscle            Sex myoblasts \n",
       "              0.10706491               0.09810541               0.09365196 \n",
       "      Other interneurons Somatic gonad precursors        Vulval precursors \n",
       "              0.09036856               0.08996576               0.08992870 \n",
       "  Oxygen sensory neurons     Pharyngeal epithelia             Socket cells \n",
       "              0.08742869               0.08649470               0.08344525 \n",
       "      Pharyngeal neurons         Distal tip cells    flp-1(+) interneurons \n",
       "              0.08205380               0.07901364               0.07433532 \n",
       "         Excretory cells   Touch receptor neurons             Coelomocytes \n",
       "              0.07243506               0.07029228               0.06512619 \n",
       "        Pharyngeal gland       Am/PH sheath cells Canal associated neurons \n",
       "              0.04936270               0.04499635               0.04268169 "
      ]
     },
     "metadata": {},
     "output_type": "display_data"
    }
   ],
   "source": [
    "summary(sapply(ct.expr.models, get.model.R2), decreasing = T)\n",
    "sort(sapply(ct.expr.models, get.model.R2), decreasing = T)"
   ]
  },
  {
   "cell_type": "code",
   "execution_count": 12,
   "metadata": {
    "collapsed": false
   },
   "outputs": [
    {
     "data": {
      "text/html": [
       "<ol class=list-inline>\n",
       "\t<li>139</li>\n",
       "\t<li>27</li>\n",
       "</ol>\n"
      ],
      "text/latex": [
       "\\begin{enumerate*}\n",
       "\\item 139\n",
       "\\item 27\n",
       "\\end{enumerate*}\n"
      ],
      "text/markdown": [
       "1. 139\n",
       "2. 27\n",
       "\n",
       "\n"
      ],
      "text/plain": [
       "[1] 139  27"
      ]
     },
     "metadata": {},
     "output_type": "display_data"
    },
    {
     "data": {
      "text/html": [
       "<ol class=list-inline>\n",
       "\t<li>49</li>\n",
       "\t<li>27</li>\n",
       "</ol>\n"
      ],
      "text/latex": [
       "\\begin{enumerate*}\n",
       "\\item 49\n",
       "\\item 27\n",
       "\\end{enumerate*}\n"
      ],
      "text/markdown": [
       "1. 49\n",
       "2. 27\n",
       "\n",
       "\n"
      ],
      "text/plain": [
       "[1] 49 27"
      ]
     },
     "metadata": {},
     "output_type": "display_data"
    },
    {
     "data": {
      "text/html": [
       "<table>\n",
       "<thead><tr><th></th><th scope=col>Germline</th><th scope=col>Intestinal/rectal muscle</th><th scope=col>Coelomocytes</th><th scope=col>Ciliated sensory neurons</th><th scope=col>Seam cells</th></tr></thead>\n",
       "<tbody>\n",
       "\t<tr><th scope=row>ALY.2_PE</th><td> 3.8008579  </td><td>   3.328370 </td><td>-999.000000 </td><td>-999.0000000</td><td>4.307476    </td></tr>\n",
       "\t<tr><th scope=row>C04F5.9_PE</th><td> 6.5710888  </td><td>-999.000000 </td><td>   0.000000 </td><td>-999.0000000</td><td>0.000000    </td></tr>\n",
       "\t<tr><th scope=row>C16A3.4_PE</th><td> 8.6008206  </td><td>   1.924676 </td><td>   1.798041 </td><td>   0.6503063</td><td>2.282488    </td></tr>\n",
       "\t<tr><th scope=row>F23B12.7_PE</th><td> 5.6597240  </td><td>   0.000000 </td><td>   0.000000 </td><td>-999.0000000</td><td>0.000000    </td></tr>\n",
       "\t<tr><th scope=row>F37D6.2_PE</th><td>-0.9263371  </td><td>   0.000000 </td><td>   0.000000 </td><td>   0.0000000</td><td>0.000000    </td></tr>\n",
       "</tbody>\n",
       "</table>\n"
      ],
      "text/latex": [
       "\\begin{tabular}{r|lllll}\n",
       "  & Germline & Intestinal/rectal muscle & Coelomocytes & Ciliated sensory neurons & Seam cells\\\\\n",
       "\\hline\n",
       "\tALY.2\\_PE &  3.8008579   &    3.328370  & -999.000000  & -999.0000000 & 4.307476    \\\\\n",
       "\tC04F5.9\\_PE &  6.5710888   & -999.000000  &    0.000000  & -999.0000000 & 0.000000    \\\\\n",
       "\tC16A3.4\\_PE &  8.6008206   &    1.924676  &    1.798041  &    0.6503063 & 2.282488    \\\\\n",
       "\tF23B12.7\\_PE &  5.6597240   &    0.000000  &    0.000000  & -999.0000000 & 0.000000    \\\\\n",
       "\tF37D6.2\\_PE & -0.9263371   &    0.000000  &    0.000000  &    0.0000000 & 0.000000    \\\\\n",
       "\\end{tabular}\n"
      ],
      "text/markdown": [
       "\n",
       "| <!--/--> | Germline | Intestinal/rectal muscle | Coelomocytes | Ciliated sensory neurons | Seam cells | \n",
       "|---|---|---|---|---|\n",
       "| ALY.2_PE |  3.8008579   |    3.328370  | -999.000000  | -999.0000000 | 4.307476     | \n",
       "| C04F5.9_PE |  6.5710888   | -999.000000  |    0.000000  | -999.0000000 | 0.000000     | \n",
       "| C16A3.4_PE |  8.6008206   |    1.924676  |    1.798041  |    0.6503063 | 2.282488     | \n",
       "| F23B12.7_PE |  5.6597240   |    0.000000  |    0.000000  | -999.0000000 | 0.000000     | \n",
       "| F37D6.2_PE | -0.9263371   |    0.000000  |    0.000000  |    0.0000000 | 0.000000     | \n",
       "\n",
       "\n"
      ],
      "text/plain": [
       "            Germline   Intestinal/rectal muscle Coelomocytes\n",
       "ALY.2_PE     3.8008579    3.328370              -999.000000 \n",
       "C04F5.9_PE   6.5710888 -999.000000                 0.000000 \n",
       "C16A3.4_PE   8.6008206    1.924676                 1.798041 \n",
       "F23B12.7_PE  5.6597240    0.000000                 0.000000 \n",
       "F37D6.2_PE  -0.9263371    0.000000                 0.000000 \n",
       "            Ciliated sensory neurons Seam cells\n",
       "ALY.2_PE    -999.0000000             4.307476  \n",
       "C04F5.9_PE  -999.0000000             0.000000  \n",
       "C16A3.4_PE     0.6503063             2.282488  \n",
       "F23B12.7_PE -999.0000000             0.000000  \n",
       "F37D6.2_PE     0.0000000             0.000000  "
      ]
     },
     "metadata": {},
     "output_type": "display_data"
    }
   ],
   "source": [
    "model.coef.df = do.call(rbind, lapply(cell.types, function(ct) { data.frame(\n",
    "    cell.type = ct,\n",
    "    tf = names(coef(ct.expr.models[[ct]], s = \"lambda.1se\")[-1, 1]),\n",
    "    value = coef(ct.expr.models[[ct]], s = \"lambda.1se\")[-1, 1]) }))\n",
    "\n",
    "model.coef.mat = acast(model.coef.df, tf ~ cell.type, value.var = \"value\", fill = -999)\n",
    "dim(model.coef.mat)\n",
    "\n",
    "model.coef.mat = model.coef.mat[apply(model.coef.mat, 1, max) >= 5,]\n",
    "dim(model.coef.mat)\n",
    "\n",
    "model.coef.mat[1:5, 1:5]"
   ]
  },
  {
   "cell_type": "code",
   "execution_count": 13,
   "metadata": {
    "collapsed": false
   },
   "outputs": [],
   "source": [
    "zork = model.coef.mat\n",
    "zork = ifelse(zork < 0 & zork != -999, 0, zork)\n",
    "zork = ifelse(zork == -999, -0.1, zork)\n",
    "zork = ifelse(zork > 10, 10, zork)\n",
    "\n",
    "pal = colorRampPalette(rev(brewer.pal(n = 7, name = \"RdYlBu\")))(250)\n",
    "pal[1] = \"grey60\"\n",
    "pal = pal[c(1, 71:250)]"
   ]
  },
  {
   "cell_type": "code",
   "execution_count": 14,
   "metadata": {
    "collapsed": false
   },
   "outputs": [
    {
     "data": {
      "text/html": [
       "<ol class=list-inline>\n",
       "\t<li>'ALY-2 (PE)'</li>\n",
       "\t<li>'C04F5.9 (PE)'</li>\n",
       "\t<li>'C16A3.4 (PE)'</li>\n",
       "\t<li>'F23B12.7 (PE)'</li>\n",
       "\t<li>'F37D6.2 (PE)'</li>\n",
       "\t<li>'F49E8.2 (PE)'</li>\n",
       "\t<li>'LIN-13 (PE)'</li>\n",
       "\t<li>'LIN-53 (PE)'</li>\n",
       "\t<li>'LIN-9 (PE)'</li>\n",
       "\t<li>'MES-2 (PE)'</li>\n",
       "\t<li>'R02D3.7 (PE)'</li>\n",
       "\t<li>'RBR-2 (PE)'</li>\n",
       "\t<li>'XBP-1 (PE)'</li>\n",
       "\t<li>'XND-1 (PE)'</li>\n",
       "\t<li>'ZTF-4 (PE)'</li>\n",
       "\t<li>'ZTF-7 (PE)'</li>\n",
       "\t<li>'CEH-18 (EM)'</li>\n",
       "\t<li>'EGL-13 (PE)'</li>\n",
       "\t<li>'F13C5.2 (EM)'</li>\n",
       "\t<li>'F16B12.6 (PE)'</li>\n",
       "\t<li>'HLH-8 (EM)'</li>\n",
       "\t<li>'HMG-11 (PE)'</li>\n",
       "\t<li>'LIN-15B (PE)'</li>\n",
       "\t<li>'MAB-5 (PE)'</li>\n",
       "\t<li>'SYD-9 (EM)'</li>\n",
       "\t<li>'UNC-120 (EM)'</li>\n",
       "\t<li>'ZAG-1 (PE)'</li>\n",
       "\t<li>'CEH-34 (EM)'</li>\n",
       "\t<li>'CEH-39 (EM)'</li>\n",
       "\t<li>'LIN-39 (PE)'</li>\n",
       "\t<li>'NHR-21 (PE)'</li>\n",
       "\t<li>'CEH-48 (EM)'</li>\n",
       "\t<li>'ELT-2 (PE)'</li>\n",
       "\t<li>'FKH-10 (PE)'</li>\n",
       "\t<li>'FKH-8 (PE)'</li>\n",
       "\t<li>'UNC-42 (EM)'</li>\n",
       "\t<li>'UNC-86 (PE)'</li>\n",
       "\t<li>'ZTF-11 (PE)'</li>\n",
       "\t<li>'BLMP-1 (PE)'</li>\n",
       "\t<li>'CEH-16 (PE)'</li>\n",
       "\t<li>'ETS-4 (EM)'</li>\n",
       "\t<li>'NHR-25 (PE)'</li>\n",
       "\t<li>'NHR-43 (PE)'</li>\n",
       "\t<li>'RNT-1 (PE)'</li>\n",
       "\t<li>'PHA-4 (PE)'</li>\n",
       "\t<li>'HLH-1 (EM)'</li>\n",
       "\t<li>'CEH-31 (EM)'</li>\n",
       "\t<li>'UNC-55 (PE)'</li>\n",
       "\t<li>'CES-1 (PE)'</li>\n",
       "</ol>\n"
      ],
      "text/latex": [
       "\\begin{enumerate*}\n",
       "\\item 'ALY-2 (PE)'\n",
       "\\item 'C04F5.9 (PE)'\n",
       "\\item 'C16A3.4 (PE)'\n",
       "\\item 'F23B12.7 (PE)'\n",
       "\\item 'F37D6.2 (PE)'\n",
       "\\item 'F49E8.2 (PE)'\n",
       "\\item 'LIN-13 (PE)'\n",
       "\\item 'LIN-53 (PE)'\n",
       "\\item 'LIN-9 (PE)'\n",
       "\\item 'MES-2 (PE)'\n",
       "\\item 'R02D3.7 (PE)'\n",
       "\\item 'RBR-2 (PE)'\n",
       "\\item 'XBP-1 (PE)'\n",
       "\\item 'XND-1 (PE)'\n",
       "\\item 'ZTF-4 (PE)'\n",
       "\\item 'ZTF-7 (PE)'\n",
       "\\item 'CEH-18 (EM)'\n",
       "\\item 'EGL-13 (PE)'\n",
       "\\item 'F13C5.2 (EM)'\n",
       "\\item 'F16B12.6 (PE)'\n",
       "\\item 'HLH-8 (EM)'\n",
       "\\item 'HMG-11 (PE)'\n",
       "\\item 'LIN-15B (PE)'\n",
       "\\item 'MAB-5 (PE)'\n",
       "\\item 'SYD-9 (EM)'\n",
       "\\item 'UNC-120 (EM)'\n",
       "\\item 'ZAG-1 (PE)'\n",
       "\\item 'CEH-34 (EM)'\n",
       "\\item 'CEH-39 (EM)'\n",
       "\\item 'LIN-39 (PE)'\n",
       "\\item 'NHR-21 (PE)'\n",
       "\\item 'CEH-48 (EM)'\n",
       "\\item 'ELT-2 (PE)'\n",
       "\\item 'FKH-10 (PE)'\n",
       "\\item 'FKH-8 (PE)'\n",
       "\\item 'UNC-42 (EM)'\n",
       "\\item 'UNC-86 (PE)'\n",
       "\\item 'ZTF-11 (PE)'\n",
       "\\item 'BLMP-1 (PE)'\n",
       "\\item 'CEH-16 (PE)'\n",
       "\\item 'ETS-4 (EM)'\n",
       "\\item 'NHR-25 (PE)'\n",
       "\\item 'NHR-43 (PE)'\n",
       "\\item 'RNT-1 (PE)'\n",
       "\\item 'PHA-4 (PE)'\n",
       "\\item 'HLH-1 (EM)'\n",
       "\\item 'CEH-31 (EM)'\n",
       "\\item 'UNC-55 (PE)'\n",
       "\\item 'CES-1 (PE)'\n",
       "\\end{enumerate*}\n"
      ],
      "text/markdown": [
       "1. 'ALY-2 (PE)'\n",
       "2. 'C04F5.9 (PE)'\n",
       "3. 'C16A3.4 (PE)'\n",
       "4. 'F23B12.7 (PE)'\n",
       "5. 'F37D6.2 (PE)'\n",
       "6. 'F49E8.2 (PE)'\n",
       "7. 'LIN-13 (PE)'\n",
       "8. 'LIN-53 (PE)'\n",
       "9. 'LIN-9 (PE)'\n",
       "10. 'MES-2 (PE)'\n",
       "11. 'R02D3.7 (PE)'\n",
       "12. 'RBR-2 (PE)'\n",
       "13. 'XBP-1 (PE)'\n",
       "14. 'XND-1 (PE)'\n",
       "15. 'ZTF-4 (PE)'\n",
       "16. 'ZTF-7 (PE)'\n",
       "17. 'CEH-18 (EM)'\n",
       "18. 'EGL-13 (PE)'\n",
       "19. 'F13C5.2 (EM)'\n",
       "20. 'F16B12.6 (PE)'\n",
       "21. 'HLH-8 (EM)'\n",
       "22. 'HMG-11 (PE)'\n",
       "23. 'LIN-15B (PE)'\n",
       "24. 'MAB-5 (PE)'\n",
       "25. 'SYD-9 (EM)'\n",
       "26. 'UNC-120 (EM)'\n",
       "27. 'ZAG-1 (PE)'\n",
       "28. 'CEH-34 (EM)'\n",
       "29. 'CEH-39 (EM)'\n",
       "30. 'LIN-39 (PE)'\n",
       "31. 'NHR-21 (PE)'\n",
       "32. 'CEH-48 (EM)'\n",
       "33. 'ELT-2 (PE)'\n",
       "34. 'FKH-10 (PE)'\n",
       "35. 'FKH-8 (PE)'\n",
       "36. 'UNC-42 (EM)'\n",
       "37. 'UNC-86 (PE)'\n",
       "38. 'ZTF-11 (PE)'\n",
       "39. 'BLMP-1 (PE)'\n",
       "40. 'CEH-16 (PE)'\n",
       "41. 'ETS-4 (EM)'\n",
       "42. 'NHR-25 (PE)'\n",
       "43. 'NHR-43 (PE)'\n",
       "44. 'RNT-1 (PE)'\n",
       "45. 'PHA-4 (PE)'\n",
       "46. 'HLH-1 (EM)'\n",
       "47. 'CEH-31 (EM)'\n",
       "48. 'UNC-55 (PE)'\n",
       "49. 'CES-1 (PE)'\n",
       "\n",
       "\n"
      ],
      "text/plain": [
       " [1] \"ALY-2 (PE)\"    \"C04F5.9 (PE)\"  \"C16A3.4 (PE)\"  \"F23B12.7 (PE)\"\n",
       " [5] \"F37D6.2 (PE)\"  \"F49E8.2 (PE)\"  \"LIN-13 (PE)\"   \"LIN-53 (PE)\"  \n",
       " [9] \"LIN-9 (PE)\"    \"MES-2 (PE)\"    \"R02D3.7 (PE)\"  \"RBR-2 (PE)\"   \n",
       "[13] \"XBP-1 (PE)\"    \"XND-1 (PE)\"    \"ZTF-4 (PE)\"    \"ZTF-7 (PE)\"   \n",
       "[17] \"CEH-18 (EM)\"   \"EGL-13 (PE)\"   \"F13C5.2 (EM)\"  \"F16B12.6 (PE)\"\n",
       "[21] \"HLH-8 (EM)\"    \"HMG-11 (PE)\"   \"LIN-15B (PE)\"  \"MAB-5 (PE)\"   \n",
       "[25] \"SYD-9 (EM)\"    \"UNC-120 (EM)\"  \"ZAG-1 (PE)\"    \"CEH-34 (EM)\"  \n",
       "[29] \"CEH-39 (EM)\"   \"LIN-39 (PE)\"   \"NHR-21 (PE)\"   \"CEH-48 (EM)\"  \n",
       "[33] \"ELT-2 (PE)\"    \"FKH-10 (PE)\"   \"FKH-8 (PE)\"    \"UNC-42 (EM)\"  \n",
       "[37] \"UNC-86 (PE)\"   \"ZTF-11 (PE)\"   \"BLMP-1 (PE)\"   \"CEH-16 (PE)\"  \n",
       "[41] \"ETS-4 (EM)\"    \"NHR-25 (PE)\"   \"NHR-43 (PE)\"   \"RNT-1 (PE)\"   \n",
       "[45] \"PHA-4 (PE)\"    \"HLH-1 (EM)\"    \"CEH-31 (EM)\"   \"UNC-55 (PE)\"  \n",
       "[49] \"CES-1 (PE)\"   "
      ]
     },
     "metadata": {},
     "output_type": "display_data"
    }
   ],
   "source": [
    "rownames(zork) = sub(\"(?<=[A-Z])[.]\", \"-\", rownames(zork), perl = T)\n",
    "rownames(zork) = sub(\"_\", \" \", rownames(zork))\n",
    "rownames(zork) = sub(\"EM\", \"(EM)\", rownames(zork))\n",
    "rownames(zork) = sub(\"PE\", \"(PE)\", rownames(zork))\n",
    "rownames(zork)"
   ]
  },
  {
   "cell_type": "code",
   "execution_count": 15,
   "metadata": {
    "collapsed": true
   },
   "outputs": [],
   "source": [
    "rownames(zork) = ifelse(rownames(zork) == \"F37D6.2 (PE)\", \"ROW-1 (PE)\", rownames(zork))"
   ]
  },
  {
   "cell_type": "code",
   "execution_count": 16,
   "metadata": {
    "collapsed": false
   },
   "outputs": [
    {
     "data": {
      "text/html": [
       "<strong>PNG:</strong> 2"
      ],
      "text/latex": [
       "\\textbf{PNG:} 2"
      ],
      "text/markdown": [
       "**PNG:** 2"
      ],
      "text/plain": [
       "PNG \n",
       "  2 "
      ]
     },
     "metadata": {},
     "output_type": "display_data"
    }
   ],
   "source": [
    "pdf(\"plots/Fig_5.pdf\", width = 4, height = 6, onefile = F)\n",
    "pheatmap(zork, scale = \"none\", clustering_method = \"ward.D2\",\n",
    "    treeheight_row = 16, treeheight_col = 16, fontsize = 6, color = pal)\n",
    "dev.off()"
   ]
  },
  {
   "cell_type": "code",
   "execution_count": 17,
   "metadata": {
    "collapsed": false
   },
   "outputs": [
    {
     "data": {
      "image/png": "[encoded data removed]",
      "text/plain": [
       "plot without title"
      ]
     },
     "metadata": {},
     "output_type": "display_data"
    }
   ],
   "source": [
    "pheatmap(zork, scale = \"none\", clustering_method = \"ward.D2\",\n",
    "    treeheight_row = 16, treeheight_col = 16, fontsize = 6, color = pal)"
   ]
  },
  {
   "cell_type": "code",
   "execution_count": 22,
   "metadata": {
    "collapsed": false
   },
   "outputs": [],
   "source": [
    "genes.with.peak = list()\n",
    "genes.without.peak = list()\n",
    "\n",
    "for (TF in all.TFs) {\n",
    "    if (sum(df[df$gene %in% all.heatmap.genes, TF]) > 0) {\n",
    "        genes.with.peak[[TF]] = df[df$gene %in% all.heatmap.genes & df[, TF] > 0,]$gene\n",
    "        genes.without.peak[[TF]] = df[df$gene %in% all.heatmap.genes & df[, TF] == 0,]$gene\n",
    "    }\n",
    "}"
   ]
  },
  {
   "cell_type": "code",
   "execution_count": 23,
   "metadata": {
    "collapsed": true
   },
   "outputs": [],
   "source": [
    "for (TF in c(\"Germline:EFL.1_PE\", \"Germline:DPL.1_PE\")) {\n",
    "    if (sum(df[df$gene %in% all.heatmap.genes, TF]) > 0) {\n",
    "        genes.with.peak[[TF]] = df[df$gene %in% all.heatmap.genes & df[, TF] > 0,]$gene\n",
    "        genes.without.peak[[TF]] = df[df$gene %in% all.heatmap.genes & df[, TF] == 0,]$gene\n",
    "    }\n",
    "}"
   ]
  },
  {
   "cell_type": "code",
   "execution_count": 24,
   "metadata": {
    "collapsed": true
   },
   "outputs": [],
   "source": [
    "genes.highest.expressed.in = list()\n",
    "\n",
    "for (ct in cell.types) {\n",
    "    genes.highest.expressed.in[[ct]] =\n",
    "        intersect(\n",
    "            (top.2.cell.types.per.gene %>% filter(max.cell.type == ct))$gene,\n",
    "            all.heatmap.genes)\n",
    "}"
   ]
  },
  {
   "cell_type": "code",
   "execution_count": 25,
   "metadata": {
    "collapsed": false
   },
   "outputs": [
    {
     "data": {
      "text/html": [
       "606"
      ],
      "text/latex": [
       "606"
      ],
      "text/markdown": [
       "606"
      ],
      "text/plain": [
       "[1] 606"
      ]
     },
     "metadata": {},
     "output_type": "display_data"
    }
   ],
   "source": [
    "length(genes.with.peak[[\"FKH.8_PE\"]])"
   ]
  },
  {
   "cell_type": "code",
   "execution_count": 26,
   "metadata": {
    "collapsed": false
   },
   "outputs": [
    {
     "data": {
      "text/html": [
       "<table>\n",
       "<thead><tr><th scope=col>TF</th><th scope=col>cell.type</th><th scope=col>label</th><th scope=col>prop.with.peak</th><th scope=col>prop.without.peak</th><th scope=col>ratio</th></tr></thead>\n",
       "<tbody>\n",
       "\t<tr><td>HLH.1_EM                            </td><td>Body wall muscle                    </td><td>HLH-1 (EM)\n",
       "Body wall muscle        </td><td>0.16878981                          </td><td>0.01941140                          </td><td>8.695398                            </td></tr>\n",
       "\t<tr><td>HLH.8_EM                            </td><td>Intestinal/rectal muscle            </td><td>HLH-8 (EM)\n",
       "Intestinal/rectal muscle</td><td>0.13138686                          </td><td>0.01958471                          </td><td>6.708645                            </td></tr>\n",
       "\t<tr><td>PHA.4_PE                            </td><td>Pharyngeal muscle                   </td><td>PHA-4 (PE)\n",
       "Pharyngeal muscle       </td><td>0.07280514                          </td><td>0.01511370                          </td><td>4.817162                            </td></tr>\n",
       "\t<tr><td>PHA.4_PE                            </td><td>Pharyngeal epithelia                </td><td>PHA-4 (PE)\n",
       "Pharyngeal epithelia    </td><td>0.10206995                          </td><td>0.02981143                          </td><td>3.423853                            </td></tr>\n",
       "\t<tr><td>FKH.8_PE                            </td><td>Ciliated sensory neurons            </td><td>FKH-8 (PE)\n",
       "Ciliated sensory neurons</td><td>0.31353135                          </td><td>0.04096416                          </td><td>7.653797                            </td></tr>\n",
       "\t<tr><td>UNC.86_PE                           </td><td>Touch receptor neurons              </td><td>UNC-86 (PE)\n",
       "Touch receptor neurons </td><td>0.12587413                          </td><td>0.02365798                          </td><td>5.320578                            </td></tr>\n",
       "\t<tr><td>UNC.55_PE                           </td><td>GABAergic neurons                   </td><td>UNC-55 (PE)\n",
       "GABAergic neurons      </td><td>0.10352673                          </td><td>0.03413499                          </td><td>3.032863                            </td></tr>\n",
       "\t<tr><td>NHR.25_PE                           </td><td>Non-seam hypodermis                 </td><td>NHR-25 (PE)\n",
       "Non-seam hypodermis    </td><td>0.12970711                          </td><td>0.01646403                          </td><td>7.878210                            </td></tr>\n",
       "\t<tr><td>NHR.25_PE                           </td><td>Socket cells                        </td><td>NHR-25 (PE)\n",
       "Socket cells           </td><td>0.08786611                          </td><td>0.03584093                          </td><td>2.451558                            </td></tr>\n",
       "\t<tr><td>ELT.2_PE                            </td><td>Intestine                           </td><td>ELT-2 (PE)\n",
       "Intestine               </td><td>0.34081104                          </td><td>0.04185672                          </td><td>8.142325                            </td></tr>\n",
       "\t<tr><td>ZTF.7_PE                            </td><td>Intestine                           </td><td>ZTF-7 (PE)\n",
       "Intestine               </td><td>0.34722222                          </td><td>0.07985013                          </td><td>4.348424                            </td></tr>\n",
       "\t<tr><td>XND.1_PE                            </td><td>Germline                            </td><td>XND-1 (PE)\n",
       "Germline                </td><td>0.49889625                          </td><td>0.15416667                          </td><td>3.236084                            </td></tr>\n",
       "\t<tr><td>F49E8.2_PE                          </td><td>Germline                            </td><td>F49E8.2 (PE)\n",
       "Germline              </td><td>0.54044118                          </td><td>0.16029253                          </td><td>3.371593                            </td></tr>\n",
       "</tbody>\n",
       "</table>\n"
      ],
      "text/latex": [
       "\\begin{tabular}{r|llllll}\n",
       " TF & cell.type & label & prop.with.peak & prop.without.peak & ratio\\\\\n",
       "\\hline\n",
       "\t HLH.1\\_EM                           & Body wall muscle                     & HLH-1 (EM)\n",
       "Body wall muscle         & 0.16878981                           & 0.01941140                           & 8.695398                            \\\\\n",
       "\t HLH.8\\_EM                           & Intestinal/rectal muscle             & HLH-8 (EM)\n",
       "Intestinal/rectal muscle & 0.13138686                           & 0.01958471                           & 6.708645                            \\\\\n",
       "\t PHA.4\\_PE                           & Pharyngeal muscle                    & PHA-4 (PE)\n",
       "Pharyngeal muscle        & 0.07280514                           & 0.01511370                           & 4.817162                            \\\\\n",
       "\t PHA.4\\_PE                           & Pharyngeal epithelia                 & PHA-4 (PE)\n",
       "Pharyngeal epithelia     & 0.10206995                           & 0.02981143                           & 3.423853                            \\\\\n",
       "\t FKH.8\\_PE                           & Ciliated sensory neurons             & FKH-8 (PE)\n",
       "Ciliated sensory neurons & 0.31353135                           & 0.04096416                           & 7.653797                            \\\\\n",
       "\t UNC.86\\_PE                          & Touch receptor neurons               & UNC-86 (PE)\n",
       "Touch receptor neurons  & 0.12587413                           & 0.02365798                           & 5.320578                            \\\\\n",
       "\t UNC.55\\_PE                          & GABAergic neurons                    & UNC-55 (PE)\n",
       "GABAergic neurons       & 0.10352673                           & 0.03413499                           & 3.032863                            \\\\\n",
       "\t NHR.25\\_PE                          & Non-seam hypodermis                  & NHR-25 (PE)\n",
       "Non-seam hypodermis     & 0.12970711                           & 0.01646403                           & 7.878210                            \\\\\n",
       "\t NHR.25\\_PE                          & Socket cells                         & NHR-25 (PE)\n",
       "Socket cells            & 0.08786611                           & 0.03584093                           & 2.451558                            \\\\\n",
       "\t ELT.2\\_PE                           & Intestine                            & ELT-2 (PE)\n",
       "Intestine                & 0.34081104                           & 0.04185672                           & 8.142325                            \\\\\n",
       "\t ZTF.7\\_PE                           & Intestine                            & ZTF-7 (PE)\n",
       "Intestine                & 0.34722222                           & 0.07985013                           & 4.348424                            \\\\\n",
       "\t XND.1\\_PE                           & Germline                             & XND-1 (PE)\n",
       "Germline                 & 0.49889625                           & 0.15416667                           & 3.236084                            \\\\\n",
       "\t F49E8.2\\_PE                         & Germline                             & F49E8.2 (PE)\n",
       "Germline               & 0.54044118                           & 0.16029253                           & 3.371593                            \\\\\n",
       "\\end{tabular}\n"
      ],
      "text/markdown": [
       "\n",
       "TF | cell.type | label | prop.with.peak | prop.without.peak | ratio | \n",
       "|---|---|---|---|---|---|---|---|---|---|---|---|---|\n",
       "| HLH.1_EM                             | Body wall muscle                     | HLH-1 (EM)\n",
       "Body wall muscle         | 0.16878981                           | 0.01941140                           | 8.695398                             | \n",
       "| HLH.8_EM                             | Intestinal/rectal muscle             | HLH-8 (EM)\n",
       "Intestinal/rectal muscle | 0.13138686                           | 0.01958471                           | 6.708645                             | \n",
       "| PHA.4_PE                             | Pharyngeal muscle                    | PHA-4 (PE)\n",
       "Pharyngeal muscle        | 0.07280514                           | 0.01511370                           | 4.817162                             | \n",
       "| PHA.4_PE                             | Pharyngeal epithelia                 | PHA-4 (PE)\n",
       "Pharyngeal epithelia     | 0.10206995                           | 0.02981143                           | 3.423853                             | \n",
       "| FKH.8_PE                             | Ciliated sensory neurons             | FKH-8 (PE)\n",
       "Ciliated sensory neurons | 0.31353135                           | 0.04096416                           | 7.653797                             | \n",
       "| UNC.86_PE                            | Touch receptor neurons               | UNC-86 (PE)\n",
       "Touch receptor neurons  | 0.12587413                           | 0.02365798                           | 5.320578                             | \n",
       "| UNC.55_PE                            | GABAergic neurons                    | UNC-55 (PE)\n",
       "GABAergic neurons       | 0.10352673                           | 0.03413499                           | 3.032863                             | \n",
       "| NHR.25_PE                            | Non-seam hypodermis                  | NHR-25 (PE)\n",
       "Non-seam hypodermis     | 0.12970711                           | 0.01646403                           | 7.878210                             | \n",
       "| NHR.25_PE                            | Socket cells                         | NHR-25 (PE)\n",
       "Socket cells            | 0.08786611                           | 0.03584093                           | 2.451558                             | \n",
       "| ELT.2_PE                             | Intestine                            | ELT-2 (PE)\n",
       "Intestine                | 0.34081104                           | 0.04185672                           | 8.142325                             | \n",
       "| ZTF.7_PE                             | Intestine                            | ZTF-7 (PE)\n",
       "Intestine                | 0.34722222                           | 0.07985013                           | 4.348424                             | \n",
       "| XND.1_PE                             | Germline                             | XND-1 (PE)\n",
       "Germline                 | 0.49889625                           | 0.15416667                           | 3.236084                             | \n",
       "| F49E8.2_PE                           | Germline                             | F49E8.2 (PE)\n",
       "Germline               | 0.54044118                           | 0.16029253                           | 3.371593                             | \n",
       "\n",
       "\n"
      ],
      "text/plain": [
       "   TF         cell.type                label                               \n",
       "1  HLH.1_EM   Body wall muscle         HLH-1 (EM)\\nBody wall muscle        \n",
       "2  HLH.8_EM   Intestinal/rectal muscle HLH-8 (EM)\\nIntestinal/rectal muscle\n",
       "3  PHA.4_PE   Pharyngeal muscle        PHA-4 (PE)\\nPharyngeal muscle       \n",
       "4  PHA.4_PE   Pharyngeal epithelia     PHA-4 (PE)\\nPharyngeal epithelia    \n",
       "5  FKH.8_PE   Ciliated sensory neurons FKH-8 (PE)\\nCiliated sensory neurons\n",
       "6  UNC.86_PE  Touch receptor neurons   UNC-86 (PE)\\nTouch receptor neurons \n",
       "7  UNC.55_PE  GABAergic neurons        UNC-55 (PE)\\nGABAergic neurons      \n",
       "8  NHR.25_PE  Non-seam hypodermis      NHR-25 (PE)\\nNon-seam hypodermis    \n",
       "9  NHR.25_PE  Socket cells             NHR-25 (PE)\\nSocket cells           \n",
       "10 ELT.2_PE   Intestine                ELT-2 (PE)\\nIntestine               \n",
       "11 ZTF.7_PE   Intestine                ZTF-7 (PE)\\nIntestine               \n",
       "12 XND.1_PE   Germline                 XND-1 (PE)\\nGermline                \n",
       "13 F49E8.2_PE Germline                 F49E8.2 (PE)\\nGermline              \n",
       "   prop.with.peak prop.without.peak ratio   \n",
       "1  0.16878981     0.01941140        8.695398\n",
       "2  0.13138686     0.01958471        6.708645\n",
       "3  0.07280514     0.01511370        4.817162\n",
       "4  0.10206995     0.02981143        3.423853\n",
       "5  0.31353135     0.04096416        7.653797\n",
       "6  0.12587413     0.02365798        5.320578\n",
       "7  0.10352673     0.03413499        3.032863\n",
       "8  0.12970711     0.01646403        7.878210\n",
       "9  0.08786611     0.03584093        2.451558\n",
       "10 0.34081104     0.04185672        8.142325\n",
       "11 0.34722222     0.07985013        4.348424\n",
       "12 0.49889625     0.15416667        3.236084\n",
       "13 0.54044118     0.16029253        3.371593"
      ]
     },
     "metadata": {},
     "output_type": "display_data"
    }
   ],
   "source": [
    "zork = data.frame(\n",
    "    TF = c(\"HLH.1_EM\", \"HLH.8_EM\",\n",
    "           \"PHA.4_PE\", \"PHA.4_PE\",\n",
    "           \"FKH.8_PE\", \"UNC.86_PE\", \"UNC.55_PE\",\n",
    "           \"NHR.25_PE\", \"NHR.25_PE\",\n",
    "           \"ELT.2_PE\", \"ZTF.7_PE\",\n",
    "           \"XND.1_PE\", \"F49E8.2_PE\"),\n",
    "    cell.type = c(\n",
    "        \"Body wall muscle\", \"Intestinal/rectal muscle\",\n",
    "        \"Pharyngeal muscle\", \"Pharyngeal epithelia\",\n",
    "        \"Ciliated sensory neurons\", \"Touch receptor neurons\", \"GABAergic neurons\",\n",
    "        \"Non-seam hypodermis\", \"Socket cells\",\n",
    "        \"Intestine\", \"Intestine\",\n",
    "        \"Germline\", \"Germline\"),\n",
    "    label = c(\n",
    "        \"HLH-1 (EM)\\nBody wall muscle\",\n",
    "        \"HLH-8 (EM)\\nIntestinal/rectal muscle\",\n",
    "        \"PHA-4 (PE)\\nPharyngeal muscle\",\n",
    "        \"PHA-4 (PE)\\nPharyngeal epithelia\",\n",
    "        \"FKH-8 (PE)\\nCiliated sensory neurons\",\n",
    "        \"UNC-86 (PE)\\nTouch receptor neurons\",\n",
    "        \"UNC-55 (PE)\\nGABAergic neurons\",\n",
    "        \"NHR-25 (PE)\\nNon-seam hypodermis\",\n",
    "        \"NHR-25 (PE)\\nSocket cells\",\n",
    "        \"ELT-2 (PE)\\nIntestine\",\n",
    "        \"ZTF-7 (PE)\\nIntestine\",\n",
    "        \"XND-1 (PE)\\nGermline\",\n",
    "        \"F49E8.2 (PE)\\nGermline\"), stringsAsFactors = F)\n",
    "    \n",
    "zork$prop.with.peak = mapply(function(TF, ct) {\n",
    "    length(intersect(genes.with.peak[[TF]], genes.highest.expressed.in[[ct]])) / length(genes.with.peak[[TF]])\n",
    "}, zork$TF, zork$cell.type)\n",
    "    \n",
    "zork$prop.without.peak = mapply(function(TF, ct) {\n",
    "    length(intersect(genes.without.peak[[TF]], genes.highest.expressed.in[[ct]])) / length(genes.without.peak[[TF]])\n",
    "}, zork$TF, zork$cell.type)\n",
    "    \n",
    "zork$ratio = zork$prop.with.peak / zork$prop.without.peak\n",
    "    \n",
    "zork"
   ]
  },
  {
   "cell_type": "code",
   "execution_count": 27,
   "metadata": {
    "collapsed": false
   },
   "outputs": [
    {
     "data": {
      "image/png": "[encoded data removed]",
      "text/plain": [
       "plot without title"
      ]
     },
     "metadata": {},
     "output_type": "display_data"
    }
   ],
   "source": [
    "tmp.df = melt(zork, id.vars = c(\"TF\", \"cell.type\", \"label\", \"ratio\"),\n",
    "    variable.name = \"variable\", value.name = \"value\")\n",
    "\n",
    "tmp.df$label = factor(tmp.df$label, levels = rev(unique(tmp.df$label)))\n",
    "tmp.df$variable = ifelse(tmp.df$variable == \"prop.with.peak\",\n",
    "    \">0 non-HOT peaks\\nfor TF in promoter\",\n",
    "    \"0 non-HOT peaks\\nfor TF in promoter\")\n",
    "tmp.df$variable = factor(tmp.df$variable, levels = rev(unique(tmp.df$variable)))\n",
    "\n",
    "plot = ggplot(tmp.df, aes(x = label, y = value, fill = variable)) +\n",
    "    geom_bar(stat = \"identity\", position = \"dodge\") +\n",
    "    geom_text(aes(y = value + 0.08, label = round(ratio, 2), group = variable, alpha = variable),\n",
    "        position = position_dodge(1.0), size = 2.0) +\n",
    "    coord_flip() +\n",
    "    scale_y_continuous(limits = c(0, 0.7), breaks = seq(0, 0.8, 0.2), labels = percent) +\n",
    "    scale_fill_manual(values = c(\"dodgerblue3\", \"firebrick\")) +\n",
    "    scale_alpha_manual(values = c(0, 1)) +\n",
    "    xlab(\"\") + ylab(\"Proportion of genes for which the\\ncell type of highest expression is\\nthe cell type associated with the TF\") +\n",
    "    guides(fill = guide_legend(title = \"Gene set\"), alpha = F) +\n",
    "    theme_bw(base_size = 6) +\n",
    "    monocle:::monocle_theme_opts() +\n",
    "    theme(\n",
    "        axis.title.x = element_text(margin = margin(5, 0, 0, 0)),\n",
    "        legend.key.size = unit(0.4, \"cm\"),\n",
    "        legend.margin = margin(0, 0, 0, 0))\n",
    "\n",
    "show(plot)\n",
    "\n",
    "ggsave(\"plots/Fig_S12.pdf\",\n",
    "    device = cairo_pdf, units = \"in\", width = 3.0, height = 4.5)"
   ]
  },
  {
   "cell_type": "code",
   "execution_count": 158,
   "metadata": {
    "collapsed": false
   },
   "outputs": [],
   "source": [
    "save.image(\"RData/L2.ChIP-seq.analysis.RData\")"
   ]
  },
  {
   "cell_type": "code",
   "execution_count": 30,
   "metadata": {
    "collapsed": true
   },
   "outputs": [],
   "source": [
    "download.file(\n",
    "    \"http://jpacker-data.s3.amazonaws.com/public/C.elegans.modENCODE.modERN.post-embryonic.ChIP.peak.clusters.melted.tsv\",\n",
    "    destfile = \"RData/C.elegans.modENCODE.modERN.post-embryonic.ChIP.peak.clusters.melted.tsv\")"
   ]
  },
  {
   "cell_type": "code",
   "execution_count": 31,
   "metadata": {
    "collapsed": false
   },
   "outputs": [
    {
     "data": {
      "text/html": [
       "<table>\n",
       "<thead><tr><th scope=col>cluster.id</th><th scope=col>gene</th><th scope=col>distance.to.TSS</th><th scope=col>distance.ratio</th><th scope=col>TF</th><th scope=col>dummy</th></tr></thead>\n",
       "<tbody>\n",
       "\t<tr><td>1       </td><td>nlp-40  </td><td>7604    </td><td>5.24    </td><td>ATF.7   </td><td>1       </td></tr>\n",
       "\t<tr><td>1       </td><td>nlp-40  </td><td>7604    </td><td>5.24    </td><td>ATHP.1  </td><td>1       </td></tr>\n",
       "\t<tr><td>1       </td><td>nlp-40  </td><td>7604    </td><td>5.24    </td><td>B0261.1 </td><td>1       </td></tr>\n",
       "\t<tr><td>1       </td><td>nlp-40  </td><td>7604    </td><td>5.24    </td><td>C01B12.2</td><td>1       </td></tr>\n",
       "\t<tr><td>1       </td><td>nlp-40  </td><td>7604    </td><td>5.24    </td><td>C06A8.2 </td><td>1       </td></tr>\n",
       "\t<tr><td>1       </td><td>nlp-40  </td><td>7604    </td><td>5.24    </td><td>C16A3.4 </td><td>1       </td></tr>\n",
       "</tbody>\n",
       "</table>\n"
      ],
      "text/latex": [
       "\\begin{tabular}{r|llllll}\n",
       " cluster.id & gene & distance.to.TSS & distance.ratio & TF & dummy\\\\\n",
       "\\hline\n",
       "\t 1        & nlp-40   & 7604     & 5.24     & ATF.7    & 1       \\\\\n",
       "\t 1        & nlp-40   & 7604     & 5.24     & ATHP.1   & 1       \\\\\n",
       "\t 1        & nlp-40   & 7604     & 5.24     & B0261.1  & 1       \\\\\n",
       "\t 1        & nlp-40   & 7604     & 5.24     & C01B12.2 & 1       \\\\\n",
       "\t 1        & nlp-40   & 7604     & 5.24     & C06A8.2  & 1       \\\\\n",
       "\t 1        & nlp-40   & 7604     & 5.24     & C16A3.4  & 1       \\\\\n",
       "\\end{tabular}\n"
      ],
      "text/markdown": [
       "\n",
       "cluster.id | gene | distance.to.TSS | distance.ratio | TF | dummy | \n",
       "|---|---|---|---|---|---|\n",
       "| 1        | nlp-40   | 7604     | 5.24     | ATF.7    | 1        | \n",
       "| 1        | nlp-40   | 7604     | 5.24     | ATHP.1   | 1        | \n",
       "| 1        | nlp-40   | 7604     | 5.24     | B0261.1  | 1        | \n",
       "| 1        | nlp-40   | 7604     | 5.24     | C01B12.2 | 1        | \n",
       "| 1        | nlp-40   | 7604     | 5.24     | C06A8.2  | 1        | \n",
       "| 1        | nlp-40   | 7604     | 5.24     | C16A3.4  | 1        | \n",
       "\n",
       "\n"
      ],
      "text/plain": [
       "  cluster.id gene   distance.to.TSS distance.ratio TF       dummy\n",
       "1 1          nlp-40 7604            5.24           ATF.7    1    \n",
       "2 1          nlp-40 7604            5.24           ATHP.1   1    \n",
       "3 1          nlp-40 7604            5.24           B0261.1  1    \n",
       "4 1          nlp-40 7604            5.24           C01B12.2 1    \n",
       "5 1          nlp-40 7604            5.24           C06A8.2  1    \n",
       "6 1          nlp-40 7604            5.24           C16A3.4  1    "
      ]
     },
     "metadata": {},
     "output_type": "display_data"
    }
   ],
   "source": [
    "PE.peak.clusters.melt = read.table(\n",
    "    \"RData/C.elegans.modENCODE.modERN.post-embryonic.ChIP.peak.info.melted.tsv\",\n",
    "    col.names = c(\"cluster.id\", \"gene\", \"distance.to.TSS\", \"distance.ratio\", \"TF\"),\n",
    "    colClasses = c(\"integer\", \"character\", \"integer\", \"numeric\", \"character\"))\n",
    "\n",
    "PE.peak.clusters.melt$dummy = 1\n",
    "head(PE.peak.clusters.melt)"
   ]
  },
  {
   "cell_type": "code",
   "execution_count": 32,
   "metadata": {
    "collapsed": false
   },
   "outputs": [
    {
     "data": {
      "text/html": [
       "165"
      ],
      "text/latex": [
       "165"
      ],
      "text/markdown": [
       "165"
      ],
      "text/plain": [
       "[1] 165"
      ]
     },
     "metadata": {},
     "output_type": "display_data"
    },
    {
     "data": {
      "text/html": [
       "174"
      ],
      "text/latex": [
       "174"
      ],
      "text/markdown": [
       "174"
      ],
      "text/plain": [
       "[1] 174"
      ]
     },
     "metadata": {},
     "output_type": "display_data"
    },
    {
     "data": {
      "text/html": [
       "35564"
      ],
      "text/latex": [
       "35564"
      ],
      "text/markdown": [
       "35564"
      ],
      "text/plain": [
       "[1] 35564"
      ]
     },
     "metadata": {},
     "output_type": "display_data"
    },
    {
     "data": {
      "text/html": [
       "11778"
      ],
      "text/latex": [
       "11778"
      ],
      "text/markdown": [
       "11778"
      ],
      "text/plain": [
       "[1] 11778"
      ]
     },
     "metadata": {},
     "output_type": "display_data"
    },
    {
     "data": {
      "text/html": [
       "<table>\n",
       "<thead><tr><th scope=col>cluster.id</th><th scope=col>gene</th><th scope=col>n.TFs</th><th scope=col>distance.to.TSS</th><th scope=col>distance.ratio</th><th scope=col>ALR.1</th><th scope=col>ALY.2</th><th scope=col>ATF.7</th><th scope=col>ATHP.1</th><th scope=col>B0035.1</th><th scope=col>...</th><th scope=col>ZFP.2</th><th scope=col>ZIM.3</th><th scope=col>ZIP.2</th><th scope=col>ZK185.1</th><th scope=col>ZK546.5</th><th scope=col>ZTF.11</th><th scope=col>ZTF.18</th><th scope=col>ZTF.26</th><th scope=col>ZTF.4</th><th scope=col>ZTF.7</th></tr></thead>\n",
       "<tbody>\n",
       "\t<tr><td> 3      </td><td>homt-1  </td><td>1       </td><td> 494    </td><td> 1.561  </td><td>0       </td><td>0       </td><td>0       </td><td>0       </td><td>0       </td><td>...     </td><td>0       </td><td>0       </td><td>0       </td><td>0       </td><td>0       </td><td>0       </td><td>0       </td><td>0       </td><td>0       </td><td>0       </td></tr>\n",
       "\t<tr><td> 4      </td><td>nlp-40  </td><td>8       </td><td> 152    </td><td> 7.322  </td><td>0       </td><td>0       </td><td>1       </td><td>0       </td><td>0       </td><td>...     </td><td>0       </td><td>0       </td><td>0       </td><td>0       </td><td>0       </td><td>0       </td><td>0       </td><td>0       </td><td>0       </td><td>0       </td></tr>\n",
       "\t<tr><td>14      </td><td>sesn-1  </td><td>4       </td><td> 231    </td><td>25.950  </td><td>0       </td><td>0       </td><td>0       </td><td>0       </td><td>0       </td><td>...     </td><td>0       </td><td>0       </td><td>0       </td><td>0       </td><td>0       </td><td>0       </td><td>0       </td><td>0       </td><td>0       </td><td>0       </td></tr>\n",
       "\t<tr><td>15      </td><td>sesn-1  </td><td>3       </td><td>1320    </td><td> 5.366  </td><td>0       </td><td>0       </td><td>0       </td><td>0       </td><td>0       </td><td>...     </td><td>0       </td><td>0       </td><td>0       </td><td>0       </td><td>0       </td><td>0       </td><td>0       </td><td>0       </td><td>0       </td><td>0       </td></tr>\n",
       "\t<tr><td>16      </td><td>sesn-1  </td><td>1       </td><td>1726    </td><td> 4.339  </td><td>0       </td><td>0       </td><td>0       </td><td>0       </td><td>0       </td><td>...     </td><td>0       </td><td>0       </td><td>0       </td><td>0       </td><td>0       </td><td>0       </td><td>0       </td><td>0       </td><td>0       </td><td>0       </td></tr>\n",
       "\t<tr><td>29      </td><td>Y74C9A.1</td><td>1       </td><td> 650    </td><td> 6.745  </td><td>0       </td><td>0       </td><td>0       </td><td>0       </td><td>0       </td><td>...     </td><td>0       </td><td>0       </td><td>0       </td><td>0       </td><td>0       </td><td>0       </td><td>0       </td><td>0       </td><td>0       </td><td>0       </td></tr>\n",
       "</tbody>\n",
       "</table>\n"
      ],
      "text/latex": [
       "\\begin{tabular}{r|lllllllllllllllllllllllllllllllllllllllllllllllllllllllllllllllllllllllllllllllllllllllllllllllllllllllllllllllllllllllllllllllllllllllllllllllllllllllllllllllllllllllllllllllllll}\n",
       " cluster.id & gene & n.TFs & distance.to.TSS & distance.ratio & ALR.1 & ALY.2 & ATF.7 & ATHP.1 & B0035.1 & ... & ZFP.2 & ZIM.3 & ZIP.2 & ZK185.1 & ZK546.5 & ZTF.11 & ZTF.18 & ZTF.26 & ZTF.4 & ZTF.7\\\\\n",
       "\\hline\n",
       "\t  3       & homt-1   & 1        &  494     &  1.561   & 0        & 0        & 0        & 0        & 0        & ...      & 0        & 0        & 0        & 0        & 0        & 0        & 0        & 0        & 0        & 0       \\\\\n",
       "\t  4       & nlp-40   & 8        &  152     &  7.322   & 0        & 0        & 1        & 0        & 0        & ...      & 0        & 0        & 0        & 0        & 0        & 0        & 0        & 0        & 0        & 0       \\\\\n",
       "\t 14       & sesn-1   & 4        &  231     & 25.950   & 0        & 0        & 0        & 0        & 0        & ...      & 0        & 0        & 0        & 0        & 0        & 0        & 0        & 0        & 0        & 0       \\\\\n",
       "\t 15       & sesn-1   & 3        & 1320     &  5.366   & 0        & 0        & 0        & 0        & 0        & ...      & 0        & 0        & 0        & 0        & 0        & 0        & 0        & 0        & 0        & 0       \\\\\n",
       "\t 16       & sesn-1   & 1        & 1726     &  4.339   & 0        & 0        & 0        & 0        & 0        & ...      & 0        & 0        & 0        & 0        & 0        & 0        & 0        & 0        & 0        & 0       \\\\\n",
       "\t 29       & Y74C9A.1 & 1        &  650     &  6.745   & 0        & 0        & 0        & 0        & 0        & ...      & 0        & 0        & 0        & 0        & 0        & 0        & 0        & 0        & 0        & 0       \\\\\n",
       "\\end{tabular}\n"
      ],
      "text/markdown": [
       "\n",
       "cluster.id | gene | n.TFs | distance.to.TSS | distance.ratio | ALR.1 | ALY.2 | ATF.7 | ATHP.1 | B0035.1 | ... | ZFP.2 | ZIM.3 | ZIP.2 | ZK185.1 | ZK546.5 | ZTF.11 | ZTF.18 | ZTF.26 | ZTF.4 | ZTF.7 | \n",
       "|---|---|---|---|---|---|\n",
       "|  3       | homt-1   | 1        |  494     |  1.561   | 0        | 0        | 0        | 0        | 0        | ...      | 0        | 0        | 0        | 0        | 0        | 0        | 0        | 0        | 0        | 0        | \n",
       "|  4       | nlp-40   | 8        |  152     |  7.322   | 0        | 0        | 1        | 0        | 0        | ...      | 0        | 0        | 0        | 0        | 0        | 0        | 0        | 0        | 0        | 0        | \n",
       "| 14       | sesn-1   | 4        |  231     | 25.950   | 0        | 0        | 0        | 0        | 0        | ...      | 0        | 0        | 0        | 0        | 0        | 0        | 0        | 0        | 0        | 0        | \n",
       "| 15       | sesn-1   | 3        | 1320     |  5.366   | 0        | 0        | 0        | 0        | 0        | ...      | 0        | 0        | 0        | 0        | 0        | 0        | 0        | 0        | 0        | 0        | \n",
       "| 16       | sesn-1   | 1        | 1726     |  4.339   | 0        | 0        | 0        | 0        | 0        | ...      | 0        | 0        | 0        | 0        | 0        | 0        | 0        | 0        | 0        | 0        | \n",
       "| 29       | Y74C9A.1 | 1        |  650     |  6.745   | 0        | 0        | 0        | 0        | 0        | ...      | 0        | 0        | 0        | 0        | 0        | 0        | 0        | 0        | 0        | 0        | \n",
       "\n",
       "\n"
      ],
      "text/plain": [
       "  cluster.id gene     n.TFs distance.to.TSS distance.ratio ALR.1 ALY.2 ATF.7\n",
       "1  3         homt-1   1      494             1.561         0     0     0    \n",
       "2  4         nlp-40   8      152             7.322         0     0     1    \n",
       "3 14         sesn-1   4      231            25.950         0     0     0    \n",
       "4 15         sesn-1   3     1320             5.366         0     0     0    \n",
       "5 16         sesn-1   1     1726             4.339         0     0     0    \n",
       "6 29         Y74C9A.1 1      650             6.745         0     0     0    \n",
       "  ATHP.1 B0035.1 ... ZFP.2 ZIM.3 ZIP.2 ZK185.1 ZK546.5 ZTF.11 ZTF.18 ZTF.26\n",
       "1 0      0       ... 0     0     0     0       0       0      0      0     \n",
       "2 0      0       ... 0     0     0     0       0       0      0      0     \n",
       "3 0      0       ... 0     0     0     0       0       0      0      0     \n",
       "4 0      0       ... 0     0     0     0       0       0      0      0     \n",
       "5 0      0       ... 0     0     0     0       0       0      0      0     \n",
       "6 0      0       ... 0     0     0     0       0       0      0      0     \n",
       "  ZTF.4 ZTF.7\n",
       "1 0     0    \n",
       "2 0     0    \n",
       "3 0     0    \n",
       "4 0     0    \n",
       "5 0     0    \n",
       "6 0     0    "
      ]
     },
     "metadata": {},
     "output_type": "display_data"
    }
   ],
   "source": [
    "cluster.df = dcast(PE.peak.clusters.melt,\n",
    "    cluster.id + gene + distance.to.TSS + distance.ratio ~ TF,\n",
    "    value.var = \"dummy\", fun.aggregate = max, fill = 0)\n",
    "\n",
    "cluster.df.TFs = intersect(PE.TFs, unique(do.call(c, cell.type.expr.TFs)))\n",
    "cluster.df.TFs = intersect(sub(\"_PE\", \"\", cluster.df.TFs), colnames(cluster.df))\n",
    "cluster.df.TFs.incl.TS = sort(c(cluster.df.TFs, colnames(cluster.df)[grepl(\":\", colnames(cluster.df))]))\n",
    "\n",
    "length(cluster.df.TFs)\n",
    "length(cluster.df.TFs.incl.TS)\n",
    "\n",
    "cluster.df$n.TFs = apply(cluster.df[, cluster.df.TFs], 1, function(x) sum(x))\n",
    "\n",
    "nrow(cluster.df)\n",
    "cluster.df = cluster.df[, c(\n",
    "    \"cluster.id\", \"gene\", \"n.TFs\", \"distance.to.TSS\", \"distance.ratio\", cluster.df.TFs.incl.TS)] %>%\n",
    "    filter(n.TFs < 0.1 * length(PE.TFs), distance.to.TSS < 2000, distance.ratio >= 1.5)\n",
    "\n",
    "nrow(cluster.df)\n",
    "head(cluster.df)"
   ]
  },
  {
   "cell_type": "code",
   "execution_count": 121,
   "metadata": {
    "collapsed": true
   },
   "outputs": [],
   "source": [
    "input.matrices.for.glasso = list()"
   ]
  },
  {
   "cell_type": "code",
   "execution_count": 122,
   "metadata": {
    "collapsed": true
   },
   "outputs": [],
   "source": [
    "mat = as.matrix(cluster.df[, cluster.df.TFs.incl.TS])\n",
    "mat = mat[, apply(mat, 2, sum) >= 20]\n",
    "\n",
    "input.matrices.for.glasso[[\"ChIP clusters\"]] = mat\n",
    "rm(mat)"
   ]
  },
  {
   "cell_type": "code",
   "execution_count": 123,
   "metadata": {
    "collapsed": false
   },
   "outputs": [
    {
     "data": {
      "text/html": [
       "122"
      ],
      "text/latex": [
       "122"
      ],
      "text/markdown": [
       "122"
      ],
      "text/plain": [
       "[1] 122"
      ]
     },
     "metadata": {},
     "output_type": "display_data"
    }
   ],
   "source": [
    "valid.TFs = cluster.df.TFs.incl.TS\n",
    "valid.TFs = valid.TFs[grepl(\":\", valid.TFs) |\n",
    "                      paste(valid.TFs, \"PE\", sep=\"_\") %in% tissue.expr.TFs[[\"Hypodermis\"]]]\n",
    "length(valid.TFs)\n",
    "\n",
    "mat = as.matrix(cluster.df[cluster.df$gene %in% ts.gene.lists[[\"Hypodermis\"]], valid.TFs])\n",
    "mat = mat[, apply(mat, 2, sum) >= 20]\n",
    "\n",
    "input.matrices.for.glasso[[\"ChIP clusters in hypodermis enriched gene promoters\"]] = mat\n",
    "rm(list = c(\"mat\", \"valid.TFs\"))"
   ]
  },
  {
   "cell_type": "code",
   "execution_count": 124,
   "metadata": {
    "collapsed": false
   },
   "outputs": [
    {
     "data": {
      "text/html": [
       "125"
      ],
      "text/latex": [
       "125"
      ],
      "text/markdown": [
       "125"
      ],
      "text/plain": [
       "[1] 125"
      ]
     },
     "metadata": {},
     "output_type": "display_data"
    }
   ],
   "source": [
    "valid.TFs = cluster.df.TFs.incl.TS\n",
    "valid.TFs = valid.TFs[grepl(\":\", valid.TFs) |\n",
    "                      paste(valid.TFs, \"PE\", sep=\"_\") %in% tissue.expr.TFs[[\"Neurons\"]]]\n",
    "length(valid.TFs)\n",
    "\n",
    "mat = as.matrix(cluster.df[cluster.df$gene %in% ts.gene.lists[[\"Neurons\"]], valid.TFs])\n",
    "mat = mat[, apply(mat, 2, sum) >= 20]\n",
    "\n",
    "input.matrices.for.glasso[[\"ChIP clusters in neuron enriched gene promoters\"]] = mat\n",
    "rm(list = c(\"mat\", \"valid.TFs\"))"
   ]
  },
  {
   "cell_type": "code",
   "execution_count": 125,
   "metadata": {
    "collapsed": false
   },
   "outputs": [
    {
     "data": {
      "text/html": [
       "111"
      ],
      "text/latex": [
       "111"
      ],
      "text/markdown": [
       "111"
      ],
      "text/plain": [
       "[1] 111"
      ]
     },
     "metadata": {},
     "output_type": "display_data"
    }
   ],
   "source": [
    "valid.TFs = cluster.df.TFs.incl.TS\n",
    "valid.TFs = valid.TFs[grepl(\":\", valid.TFs) |\n",
    "                      paste(valid.TFs, \"PE\", sep=\"_\") %in% cell.type.expr.TFs[[\"Intestine\"]]]\n",
    "length(valid.TFs)\n",
    "\n",
    "mat = as.matrix(cluster.df[cluster.df$gene %in% cts.gene.lists[[\"Intestine\"]], valid.TFs])\n",
    "mat = mat[, apply(mat, 2, sum) >= 20]\n",
    "\n",
    "input.matrices.for.glasso[[\"ChIP clusters in intestine enriched gene promoters\"]] = mat\n",
    "rm(list = c(\"mat\", \"valid.TFs\"))"
   ]
  },
  {
   "cell_type": "code",
   "execution_count": 126,
   "metadata": {
    "collapsed": false
   },
   "outputs": [
    {
     "data": {
      "text/html": [
       "82"
      ],
      "text/latex": [
       "82"
      ],
      "text/markdown": [
       "82"
      ],
      "text/plain": [
       "[1] 82"
      ]
     },
     "metadata": {},
     "output_type": "display_data"
    }
   ],
   "source": [
    "valid.TFs = cluster.df.TFs.incl.TS\n",
    "valid.TFs = valid.TFs[grepl(\":\", valid.TFs) |\n",
    "                      paste(valid.TFs, \"PE\", sep=\"_\") %in% cell.type.expr.TFs[[\"Germline\"]]]\n",
    "length(valid.TFs)\n",
    "\n",
    "mat = as.matrix(cluster.df[cluster.df$gene %in% cts.gene.lists[[\"Germline\"]], valid.TFs])\n",
    "mat = mat[, apply(mat, 2, sum) >= 20]\n",
    "\n",
    "input.matrices.for.glasso[[\"ChIP clusters in germline enriched gene promoters\"]] = mat\n",
    "rm(list = c(\"mat\", \"valid.TFs\"))"
   ]
  },
  {
   "cell_type": "code",
   "execution_count": 127,
   "metadata": {
    "collapsed": false
   },
   "outputs": [
    {
     "data": {
      "text/html": [
       "<table>\n",
       "<thead><tr><th></th><th scope=col>nrow</th><th scope=col>ncol</th></tr></thead>\n",
       "<tbody>\n",
       "\t<tr><th scope=row>ChIP clusters</th><td>11778</td><td>126  </td></tr>\n",
       "\t<tr><th scope=row>ChIP clusters in hypodermis enriched gene promoters</th><td>  359</td><td> 18  </td></tr>\n",
       "\t<tr><th scope=row>ChIP clusters in neuron enriched gene promoters</th><td>  681</td><td> 18  </td></tr>\n",
       "\t<tr><th scope=row>ChIP clusters in intestine enriched gene promoters</th><td>  410</td><td> 18  </td></tr>\n",
       "\t<tr><th scope=row>ChIP clusters in germline enriched gene promoters</th><td>  208</td><td> 15  </td></tr>\n",
       "</tbody>\n",
       "</table>\n"
      ],
      "text/latex": [
       "\\begin{tabular}{r|ll}\n",
       "  & nrow & ncol\\\\\n",
       "\\hline\n",
       "\tChIP clusters & 11778 & 126  \\\\\n",
       "\tChIP clusters in hypodermis enriched gene promoters &   359 &  18  \\\\\n",
       "\tChIP clusters in neuron enriched gene promoters &   681 &  18  \\\\\n",
       "\tChIP clusters in intestine enriched gene promoters &   410 &  18  \\\\\n",
       "\tChIP clusters in germline enriched gene promoters &   208 &  15  \\\\\n",
       "\\end{tabular}\n"
      ],
      "text/plain": [
       "                                                    nrow  ncol\n",
       "ChIP clusters                                       11778 126 \n",
       "ChIP clusters in hypodermis enriched gene promoters   359  18 \n",
       "ChIP clusters in neuron enriched gene promoters       681  18 \n",
       "ChIP clusters in intestine enriched gene promoters    410  18 \n",
       "ChIP clusters in germline enriched gene promoters     208  15 "
      ]
     },
     "metadata": {},
     "output_type": "display_data"
    }
   ],
   "source": [
    "data.frame(\n",
    "    nrow = sapply(input.matrices.for.glasso, nrow),\n",
    "    ncol = sapply(input.matrices.for.glasso, ncol))"
   ]
  },
  {
   "cell_type": "code",
   "execution_count": 128,
   "metadata": {
    "collapsed": true
   },
   "outputs": [],
   "source": [
    "# http://www.nature.com/articles/ncomms5114\n",
    "curve.ball = function(m) {\n",
    "    RC = dim(m)\n",
    "    R = RC[1]\n",
    "    C = RC[2]\n",
    "    hp = list()\n",
    "    for (row in 1:dim(m)[1]) {\n",
    "        hp[[row]] = which(m[row,] == 1)\n",
    "    }\n",
    "\n",
    "    l_hp = length(hp)\n",
    "    for (rep in 1:(5*l_hp)) {\n",
    "        AB = sample(1:l_hp, 2)\n",
    "        a = hp[[AB[1]]]\n",
    "        b = hp[[AB[2]]]\n",
    "        ab = intersect(a,b)\n",
    "        l_ab = length(ab)\n",
    "        l_a = length(a)\n",
    "        l_b = length(b)\n",
    "        if ((l_ab %in% c(l_a,l_b)) == F) {\n",
    "            tot = setdiff(c(a,b), ab)\n",
    "            l_tot = length(tot)\n",
    "            tot = sample(tot, l_tot, replace = FALSE, prob = NULL)\n",
    "            L = l_a - l_ab\n",
    "            hp[[AB[1]]] = c(ab,tot[1:L])\n",
    "            hp[[AB[2]]] = c(ab,tot[(L+1):l_tot])\n",
    "        }\n",
    "    }\n",
    "\n",
    "    rm = matrix(0, R, C)\n",
    "    for (row in 1:R) {\n",
    "        rm[row, hp[[row]]] = 1\n",
    "    }\n",
    "\n",
    "    rownames(rm) = rownames(m)\n",
    "    colnames(rm) = colnames(m)\n",
    "\n",
    "    Matrix(rm, sparse=T)\n",
    "}"
   ]
  },
  {
   "cell_type": "code",
   "execution_count": 133,
   "metadata": {
    "collapsed": true
   },
   "outputs": [
    {
     "name": "stderr",
     "output_type": "stream",
     "text": [
      "1\n",
      "2\n",
      "3\n",
      "4\n",
      "5\n",
      "6\n",
      "7\n",
      "8\n",
      "9\n",
      "10\n",
      "11\n",
      "12\n",
      "13\n",
      "14\n",
      "15\n",
      "16\n",
      "17\n",
      "18\n",
      "19\n",
      "20\n",
      "21\n",
      "22\n",
      "23\n",
      "24\n",
      "25\n",
      "26\n",
      "27\n",
      "28\n",
      "29\n",
      "30\n"
     ]
    }
   ],
   "source": [
    "shuffled.matrices.for.glasso = list()\n",
    "\n",
    "for (i in 1:30) {\n",
    "    message(i)\n",
    "    shuffled.matrices.for.glasso[[i]] = list()\n",
    "    \n",
    "    for (name in names(input.matrices.for.glasso)) {\n",
    "        shuffled.matrices.for.glasso[[i]][[name]] = curve.ball(input.matrices.for.glasso[[name]])\n",
    "    }\n",
    "}"
   ]
  },
  {
   "cell_type": "code",
   "execution_count": 305,
   "metadata": {
    "collapsed": true
   },
   "outputs": [],
   "source": [
    "save.image(\"RData/L2.ChIP-seq.analysis.RData\")"
   ]
  },
  {
   "cell_type": "code",
   "execution_count": 331,
   "metadata": {
    "collapsed": true
   },
   "outputs": [],
   "source": [
    "glasso.res.to.network.df = function(glasso.res, v) {\n",
    "    pcor = glasso.res$wi /\n",
    "        (-sqrt(diag(glasso.res$wi) %*% t(diag(glasso.res$wi))))\n",
    "    row.names(pcor) = row.names(v)\n",
    "    colnames(pcor) = colnames(v)\n",
    "    pcor.melt = melt(pcor)\n",
    "    names(pcor.melt) = c(\"from\", \"to\", \"pcor\")\n",
    "    \n",
    "    rv = solve(glasso.res$wi)\n",
    "    row.names(rv) = row.names(v)\n",
    "    colnames(rv) = colnames(v)\n",
    "    rc = cov2cor(rv)\n",
    "    rc.melt = melt(rc)\n",
    "    names(rc.melt) = c(\"from\", \"to\", \"reg.cor\")\n",
    "    \n",
    "    network.df = pcor.melt %>%\n",
    "        inner_join(rc.melt, by=c(\"from\", \"to\")) %>%\n",
    "        filter(pcor > 0, reg.cor > 0) %>%\n",
    "        mutate(weight = pcor) %>%\n",
    "        arrange(-weight)\n",
    "    \n",
    "    return(network.df)\n",
    "}"
   ]
  },
  {
   "cell_type": "code",
   "execution_count": 345,
   "metadata": {
    "collapsed": true
   },
   "outputs": [
    {
     "name": "stderr",
     "output_type": "stream",
     "text": [
      "1\n",
      "2\n",
      "3\n",
      "4\n",
      "5\n",
      "6\n",
      "7\n",
      "8\n",
      "9\n",
      "10\n",
      "11\n",
      "12\n",
      "13\n",
      "14\n",
      "15\n",
      "16\n",
      "17\n",
      "18\n",
      "19\n",
      "20\n",
      "21\n",
      "22\n",
      "23\n",
      "24\n",
      "25\n",
      "26\n",
      "27\n",
      "28\n",
      "29\n",
      "30\n",
      "31\n"
     ]
    },
    {
     "ename": "ERROR",
     "evalue": "Error in as.matrix(shuffled.matrices.for.glasso[[i]][[name]]): error in evaluating the argument 'x' in selecting a method for function 'as.matrix': Error in shuffled.matrices.for.glasso[[i]] : subscript out of bounds\n\n",
     "output_type": "error",
     "traceback": [
      "Error in as.matrix(shuffled.matrices.for.glasso[[i]][[name]]): error in evaluating the argument 'x' in selecting a method for function 'as.matrix': Error in shuffled.matrices.for.glasso[[i]] : subscript out of bounds\n\nTraceback:\n",
      "1. cov(as.matrix(shuffled.matrices.for.glasso[[i]][[name]]))   # at line 14 of file <text>",
      "2. is.data.frame(x)",
      "3. as.matrix(shuffled.matrices.for.glasso[[i]][[name]])"
     ]
    }
   ],
   "source": [
    "rho.list = c(seq(0.01, 0.2, 0.002))\n",
    "\n",
    "nnz.edges.in.shuffled.matrices = list()\n",
    "for (name in ls(input.matrices.for.glasso)) {\n",
    "    nnz.edges.in.shuffled.matrices[[name]] = list()\n",
    "    for (j in 1:length(rho.list)) {\n",
    "        nnz.edges.in.shuffled.matrices[[name]][[j]] = integer()\n",
    "    }\n",
    "}\n",
    "\n",
    "for (i in 1:30) {\n",
    "    message(i)\n",
    "    for (name in ls(input.matrices.for.glasso)) {\n",
    "        v = cov(as.matrix(shuffled.matrices.for.glasso[[i]][[name]]))\n",
    "        glasso.res = list()\n",
    "\n",
    "        for (j in 1:length(rho.list)) {\n",
    "            if (j == 1) {\n",
    "                glasso.res[[j]] = glasso(v, rho = rho.list[j])\n",
    "            } else {\n",
    "                glasso.res[[j]] = glasso(v, rho = rho.list[j], start = \"warm\",\n",
    "                    w.init = glasso.res[[j-1]]$w, wi.init = glasso.res[[j-1]]$wi)\n",
    "            }\n",
    "\n",
    "            network.df = glasso.res.to.network.df(glasso.res[[j]], v)\n",
    "            nnz.edges.in.shuffled.matrices[[name]][[j]] = c(\n",
    "                nnz.edges.in.shuffled.matrices[[name]][[j]], nrow(network.df))\n",
    "        }\n",
    "    }\n",
    "}"
   ]
  },
  {
   "cell_type": "code",
   "execution_count": 349,
   "metadata": {
    "collapsed": false
   },
   "outputs": [
    {
     "name": "stderr",
     "output_type": "stream",
     "text": [
      "ChIP clusters\n",
      "ChIP clusters in gonad enriched gene promoters\n",
      "ChIP clusters in hypodermis enriched gene promoters\n",
      "ChIP clusters in intestine enriched gene promoters\n",
      "ChIP clusters in neuron enriched gene promoters\n",
      "ChIP clusters in TS gene promoters\n"
     ]
    }
   ],
   "source": [
    "glasso.res = list()\n",
    "for (name in ls(input.matrices.for.glasso)) {\n",
    "    glasso.res[[name]] = list()\n",
    "}\n",
    "\n",
    "for (name in ls(input.matrices.for.glasso)) {\n",
    "    message(name)\n",
    "    v = cov(as.matrix(input.matrices.for.glasso[[name]]))\n",
    "    \n",
    "    for (j in 1:length(rho.list)) {\n",
    "        if (j == 1) {\n",
    "            glasso.res[[name]][[j]] = glasso(v, rho = rho.list[j])\n",
    "        } else {\n",
    "            glasso.res[[name]][[j]] = glasso(v, rho = rho.list[j], start = \"warm\",\n",
    "                w.init = glasso.res[[name]][[j-1]]$w, wi.init = glasso.res[[name]][[j-1]]$wi)\n",
    "        }\n",
    "\n",
    "        glasso.res[[name]][[j]]$network.df = glasso.res.to.network.df(glasso.res[[name]][[j]], v)\n",
    "        glasso.res[[name]][[j]]$est.fdr =\n",
    "            mean(nnz.edges.in.shuffled.matrices[[name]][[j]]) /\n",
    "            nrow(glasso.res[[name]][[j]]$network.df)\n",
    "    }\n",
    "}"
   ]
  },
  {
   "cell_type": "code",
   "execution_count": 361,
   "metadata": {
    "collapsed": true
   },
   "outputs": [],
   "source": [
    "save.image(\"RData/L2.ChIP-seq.analysis.RData\")"
   ]
  },
  {
   "cell_type": "code",
   "execution_count": 354,
   "metadata": {
    "collapsed": false
   },
   "outputs": [
    {
     "data": {
      "text/html": [
       "<dl class=dl-horizontal>\n",
       "\t<dt>ChIP clusters</dt>\n",
       "\t\t<dd>0.022</dd>\n",
       "\t<dt>ChIP clusters in gonad enriched gene promoters</dt>\n",
       "\t\t<dd>0.066</dd>\n",
       "\t<dt>ChIP clusters in hypodermis enriched gene promoters</dt>\n",
       "\t\t<dd>0.072</dd>\n",
       "\t<dt>ChIP clusters in intestine enriched gene promoters</dt>\n",
       "\t\t<dd>0.126</dd>\n",
       "\t<dt>ChIP clusters in neuron enriched gene promoters</dt>\n",
       "\t\t<dd>0.02</dd>\n",
       "\t<dt>ChIP clusters in TS gene promoters</dt>\n",
       "\t\t<dd>0.026</dd>\n",
       "</dl>\n"
      ],
      "text/latex": [
       "\\begin{description*}\n",
       "\\item[ChIP clusters] 0.022\n",
       "\\item[ChIP clusters in gonad enriched gene promoters] 0.066\n",
       "\\item[ChIP clusters in hypodermis enriched gene promoters] 0.072\n",
       "\\item[ChIP clusters in intestine enriched gene promoters] 0.126\n",
       "\\item[ChIP clusters in neuron enriched gene promoters] 0.02\n",
       "\\item[ChIP clusters in TS gene promoters] 0.026\n",
       "\\end{description*}\n"
      ],
      "text/markdown": [
       "ChIP clusters\n",
       ":   0.022ChIP clusters in gonad enriched gene promoters\n",
       ":   0.066ChIP clusters in hypodermis enriched gene promoters\n",
       ":   0.072ChIP clusters in intestine enriched gene promoters\n",
       ":   0.126ChIP clusters in neuron enriched gene promoters\n",
       ":   0.02ChIP clusters in TS gene promoters\n",
       ":   0.026\n",
       "\n"
      ],
      "text/plain": [
       "                                      ChIP clusters \n",
       "                                              0.022 \n",
       "     ChIP clusters in gonad enriched gene promoters \n",
       "                                              0.066 \n",
       "ChIP clusters in hypodermis enriched gene promoters \n",
       "                                              0.072 \n",
       " ChIP clusters in intestine enriched gene promoters \n",
       "                                              0.126 \n",
       "    ChIP clusters in neuron enriched gene promoters \n",
       "                                              0.020 \n",
       "                 ChIP clusters in TS gene promoters \n",
       "                                              0.026 "
      ]
     },
     "metadata": {},
     "output_type": "display_data"
    }
   ],
   "source": [
    "selected.rho.indices = lapply(glasso.res, function(x) {\n",
    "    which(sapply(x, function(y) y$est.fdr) < 0.05)[1]\n",
    "})\n",
    "          \n",
    "sapply(selected.rho.indices, function(x) rho.list[x])"
   ]
  },
  {
   "cell_type": "code",
   "execution_count": 355,
   "metadata": {
    "collapsed": false
   },
   "outputs": [],
   "source": [
    "glasso.networks = list()\n",
    "\n",
    "for (name in ls(glasso.res)) {\n",
    "    glasso.networks[[name]] = glasso.res[[name]][[selected.rho.indices[[name]]]]$network.df\n",
    "    glasso.networks[[name]]$from = as.character(glasso.networks[[name]]$from)\n",
    "    glasso.networks[[name]]$to = as.character(glasso.networks[[name]]$to)\n",
    "}"
   ]
  },
  {
   "cell_type": "code",
   "execution_count": 356,
   "metadata": {
    "collapsed": false
   },
   "outputs": [
    {
     "data": {
      "text/html": [
       "<dl class=dl-horizontal>\n",
       "\t<dt>ChIP clusters</dt>\n",
       "\t\t<dd>56</dd>\n",
       "\t<dt>ChIP clusters in gonad enriched gene promoters</dt>\n",
       "\t\t<dd>40</dd>\n",
       "\t<dt>ChIP clusters in hypodermis enriched gene promoters</dt>\n",
       "\t\t<dd>4</dd>\n",
       "\t<dt>ChIP clusters in intestine enriched gene promoters</dt>\n",
       "\t\t<dd>18</dd>\n",
       "\t<dt>ChIP clusters in neuron enriched gene promoters</dt>\n",
       "\t\t<dd>22</dd>\n",
       "\t<dt>ChIP clusters in TS gene promoters</dt>\n",
       "\t\t<dd>64</dd>\n",
       "</dl>\n"
      ],
      "text/latex": [
       "\\begin{description*}\n",
       "\\item[ChIP clusters] 56\n",
       "\\item[ChIP clusters in gonad enriched gene promoters] 40\n",
       "\\item[ChIP clusters in hypodermis enriched gene promoters] 4\n",
       "\\item[ChIP clusters in intestine enriched gene promoters] 18\n",
       "\\item[ChIP clusters in neuron enriched gene promoters] 22\n",
       "\\item[ChIP clusters in TS gene promoters] 64\n",
       "\\end{description*}\n"
      ],
      "text/markdown": [
       "ChIP clusters\n",
       ":   56ChIP clusters in gonad enriched gene promoters\n",
       ":   40ChIP clusters in hypodermis enriched gene promoters\n",
       ":   4ChIP clusters in intestine enriched gene promoters\n",
       ":   18ChIP clusters in neuron enriched gene promoters\n",
       ":   22ChIP clusters in TS gene promoters\n",
       ":   64\n",
       "\n"
      ],
      "text/plain": [
       "                                      ChIP clusters \n",
       "                                                 56 \n",
       "     ChIP clusters in gonad enriched gene promoters \n",
       "                                                 40 \n",
       "ChIP clusters in hypodermis enriched gene promoters \n",
       "                                                  4 \n",
       " ChIP clusters in intestine enriched gene promoters \n",
       "                                                 18 \n",
       "    ChIP clusters in neuron enriched gene promoters \n",
       "                                                 22 \n",
       "                 ChIP clusters in TS gene promoters \n",
       "                                                 64 "
      ]
     },
     "metadata": {},
     "output_type": "display_data"
    }
   ],
   "source": [
    "sapply(glasso.networks, function(x) filter(x, pcor >= 0.02) %>% nrow())"
   ]
  },
  {
   "cell_type": "code",
   "execution_count": 357,
   "metadata": {
    "collapsed": true
   },
   "outputs": [],
   "source": [
    "make.network = function(network.df, pcor.thresh = 0.0) {\n",
    "    df = network.df %>% filter(pcor > pcor.thresh)\n",
    "    df2 = df\n",
    "    df2$tmp = df2$from\n",
    "    df2$from = df2$to\n",
    "    df2$to = df2$tmp\n",
    "    df2$tmp = NULL\n",
    "    df = rbind(df, df2)\n",
    "    df = df %>% group_by(from, to) %>% summarize(n = n(), weight = max(pcor)) %>% ungroup()\n",
    "\n",
    "    g = graph.data.frame(df %>% filter(from < to) %>% arrange(-weight), directed=F)\n",
    "    return(g)\n",
    "}"
   ]
  },
  {
   "cell_type": "code",
   "execution_count": 358,
   "metadata": {
    "collapsed": true
   },
   "outputs": [],
   "source": [
    "glasso.igraph = list()\n",
    "\n",
    "for (name in ls(glasso.networks)) {\n",
    "    glasso.igraph[[name]] = make.network(glasso.networks[[name]], 0.01)\n",
    "}"
   ]
  },
  {
   "cell_type": "code",
   "execution_count": 30,
   "metadata": {
    "collapsed": false
   },
   "outputs": [],
   "source": [
    "plot.network = function(g, file, seed = 42, width = 4.0, height = 4.0,\n",
    "                        vertex.size = 28, vertex.color = \"#D4DCFF\", edge.width.scaling = 100.0,\n",
    "                        label.cex = 0.7, small.label.cex = 0.6, small.label.vertices = NULL,\n",
    "                        name.map = NULL, repulse.rad.exp = 3.0, fr.n.iter = 500) {\n",
    "\n",
    "    V(g)$color = vertex.color\n",
    "    V(g)$label.cex = label.cex\n",
    "    E(g)$color = \"black\"\n",
    "    \n",
    "    if (!is.null(small.label.vertices)) {\n",
    "        V(g)$label.cex = sapply(V(g)$name, function(name) {\n",
    "            ifelse(name %in% small.label.vertices, small.label.cex, label.cex)\n",
    "        })\n",
    "    }\n",
    "    \n",
    "    tmp.vec = V(g)$name\n",
    "    names(tmp.vec) = tmp.vec\n",
    "    full.name.map = lapply(tmp.vec, function(x) x)\n",
    "    if (!is.null(name.map)) {\n",
    "        for (key in names(name.map))\n",
    "            full.name.map[[key]] = name.map[[key]]\n",
    "    }\n",
    "\n",
    "    V(g)$name = sapply(V(g)$name, function(term) full.name.map[[term]])\n",
    "\n",
    "    cairo_pdf(file, width = width, height = height)\n",
    "    set.seed(seed)\n",
    "\n",
    "    g.layout = qgraph.layout.fruchtermanreingold(\n",
    "        get.edgelist(g, names=F), weights = E(g)$weight, vcount = vcount(g),\n",
    "        repulse.rad = vcount(g)^repulse.rad.exp, niter = fr.n.iter)\n",
    "\n",
    "    par(mar=c(0,0,0,0))\n",
    "    plot(g,\n",
    "        edge.width = edge.width.scaling * E(g)$weight,\n",
    "        vertex.size = vertex.size,\n",
    "        vertex.label.family = \"sans\",\n",
    "        vertex.label.color = \"black\",\n",
    "        edge.color = E(g)$color,\n",
    "        layout = g.layout)\n",
    "    dev.off()\n",
    "}"
   ]
  },
  {
   "cell_type": "code",
   "execution_count": 48,
   "metadata": {
    "collapsed": false
   },
   "outputs": [
    {
     "data": {
      "text/html": [
       "<strong>PNG:</strong> 2"
      ],
      "text/latex": [
       "\\textbf{PNG:} 2"
      ],
      "text/markdown": [
       "**PNG:** 2"
      ],
      "text/plain": [
       "PNG \n",
       "  2 "
      ]
     },
     "metadata": {},
     "output_type": "display_data"
    }
   ],
   "source": [
    "name.map = list(\n",
    "    \"LIN.9\" = \"LIN-9\",\n",
    "    \"LIN.54\" = \"LIN-54\",\n",
    "    \"EFL.1\" = \"EFL-1\",\n",
    "    \"XND.1\" = \"XND-1\",\n",
    "    \"Germline:EFL.1\" = \"EFL-1\\n(GS)\",\n",
    "    \"NHR.20\" = \"NHR-20\",\n",
    "    \"SNU.23\" = \"SNU-23\",\n",
    "    \"NHR.25\" = \"NHR-25\",\n",
    "    \"BLMP.1\" = \"BLMP-1\",\n",
    "    \"NHR.23\" = \"NHR-23\",\n",
    "    \"PHA.4\" = \"PHA-4\",\n",
    "    \"DAF.16\" = \"DAF-16\",\n",
    "    \"DVE.1\" = \"DVE-1\",\n",
    "    \"NHR.80\" = \"NHR-80\",\n",
    "    \"PQM.1\" = \"PQM-1\",\n",
    "    \"NHR.28\" = \"NHR-28\",\n",
    "    \"ELT.2\" = \"ELT-2\",\n",
    "    \"FOS.1\" = \"FOS-1\",\n",
    "    \"PQM.1\" = \"PQM-1\",\n",
    "    \"NHR.28\" = \"NHR-28\",\n",
    "    \"SMA.9\" = \"SMA-9\",\n",
    "    \"NHR.71\" = \"NHR-71\")\n",
    "\n",
    "plot.network(glasso.igraph[[\"ChIP clusters\"]],\n",
    "    file = \"plots/Fig_S13d.pdf\", width = 3.0, height = 3.0,\n",
    "    vertex.size = 32 * 3.0/2.5 * 0.8, edge.width.scaling = 60.0, name.map = name.map,\n",
    "    label.cex = 0.55, small.label.vertices = c(\"T02C12.2\"), small.label.cex = 0.5)"
   ]
  },
  {
   "cell_type": "code",
   "execution_count": 363,
   "metadata": {
    "collapsed": false
   },
   "outputs": [
    {
     "data": {
      "text/html": [
       "<strong>PNG:</strong> 2"
      ],
      "text/latex": [
       "\\textbf{PNG:} 2"
      ],
      "text/markdown": [
       "**PNG:** 2"
      ],
      "text/plain": [
       "PNG \n",
       "  2 "
      ]
     },
     "metadata": {},
     "output_type": "display_data"
    }
   ],
   "source": [
    "plot.network(glasso.igraph[[\"ChIP clusters in TS gene promoters\"]],\n",
    "    file = \"plots/ChIP.peak.co-localization.glasso.ts.genes.pdf\", width = 4.0, height = 4.0,\n",
    "    vertex.size = 32, label.cex = 0.7, edge.width.scaling = 100.0)"
   ]
  },
  {
   "cell_type": "code",
   "execution_count": 364,
   "metadata": {
    "collapsed": false
   },
   "outputs": [
    {
     "data": {
      "text/html": [
       "<strong>PNG:</strong> 2"
      ],
      "text/latex": [
       "\\textbf{PNG:} 2"
      ],
      "text/markdown": [
       "**PNG:** 2"
      ],
      "text/plain": [
       "PNG \n",
       "  2 "
      ]
     },
     "metadata": {},
     "output_type": "display_data"
    }
   ],
   "source": [
    "plot.network(glasso.igraph[[\"ChIP clusters in hypodermis enriched gene promoters\"]],\n",
    "    file = \"plots/ChIP.peak.co-localization.glasso.hypodermis.enriched.genes.pdf\", width = 4.0, height = 4.0,\n",
    "    vertex.size = 32, label.cex = 0.7, edge.width.scaling = 100.0)"
   ]
  },
  {
   "cell_type": "code",
   "execution_count": 44,
   "metadata": {
    "collapsed": false
   },
   "outputs": [
    {
     "data": {
      "text/html": [
       "<strong>PNG:</strong> 2"
      ],
      "text/latex": [
       "\\textbf{PNG:} 2"
      ],
      "text/markdown": [
       "**PNG:** 2"
      ],
      "text/plain": [
       "PNG \n",
       "  2 "
      ]
     },
     "metadata": {},
     "output_type": "display_data"
    }
   ],
   "source": [
    "name.map = list(\n",
    "    \"FKH.8\" = \"FKH-8\",\n",
    "    \"NHR.47\" = \"NHR-47\",\n",
    "    \"NHR.71\" = \"NHR-71\",\n",
    "    \"SWSN.7\" = \"SWSN-7\",\n",
    "    \"LSY.2\" = \"LSY-2\",\n",
    "    \"ZFP.1\" = \"ZFP-1\",\n",
    "    \"NFYA.1\" = \"NFYA-1\",\n",
    "    \"LIN.39\" = \"LIN-39\",\n",
    "    \"UNC.55\" = \"UNC-55\")\n",
    "\n",
    "plot.network(glasso.igraph[[\"ChIP clusters in neuron enriched gene promoters\"]],\n",
    "    file = \"plots/Fig_S13c.pdf\", width = 2.5, height = 2.5,\n",
    "    vertex.size = 32 * 4.0/2.5 * 0.8, edge.width.scaling = 60.0, name.map = name.map,\n",
    "    label.cex = 0.55, small.label.vertices = c(\"T02C12.2\"), small.label.cex = 0.5)"
   ]
  },
  {
   "cell_type": "code",
   "execution_count": 366,
   "metadata": {
    "collapsed": false
   },
   "outputs": [
    {
     "data": {
      "text/html": [
       "<strong>PNG:</strong> 2"
      ],
      "text/latex": [
       "\\textbf{PNG:} 2"
      ],
      "text/markdown": [
       "**PNG:** 2"
      ],
      "text/plain": [
       "PNG \n",
       "  2 "
      ]
     },
     "metadata": {},
     "output_type": "display_data"
    }
   ],
   "source": [
    "plot.network(glasso.igraph[[\"ChIP clusters in intestine enriched gene promoters\"]],\n",
    "    file = \"plots/ChIP.peak.co-localization.glasso.intestine.enriched.genes.pdf\", width = 4.0, height = 4.0,\n",
    "    vertex.size = 32, label.cex = 0.7, edge.width.scaling = 100.0)"
   ]
  },
  {
   "cell_type": "code",
   "execution_count": 40,
   "metadata": {
    "collapsed": false
   },
   "outputs": [
    {
     "data": {
      "text/html": [
       "<strong>PNG:</strong> 2"
      ],
      "text/latex": [
       "\\textbf{PNG:} 2"
      ],
      "text/markdown": [
       "**PNG:** 2"
      ],
      "text/plain": [
       "PNG \n",
       "  2 "
      ]
     },
     "metadata": {},
     "output_type": "display_data"
    }
   ],
   "source": [
    "name.map = list(\n",
    "    \"Germline:EFL.1\" = \"EFL-1\\n(GS)\",\n",
    "    \"Germline:DPL.1\" = \"DPL-1\\n(GS)\",\n",
    "    \"XND.1\" = \"XND-1\",\n",
    "    \"LIN.37\" = \"LIN-37\",\n",
    "    \"LIN.9\" = \"LIN-9\",\n",
    "    \"LIN.54\" = \"LIN-54\",\n",
    "    \"EFL.1\" = \"EFL-1\",\n",
    "    \"DPL.1\" = \"DPL-1\")\n",
    "\n",
    "plot.network(glasso.igraph[[\"ChIP clusters in gonad enriched gene promoters\"]],\n",
    "    file = \"plots/Fig_S13a.pdf\", width = 2.5, height = 2.5,\n",
    "    vertex.size = 32 * 4.0/2.5 * 0.8, edge.width.scaling = 60.0, name.map = name.map,\n",
    "    label.cex = 0.55, small.label.vertices = c(\"T02C12.2\"), small.label.cex = 0.5)"
   ]
  },
  {
   "cell_type": "code",
   "execution_count": 92,
   "metadata": {
    "collapsed": false
   },
   "outputs": [
    {
     "data": {
      "text/html": [
       "<table>\n",
       "<thead><tr><th scope=col>tf.1</th><th scope=col>tf.2</th><th scope=col>label</th><th scope=col>n.1</th><th scope=col>n.2</th><th scope=col>n.12</th><th scope=col>prop.1</th><th scope=col>prop.2</th><th scope=col>prop.12</th><th scope=col>expected</th><th scope=col>ratio</th></tr></thead>\n",
       "<tbody>\n",
       "\t<tr><td>XND.1_PE         </td><td>Germline:EFL.1_PE</td><td>dummy4           </td><td>96               </td><td>90               </td><td>72               </td><td>0.3127036        </td><td>0.2931596        </td><td>0.2345277        </td><td>0.09167206       </td><td>2.558333         </td></tr>\n",
       "\t<tr><td>Germline:EFL.1_PE</td><td>Germline:DPL.1_PE</td><td>dummy6           </td><td>90               </td><td>57               </td><td>53               </td><td>0.2931596        </td><td>0.1856678        </td><td>0.1726384        </td><td>0.05443029       </td><td>3.171735         </td></tr>\n",
       "\t<tr><td>F49E8.2_PE       </td><td>XND.1_PE         </td><td>dummy3           </td><td>62               </td><td>96               </td><td>51               </td><td>0.2019544        </td><td>0.3127036        </td><td>0.1661238        </td><td>0.06315186       </td><td>2.630544         </td></tr>\n",
       "\t<tr><td>F49E8.2_PE       </td><td>Germline:EFL.1_PE</td><td>dummy1           </td><td>62               </td><td>90               </td><td>49               </td><td>0.2019544        </td><td>0.2931596        </td><td>0.1596091        </td><td>0.05920487       </td><td>2.695878         </td></tr>\n",
       "\t<tr><td>XND.1_PE         </td><td>Germline:DPL.1_PE</td><td>dummy5           </td><td>96               </td><td>57               </td><td>49               </td><td>0.3127036        </td><td>0.1856678        </td><td>0.1596091        </td><td>0.05805897       </td><td>2.749086         </td></tr>\n",
       "\t<tr><td>F49E8.2_PE       </td><td>Germline:DPL.1_PE</td><td>dummy2           </td><td>62               </td><td>57               </td><td>38               </td><td>0.2019544        </td><td>0.1856678        </td><td>0.1237785        </td><td>0.03749642       </td><td>3.301075         </td></tr>\n",
       "</tbody>\n",
       "</table>\n"
      ],
      "text/latex": [
       "\\begin{tabular}{r|lllllllllll}\n",
       " tf.1 & tf.2 & label & n.1 & n.2 & n.12 & prop.1 & prop.2 & prop.12 & expected & ratio\\\\\n",
       "\\hline\n",
       "\t XND.1\\_PE          & Germline:EFL.1\\_PE & dummy4              & 96                  & 90                  & 72                  & 0.3127036           & 0.2931596           & 0.2345277           & 0.09167206          & 2.558333           \\\\\n",
       "\t Germline:EFL.1\\_PE & Germline:DPL.1\\_PE & dummy6              & 90                  & 57                  & 53                  & 0.2931596           & 0.1856678           & 0.1726384           & 0.05443029          & 3.171735           \\\\\n",
       "\t F49E8.2\\_PE        & XND.1\\_PE          & dummy3              & 62                  & 96                  & 51                  & 0.2019544           & 0.3127036           & 0.1661238           & 0.06315186          & 2.630544           \\\\\n",
       "\t F49E8.2\\_PE        & Germline:EFL.1\\_PE & dummy1              & 62                  & 90                  & 49                  & 0.2019544           & 0.2931596           & 0.1596091           & 0.05920487          & 2.695878           \\\\\n",
       "\t XND.1\\_PE          & Germline:DPL.1\\_PE & dummy5              & 96                  & 57                  & 49                  & 0.3127036           & 0.1856678           & 0.1596091           & 0.05805897          & 2.749086           \\\\\n",
       "\t F49E8.2\\_PE        & Germline:DPL.1\\_PE & dummy2              & 62                  & 57                  & 38                  & 0.2019544           & 0.1856678           & 0.1237785           & 0.03749642          & 3.301075           \\\\\n",
       "\\end{tabular}\n"
      ],
      "text/plain": [
       "  tf.1              tf.2              label  n.1 n.2 n.12 prop.1    prop.2   \n",
       "1 XND.1_PE          Germline:EFL.1_PE dummy4 96  90  72   0.3127036 0.2931596\n",
       "2 Germline:EFL.1_PE Germline:DPL.1_PE dummy6 90  57  53   0.2931596 0.1856678\n",
       "3 F49E8.2_PE        XND.1_PE          dummy3 62  96  51   0.2019544 0.3127036\n",
       "4 F49E8.2_PE        Germline:EFL.1_PE dummy1 62  90  49   0.2019544 0.2931596\n",
       "5 XND.1_PE          Germline:DPL.1_PE dummy5 96  57  49   0.3127036 0.1856678\n",
       "6 F49E8.2_PE        Germline:DPL.1_PE dummy2 62  57  38   0.2019544 0.1856678\n",
       "  prop.12   expected   ratio   \n",
       "1 0.2345277 0.09167206 2.558333\n",
       "2 0.1726384 0.05443029 3.171735\n",
       "3 0.1661238 0.06315186 2.630544\n",
       "4 0.1596091 0.05920487 2.695878\n",
       "5 0.1596091 0.05805897 2.749086\n",
       "6 0.1237785 0.03749642 3.301075"
      ]
     },
     "metadata": {},
     "output_type": "display_data"
    }
   ],
   "source": [
    "zork = data.frame(\n",
    "    tf.1 = c(\"F49E8.2_PE\", \"F49E8.2_PE\", \"F49E8.2_PE\", \"XND.1_PE\", \"XND.1_PE\", \"Germline:EFL.1_PE\"),\n",
    "    tf.2 = c(\"Germline:EFL.1_PE\", \"Germline:DPL.1_PE\", \"XND.1_PE\",\n",
    "             \"Germline:EFL.1_PE\", \"Germline:DPL.1_PE\", \"Germline:DPL.1_PE\"),\n",
    "    label = c(\"dummy1\", \"dummy2\", \"dummy3\", \"dummy4\", \"dummy5\", \"dummy6\"), stringsAsFactors = F)\n",
    "\n",
    "zork$n.1 = sapply(zork$tf.1, function(x) {\n",
    "    length(intersect(genes.with.peak[[x]], cts.gene.lists[[\"Germline\"]]))\n",
    "})\n",
    "\n",
    "zork$n.2 = sapply(zork$tf.2, function(x) {\n",
    "    length(intersect(genes.with.peak[[x]], cts.gene.lists[[\"Germline\"]]))\n",
    "})\n",
    "\n",
    "zork$n.12 = mapply(function(x, y) {\n",
    "   length(intersect(\n",
    "       intersect(genes.with.peak[[x]], genes.with.peak[[y]]), cts.gene.lists[[\"Germline\"]])) \n",
    "}, zork$tf.1, zork$tf.2)\n",
    "\n",
    "zork$prop.1 = zork$n.1 / length(cts.gene.lists[[\"Germline\"]])\n",
    "zork$prop.2 = zork$n.2 / length(cts.gene.lists[[\"Germline\"]])\n",
    "zork$prop.12 = zork$n.12 / length(cts.gene.lists[[\"Germline\"]])\n",
    "zork$expected = zork$prop.1 * zork$prop.2\n",
    "zork$ratio = zork$prop.12 / zork$expected\n",
    "\n",
    "zork = zork %>% arrange(-prop.12)\n",
    "zork$label = factor(zork$label, levels = zork$label)\n",
    "\n",
    "zork"
   ]
  },
  {
   "cell_type": "code",
   "execution_count": 140,
   "metadata": {
    "collapsed": false
   },
   "outputs": [
    {
     "data": {
      "text/html": [
       "49"
      ],
      "text/latex": [
       "49"
      ],
      "text/markdown": [
       "49"
      ],
      "text/plain": [
       "[1] 49"
      ]
     },
     "metadata": {},
     "output_type": "display_data"
    },
    {
     "data": {
      "text/html": [
       "13"
      ],
      "text/latex": [
       "13"
      ],
      "text/markdown": [
       "13"
      ],
      "text/plain": [
       "[1] 13"
      ]
     },
     "metadata": {},
     "output_type": "display_data"
    },
    {
     "data": {
      "text/html": [
       "41"
      ],
      "text/latex": [
       "41"
      ],
      "text/markdown": [
       "41"
      ],
      "text/plain": [
       "[1] 41"
      ]
     },
     "metadata": {},
     "output_type": "display_data"
    },
    {
     "data": {
      "text/html": [
       "204"
      ],
      "text/latex": [
       "204"
      ],
      "text/markdown": [
       "204"
      ],
      "text/plain": [
       "[1] 204"
      ]
     },
     "metadata": {},
     "output_type": "display_data"
    }
   ],
   "source": [
    "length(intersect(cts.gene.lists[[\"Germline\"]],\n",
    "    intersect(genes.with.peak[[\"F49E8.2_PE\"]], genes.with.peak[[\"Germline:EFL.1_PE\"]])))\n",
    "\n",
    "length(intersect(cts.gene.lists[[\"Germline\"]],\n",
    "    setdiff(genes.with.peak[[\"F49E8.2_PE\"]], genes.with.peak[[\"Germline:EFL.1_PE\"]])))\n",
    "\n",
    "length(intersect(cts.gene.lists[[\"Germline\"]],\n",
    "    setdiff(genes.with.peak[[\"Germline:EFL.1_PE\"]], genes.with.peak[[\"F49E8.2_PE\"]])))\n",
    "\n",
    "length(setdiff(cts.gene.lists[[\"Germline\"]],\n",
    "    union(genes.with.peak[[\"F49E8.2_PE\"]], genes.with.peak[[\"Germline:EFL.1_PE\"]])))"
   ]
  },
  {
   "cell_type": "code",
   "execution_count": 144,
   "metadata": {
    "collapsed": false
   },
   "outputs": [
    {
     "data": {
      "text/plain": [
       "\n",
       "\tPearson's Chi-squared test with Yates' continuity correction\n",
       "\n",
       "data:  cbind(c(49, 13), c(41, 204))\n",
       "X-squared = 89.687, df = 1, p-value < 2.2e-16\n"
      ]
     },
     "metadata": {},
     "output_type": "display_data"
    }
   ],
   "source": [
    "chisq.test(cbind(c(49, 13), c(41, 204)))"
   ]
  },
  {
   "cell_type": "code",
   "execution_count": 145,
   "metadata": {
    "collapsed": false
   },
   "outputs": [
    {
     "data": {
      "text/html": [
       "2.7893636327525e-21"
      ],
      "text/latex": [
       "2.7893636327525e-21"
      ],
      "text/markdown": [
       "2.7893636327525e-21"
      ],
      "text/plain": [
       "[1] 2.789364e-21"
      ]
     },
     "metadata": {},
     "output_type": "display_data"
    }
   ],
   "source": [
    "chisq.test(cbind(c(49, 13), c(41, 204)))$p.value"
   ]
  },
  {
   "cell_type": "code",
   "execution_count": 128,
   "metadata": {
    "collapsed": false
   },
   "outputs": [
    {
     "data": {
      "image/png": "[encoded data removed]",
      "text/plain": [
       "plot without title"
      ]
     },
     "metadata": {},
     "output_type": "display_data"
    }
   ],
   "source": [
    "tmp.df = melt(zork[, c(\"label\", \"ratio\", \"prop.12\", \"expected\")],\n",
    "    id.vars = c(\"label\", \"ratio\"), variable.name = \"variable\", value.name = \"value\")\n",
    "\n",
    "tmp.df$variable = ifelse(tmp.df$variable == \"prop.12\", \"Observed\", \"Expected\")\n",
    "tmp.df$variable = factor(tmp.df$variable, levels = c(\"Observed\", \"Expected\"))\n",
    "\n",
    "plot = ggplot(tmp.df, aes(x = label, y = value, fill = variable)) +\n",
    "    geom_bar(stat = \"identity\", position = \"dodge\") +\n",
    "    geom_text(aes(\n",
    "        label = round(ratio, 2), y = value + 0.012,\n",
    "        group = variable, alpha = variable), position = position_dodge(1.0), size = 1.9) +\n",
    "    scale_y_continuous(limits = c(0, 0.25), breaks = seq(0, 1, 0.05), labels = percent) +\n",
    "    scale_fill_manual(values = c(\"firebrick\", \"dodgerblue3\")) +\n",
    "    scale_alpha_manual(values = c(1, 0)) +\n",
    "    xlab(\"\") + ylab(\"Proportion of\\ngermline enriched\\ngene promoters\") +\n",
    "    guides(fill = guide_legend(title = \"Proportion\"), alpha = F) +\n",
    "    theme_bw(base_size = 6) +\n",
    "    monocle:::monocle_theme_opts() +\n",
    "    theme(\n",
    "        axis.line = element_line(),\n",
    "        axis.title.y = element_blank(),\n",
    "        axis.text.x = element_blank(),\n",
    "        legend.position = \"top\",\n",
    "        legend.key.width = unit(0.15, \"in\"),\n",
    "        legend.key.height = unit(0.15, \"in\"),\n",
    "        legend.margin = margin(0, 0, -10, 0))\n",
    "\n",
    "show(plot)\n",
    "\n",
    "ggsave(\"plots/Fig_S13b.pdf\", plot = plot,\n",
    "    device = cairo_pdf, units = \"in\", width = 3.0, height = 2.0)"
   ]
  },
  {
   "cell_type": "code",
   "execution_count": 146,
   "metadata": {
    "collapsed": true
   },
   "outputs": [],
   "source": [
    "save.image(\"RData/L2.ChIP-seq.analysis.RData\")"
   ]
  },
  {
   "cell_type": "code",
   "execution_count": null,
   "metadata": {
    "collapsed": true
   },
   "outputs": [],
   "source": []
  }
 ],
 "metadata": {
  "kernelspec": {
   "display_name": "R",
   "language": "R",
   "name": "ir"
  },
  "language_info": {
   "codemirror_mode": "r",
   "file_extension": ".r",
   "mimetype": "text/x-r-source",
   "name": "R",
   "pygments_lexer": "r",
   "version": "3.2.1"
  }
 },
 "nbformat": 4,
 "nbformat_minor": 1
}
