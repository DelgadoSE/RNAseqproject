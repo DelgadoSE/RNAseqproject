{
 "cells": [
  {
   "cell_type": "code",
   "execution_count": 1,
   "metadata": {
    "collapsed": false
   },
   "outputs": [
    {
     "name": "stderr",
     "output_type": "stream",
     "text": [
      "Warning message:\n",
      "“replacing previous import by ‘splines::splineDesign’ when loading ‘VGAM’”Warning message:\n",
      "“replacing previous import by ‘grid::arrow’ when loading ‘monocle’”Warning message:\n",
      "“replacing previous import by ‘grid::unit’ when loading ‘monocle’”Warning message:\n",
      "“replacing previous import by ‘igraph::clusters’ when loading ‘monocle’”Warning message:\n",
      "“replacing previous import by ‘ggplot2::Position’ when loading ‘monocle’”"
     ]
    }
   ],
   "source": [
    "suppressPackageStartupMessages({\n",
    "    library(monocle)\n",
    "    \n",
    "    library(RColorBrewer)\n",
    "    library(dplyr)\n",
    "    library(ggplot2)\n",
    "    library(pheatmap)\n",
    "    library(reshape2)\n",
    "    library(scales)\n",
    "})"
   ]
  },
  {
   "cell_type": "markdown",
   "metadata": {},
   "source": [
    "This analysis was made using Monocle version 2.3.5. The source code for Monocle 2.3.5 is available as a supplementary file to Cao et al. 2017 on the Science website. We are working on updating the analysis to the latest version of Monocle."
   ]
  },
  {
   "cell_type": "code",
   "execution_count": 2,
   "metadata": {
    "collapsed": false
   },
   "outputs": [
    {
     "data": {
      "text/plain": [
       "R version 3.2.1 (2015-06-18)\n",
       "Platform: x86_64-unknown-linux-gnu (64-bit)\n",
       "Running under: CentOS release 6.8 (Final)\n",
       "\n",
       "locale:\n",
       " [1] LC_CTYPE=en_US.UTF-8       LC_NUMERIC=C              \n",
       " [3] LC_TIME=en_US.UTF-8        LC_COLLATE=en_US.UTF-8    \n",
       " [5] LC_MONETARY=en_US.UTF-8    LC_MESSAGES=en_US.UTF-8   \n",
       " [7] LC_PAPER=en_US.UTF-8       LC_NAME=C                 \n",
       " [9] LC_ADDRESS=C               LC_TELEPHONE=C            \n",
       "[11] LC_MEASUREMENT=en_US.UTF-8 LC_IDENTIFICATION=C       \n",
       "\n",
       "attached base packages:\n",
       " [1] splines   stats4    parallel  stats     graphics  grDevices utils    \n",
       " [8] datasets  methods   base     \n",
       "\n",
       "other attached packages:\n",
       " [1] scales_0.4.1        reshape2_1.4.2      pheatmap_1.0.8     \n",
       " [4] dplyr_0.7.1         RColorBrewer_1.1-2  monocle_2.3.5      \n",
       " [7] DDRTree_0.1.5       irlba_2.2.1         VGAM_1.0-3         \n",
       "[10] ggplot2_2.2.1       Biobase_2.30.0      BiocGenerics_0.16.1\n",
       "[13] Matrix_1.2-7.1     \n",
       "\n",
       "loaded via a namespace (and not attached):\n",
       " [1] Rcpp_0.12.11           bindr_0.1              plyr_1.8.4            \n",
       " [4] tools_3.2.1            digest_0.6.12          densityClust_0.2.1    \n",
       " [7] uuid_0.1-2             jsonlite_1.5           evaluate_0.10.1       \n",
       "[10] tibble_1.3.3           gtable_0.2.0           lattice_0.20-35       \n",
       "[13] pkgconfig_2.0.1        rlang_0.1.1            igraph_1.0.1          \n",
       "[16] IRdisplay_0.4.4        IRkernel_0.7           HSMMSingleCell_0.104.0\n",
       "[19] bindrcpp_0.2           fastICA_1.2-1          cluster_2.0.6         \n",
       "[22] repr_0.12.0            stringr_1.2.0          combinat_0.0-8        \n",
       "[25] grid_3.2.1             glue_1.1.1             R6_2.2.2              \n",
       "[28] qlcMatrix_0.9.5        limma_3.26.9           pbdZMQ_0.2-6          \n",
       "[31] magrittr_1.5           matrixStats_0.52.2     assertthat_0.2.0      \n",
       "[34] colorspace_1.3-2       stringi_1.1.5          lazyeval_0.2.0        \n",
       "[37] munsell_0.4.3          slam_0.1-35            crayon_1.3.2          "
      ]
     },
     "metadata": {},
     "output_type": "display_data"
    }
   ],
   "source": [
    "sessionInfo()"
   ]
  },
  {
   "cell_type": "code",
   "execution_count": 2,
   "metadata": {
    "collapsed": false
   },
   "outputs": [],
   "source": [
    "load(\"RData/L2.data.summaries.no-cruft.RData\")"
   ]
  },
  {
   "cell_type": "code",
   "execution_count": 3,
   "metadata": {
    "collapsed": false
   },
   "outputs": [],
   "source": [
    "cds = cds.experiment.1\n",
    "rm(cds.experiment.1)"
   ]
  },
  {
   "cell_type": "code",
   "execution_count": 111,
   "metadata": {
    "collapsed": false
   },
   "outputs": [],
   "source": [
    "pData(cds)$expr.mup.2 = expresses.gene(cds, \"mup-2\")\n",
    "pData(cds)$expr.myo.3 = expresses.gene(cds, \"myo-3\")\n",
    "pData(cds)$expr.mls.1 = expresses.gene(cds, \"mls-1\")\n",
    "pData(cds)$expr.exp.1 = expresses.gene(cds, \"exp-1\")\n",
    "pData(cds)$expr.glb.26 = expresses.gene(cds, \"glb-26\")"
   ]
  },
  {
   "cell_type": "code",
   "execution_count": 112,
   "metadata": {
    "collapsed": false
   },
   "outputs": [],
   "source": [
    "pData(cds)$plot.group = with(pData(cds), ifelse(\n",
    "    expr.mup.2 & expr.myo.3, \"mup-2 and myo-3\", ifelse(\n",
    "    expr.mup.2, \"mup-2\", ifelse(\n",
    "    expr.myo.3, \"myo-3\", \"None\"))))\n",
    "\n",
    "pData(cds)$plot.group = factor(pData(cds)$plot.group, levels = c(\n",
    "    \"mup-2 and myo-3\", \"mup-2\", \"myo-3\", \"None\"))\n",
    "\n",
    "plot = ggplot(pData(cds), aes(x = tsne_1, y = tsne_2, color = plot.group)) +\n",
    "    geom_point(size = 0.001) +\n",
    "    scale_color_manual(values = c(\"firebrick\", \"dodgerblue3\", \"forestgreen\", \"grey70\")) +\n",
    "    guides(color = guide_legend(title = \"Marker genes\", override.aes = list(size = 3))) +\n",
    "    theme_void(base_size = 6) +\n",
    "    theme(\n",
    "        legend.position = \"left\",\n",
    "        legend.key.width = unit(0.12, \"in\"),\n",
    "        legend.key.height = unit(0.12, \"in\"),\n",
    "        legend.margin = margin(0, -10, 0, 5))\n",
    "\n",
    "ggsave(\"plots/cell.type.id.BWM.and.IRM.pdf\", plot = plot,\n",
    "    device = cairo_pdf, units = \"in\", width = 2.5, height = 2.0)"
   ]
  },
  {
   "cell_type": "code",
   "execution_count": 113,
   "metadata": {
    "collapsed": false
   },
   "outputs": [],
   "source": [
    "pData(cds)$plot.group = with(pData(cds), ifelse(\n",
    "    expr.exp.1 & expr.glb.26, \"exp-1 and glb-26\", ifelse(\n",
    "    expr.exp.1, \"exp-1\", ifelse(\n",
    "    expr.glb.26, \"glb-26\", \"None\"))))\n",
    "\n",
    "pData(cds)$plot.group = factor(pData(cds)$plot.group, levels = c(\n",
    "    \"exp-1 and glb-26\", \"exp-1\", \"glb-26\", \"None\"))\n",
    "\n",
    "plot = ggplot(pData(cds), aes(x = tsne_1, y = tsne_2, color = plot.group)) +\n",
    "    geom_point(size = 0.001) +\n",
    "    scale_color_manual(values = c(\"firebrick\", \"dodgerblue3\", \"forestgreen\", \"grey70\")) +\n",
    "    guides(color = guide_legend(title = \"Marker genes\", override.aes = list(size = 3))) +\n",
    "    theme_void(base_size = 6) +\n",
    "    theme(\n",
    "        legend.position = \"left\",\n",
    "        legend.key.width = unit(0.12, \"in\"),\n",
    "        legend.key.height = unit(0.12, \"in\"),\n",
    "        legend.margin = margin(0, -10, 0, 5))\n",
    "\n",
    "ggsave(\"plots/cell.type.id.IRM.vs.BWM.pdf\", plot = plot,\n",
    "    device = cairo_pdf, units = \"in\", width = 2.5, height = 2.0)"
   ]
  },
  {
   "cell_type": "code",
   "execution_count": 119,
   "metadata": {
    "collapsed": false
   },
   "outputs": [],
   "source": [
    "pData(cds)$expr.myo.2 = expresses.gene(cds, \"myo-2\")\n",
    "pData(cds)$expr.myo.1 = expresses.gene(cds, \"myo-1\")\n",
    "pData(cds)$expr.pha.4 = expresses.gene(cds, \"pha-4\")\n",
    "pData(cds)$expr.ajm.1 = expresses.gene(cds, \"ajm-1\")\n",
    "pData(cds)$expr.sma.1 = expresses.gene(cds, \"sma-1\")\n",
    "pData(cds)$expr.nas.1 = expresses.gene(cds, \"nas-1\")\n",
    "pData(cds)$expr.nas.15 = expresses.gene(cds, \"nas-15\")\n",
    "pData(cds)$expr.phat.2 = expresses.gene(cds, \"phat-2\")\n",
    "pData(cds)$expr.phat.4 = expresses.gene(cds, \"phat-4\")\n",
    "pData(cds)$expr.phat.6 = expresses.gene(cds, \"phat-6\")"
   ]
  },
  {
   "cell_type": "code",
   "execution_count": 120,
   "metadata": {
    "collapsed": false
   },
   "outputs": [],
   "source": [
    "pData(cds)$plot.group = with(pData(cds), ifelse(\n",
    "    expr.pha.4, \"Yes\", \"No\"))\n",
    "\n",
    "pData(cds)$plot.group = factor(pData(cds)$plot.group, levels = c(\n",
    "    \"Yes\", \"No\"))\n",
    "\n",
    "plot = ggplot(pData(cds), aes(x = tsne_1, y = tsne_2, color = plot.group)) +\n",
    "    geom_point(size = 0.001) +\n",
    "    scale_color_manual(values = c(\"firebrick\", \"grey70\")) +\n",
    "    guides(color = guide_legend(title = \"Expresses pha-4?\", override.aes = list(size = 3))) +\n",
    "    theme_void(base_size = 6) +\n",
    "    theme(\n",
    "        legend.position = \"left\",\n",
    "        legend.key.width = unit(0.12, \"in\"),\n",
    "        legend.key.height = unit(0.12, \"in\"),\n",
    "        legend.margin = margin(0, -10, 0, 5))\n",
    "\n",
    "ggsave(\"plots/cell.type.id.pha-4.pdf\", plot = plot,\n",
    "    device = cairo_pdf, units = \"in\", width = 2.5, height = 2.0)"
   ]
  },
  {
   "cell_type": "code",
   "execution_count": 121,
   "metadata": {
    "collapsed": true
   },
   "outputs": [],
   "source": [
    "pData(cds)$plot.group = with(pData(cds), ifelse(\n",
    "    expr.phat.2 & expr.phat.4, \"phat-2 and phat-4\", ifelse(\n",
    "    expr.phat.2, \"phat-2\", ifelse(\n",
    "    expr.phat.4, \"phat-4\", \"None\"))))\n",
    "\n",
    "pData(cds)$plot.group = factor(pData(cds)$plot.group, levels = c(\n",
    "    \"phat-2 and phat-4\", \"phat-2\", \"phat-4\", \"None\"))\n",
    "\n",
    "plot = ggplot(pData(cds), aes(x = tsne_1, y = tsne_2, color = plot.group)) +\n",
    "    geom_point(size = 0.001) +\n",
    "    scale_color_manual(values = c(\"firebrick\", \"dodgerblue3\", \"forestgreen\", \"grey70\")) +\n",
    "    guides(color = guide_legend(title = \"Marker genes\", override.aes = list(size = 3))) +\n",
    "    theme_void(base_size = 6) +\n",
    "    theme(\n",
    "        legend.position = \"left\",\n",
    "        legend.key.width = unit(0.12, \"in\"),\n",
    "        legend.key.height = unit(0.12, \"in\"),\n",
    "        legend.margin = margin(0, -10, 0, 5))\n",
    "\n",
    "ggsave(\"plots/cell.type.id.pharyngeal.gland.pdf\", plot = plot,\n",
    "    device = cairo_pdf, units = \"in\", width = 2.5, height = 2.0)"
   ]
  },
  {
   "cell_type": "code",
   "execution_count": 123,
   "metadata": {
    "collapsed": false
   },
   "outputs": [],
   "source": [
    "pData(cds)$plot.group = with(pData(cds), ifelse(\n",
    "    expr.myo.2 & expr.myo.1, \"myo-2 and myo-1\", ifelse(\n",
    "    expr.myo.2, \"myo-2\", ifelse(\n",
    "    expr.myo.1, \"myo-1\", \"None\"))))\n",
    "\n",
    "pData(cds)$plot.group = factor(pData(cds)$plot.group, levels = c(\n",
    "    \"myo-2 and myo-1\", \"myo-2\", \"myo-1\", \"None\"))\n",
    "\n",
    "plot = ggplot(pData(cds), aes(x = tsne_1, y = tsne_2, color = plot.group)) +\n",
    "    geom_point(size = 0.001) +\n",
    "    scale_color_manual(values = c(\"firebrick\", \"dodgerblue3\", \"forestgreen\", \"grey70\")) +\n",
    "    guides(color = guide_legend(title = \"Marker genes\", override.aes = list(size = 3))) +\n",
    "    theme_void(base_size = 6) +\n",
    "    theme(\n",
    "        legend.position = \"left\",\n",
    "        legend.key.width = unit(0.12, \"in\"),\n",
    "        legend.key.height = unit(0.12, \"in\"),\n",
    "        legend.margin = margin(0, -10, 0, 5))\n",
    "\n",
    "ggsave(\"plots/cell.type.id.pharyngeal.muscle.pdf\", plot = plot,\n",
    "    device = cairo_pdf, units = \"in\", width = 2.5, height = 2.0)"
   ]
  },
  {
   "cell_type": "code",
   "execution_count": 124,
   "metadata": {
    "collapsed": true
   },
   "outputs": [],
   "source": [
    "pData(cds)$plot.group = with(pData(cds), ifelse(\n",
    "    expr.ajm.1 + expr.nas.1 + expr.nas.15 > 1, \"Multiple\", ifelse(\n",
    "    expr.ajm.1, \"ajm-1\", ifelse(\n",
    "    expr.nas.1, \"nas-1\", ifelse(\n",
    "    expr.nas.15, \"nas-15\", \"None\")))))\n",
    "\n",
    "pData(cds)$plot.group = factor(pData(cds)$plot.group, levels = c(\n",
    "    \"Multiple\", \"ajm-1\", \"nas-1\", \"nas-15\", \"None\"))\n",
    "\n",
    "plot = ggplot(pData(cds), aes(x = tsne_1, y = tsne_2, color = plot.group)) +\n",
    "    geom_point(size = 0.001) +\n",
    "    scale_color_manual(values = c(\"firebrick\", \"dodgerblue3\", \"forestgreen\", \"darkorange\", \"grey70\")) +\n",
    "    guides(color = guide_legend(title = \"Marker genes\", override.aes = list(size = 3))) +\n",
    "    theme_void(base_size = 6) +\n",
    "    theme(\n",
    "        legend.position = \"left\",\n",
    "        legend.key.width = unit(0.12, \"in\"),\n",
    "        legend.key.height = unit(0.12, \"in\"),\n",
    "        legend.margin = margin(0, -10, 0, 5))\n",
    "\n",
    "ggsave(\"plots/cell.type.id.pharyngeal.epithelia.pdf\", plot = plot,\n",
    "    device = cairo_pdf, units = \"in\", width = 2.5, height = 2.0)"
   ]
  },
  {
   "cell_type": "code",
   "execution_count": 125,
   "metadata": {
    "collapsed": true
   },
   "outputs": [],
   "source": [
    "pData(cds)$expr.grd.13 = expresses.gene(cds, \"grd-13\")\n",
    "pData(cds)$expr.grd.10 = expresses.gene(cds, \"grd-10\")\n",
    "pData(cds)$expr.bah.1 = expresses.gene(cds, \"bah-1\")\n",
    "pData(cds)$expr.nhr.73 = expresses.gene(cds, \"nhr-73\")\n",
    "pData(cds)$expr.ceh.16 = expresses.gene(cds, \"ceh-16\")\n",
    "pData(cds)$expr.grd.1 = expresses.gene(cds, \"grd-1\")\n",
    "pData(cds)$expr.grd.12 = expresses.gene(cds, \"grd-12\")\n",
    "pData(cds)$expr.qua.1 = expresses.gene(cds, \"qua-1\")\n",
    "pData(cds)$expr.sqt.1 = expresses.gene(cds, \"sqt-1\")\n",
    "pData(cds)$expr.dpy.5 = expresses.gene(cds, \"dpy-5\")\n",
    "pData(cds)$expr.col.12 = expresses.gene(cds, \"col-12\")\n",
    "pData(cds)$expr.mup.4 = expresses.gene(cds, \"mup-4\")"
   ]
  },
  {
   "cell_type": "code",
   "execution_count": 144,
   "metadata": {
    "collapsed": true
   },
   "outputs": [],
   "source": [
    "pData(cds)$plot.group = with(pData(cds), ifelse(\n",
    "    expr.grd.10 & expr.grd.13, \"grd-10 and grd-13\", ifelse(\n",
    "    expr.grd.10, \"grd-10\", ifelse(\n",
    "    expr.grd.13, \"grd-13\", \"None\"))))\n",
    "\n",
    "pData(cds)$plot.group = factor(pData(cds)$plot.group, levels = c(\n",
    "    \"grd-10 and grd-13\", \"grd-10\", \"grd-13\", \"None\"))\n",
    "\n",
    "plot = ggplot(pData(cds), aes(x = tsne_1, y = tsne_2, color = plot.group)) +\n",
    "    geom_point(size = 0.001) +\n",
    "    scale_color_manual(values = c(\"orchid4\", \"firebrick\", \"dodgerblue3\", \"grey70\")) +\n",
    "    guides(color = guide_legend(title = \"Marker genes\", override.aes = list(size = 3))) +\n",
    "    theme_void(base_size = 6) +\n",
    "    theme(\n",
    "        legend.position = \"left\",\n",
    "        legend.key.width = unit(0.12, \"in\"),\n",
    "        legend.key.height = unit(0.12, \"in\"),\n",
    "        legend.margin = margin(0, -10, 0, 5))\n",
    "\n",
    "ggsave(\"plots/cell.type.id.seam.cells.pdf\", plot = plot,\n",
    "    device = cairo_pdf, units = \"in\", width = 2.5, height = 2.0)"
   ]
  },
  {
   "cell_type": "code",
   "execution_count": 143,
   "metadata": {
    "collapsed": true
   },
   "outputs": [],
   "source": [
    "pData(cds)$plot.group = with(pData(cds), ifelse(\n",
    "    expr.bah.1, \"Yes\", \"No\"))\n",
    "\n",
    "pData(cds)$plot.group = factor(pData(cds)$plot.group, levels = c(\n",
    "    \"Yes\", \"No\"))\n",
    "\n",
    "plot = ggplot(pData(cds), aes(x = tsne_1, y = tsne_2, color = plot.group)) +\n",
    "    geom_point(size = 0.001) +\n",
    "    scale_color_manual(values = c(\"orchid4\", \"grey70\")) +\n",
    "    guides(color = guide_legend(title = \"Expresses bah-1?\", override.aes = list(size = 3))) +\n",
    "    theme_void(base_size = 6) +\n",
    "    theme(\n",
    "        legend.position = \"left\",\n",
    "        legend.key.width = unit(0.12, \"in\"),\n",
    "        legend.key.height = unit(0.12, \"in\"),\n",
    "        legend.margin = margin(0, -10, 0, 5))\n",
    "\n",
    "ggsave(\"plots/cell.type.id.bah-1.pdf\", plot = plot,\n",
    "    device = cairo_pdf, units = \"in\", width = 2.5, height = 2.0)"
   ]
  },
  {
   "cell_type": "code",
   "execution_count": 142,
   "metadata": {
    "collapsed": true
   },
   "outputs": [],
   "source": [
    "pData(cds)$plot.group = with(pData(cds), ifelse(\n",
    "    expr.grd.1 & expr.grd.12, \"grd-1 and grd-12\", ifelse(\n",
    "    expr.grd.1, \"grd-1\", ifelse(\n",
    "    expr.grd.12, \"grd-12\", \"None\"))))\n",
    "\n",
    "pData(cds)$plot.group = factor(pData(cds)$plot.group, levels = c(\n",
    "    \"grd-1 and grd-12\", \"grd-1\", \"grd-12\", \"None\"))\n",
    "\n",
    "plot = ggplot(pData(cds), aes(x = tsne_1, y = tsne_2, color = plot.group)) +\n",
    "    geom_point(size = 0.001) +\n",
    "    scale_color_manual(values = c(\"orchid4\", \"firebrick\", \"dodgerblue3\", \"grey70\")) +\n",
    "    guides(color = guide_legend(title = \"Marker genes\", override.aes = list(size = 3))) +\n",
    "    theme_void(base_size = 6) +\n",
    "    theme(\n",
    "        legend.position = \"left\",\n",
    "        legend.key.width = unit(0.12, \"in\"),\n",
    "        legend.key.height = unit(0.12, \"in\"),\n",
    "        legend.margin = margin(0, -10, 0, 5))\n",
    "\n",
    "ggsave(\"plots/cell.type.id.rectum.pdf\", plot = plot,\n",
    "    device = cairo_pdf, units = \"in\", width = 2.5, height = 2.0)"
   ]
  },
  {
   "cell_type": "code",
   "execution_count": 141,
   "metadata": {
    "collapsed": true
   },
   "outputs": [],
   "source": [
    "pData(cds)$plot.group = with(pData(cds), ifelse(\n",
    "    expr.grd.1 & expr.grd.12, \"grd-1 and grd-12\", ifelse(\n",
    "    expr.grd.1, \"grd-1\", ifelse(\n",
    "    expr.grd.12, \"grd-12\", \"None\"))))\n",
    "\n",
    "pData(cds)$plot.group = factor(pData(cds)$plot.group, levels = c(\n",
    "    \"grd-1 and grd-12\", \"grd-1\", \"grd-12\", \"None\"))\n",
    "\n",
    "plot = ggplot(pData(cds) %>% filter(!is.na(tissue) & tissue == \"Hypodermis\"),\n",
    "              aes(x = tsne_1, y = tsne_2, color = plot.group)) +\n",
    "    geom_point(size = 0.001) +\n",
    "    scale_color_manual(values = c(\"orchid4\", \"firebrick\", \"dodgerblue3\", \"grey70\")) +\n",
    "    guides(color = guide_legend(title = \"Marker genes\", override.aes = list(size = 3))) +\n",
    "    theme_void(base_size = 6) +\n",
    "    theme(\n",
    "        legend.position = \"left\",\n",
    "        legend.key.width = unit(0.12, \"in\"),\n",
    "        legend.key.height = unit(0.12, \"in\"),\n",
    "        legend.margin = margin(0, -10, 0, 5))\n",
    "\n",
    "ggsave(\"plots/cell.type.id.rectum.zoom.pdf\", plot = plot,\n",
    "    device = cairo_pdf, units = \"in\", width = 2.5, height = 2.0)"
   ]
  },
  {
   "cell_type": "code",
   "execution_count": 140,
   "metadata": {
    "collapsed": true
   },
   "outputs": [],
   "source": [
    "pData(cds)$plot.group = with(pData(cds), ifelse(\n",
    "    expr.sqt.1 + expr.dpy.5 + expr.col.12 > 1, \"Multiple\", ifelse(\n",
    "    expr.sqt.1, \"sqt-1\", ifelse(\n",
    "    expr.dpy.5, \"dpy-5\", ifelse(\n",
    "    expr.col.12, \"col-12\", \"None\")))))\n",
    "\n",
    "pData(cds)$plot.group = factor(pData(cds)$plot.group, levels = c(\n",
    "    \"Multiple\", \"sqt-1\", \"dpy-5\", \"col-12\", \"None\"))\n",
    "\n",
    "plot = ggplot(pData(cds), aes(x = tsne_1, y = tsne_2, color = plot.group)) +\n",
    "    geom_point(size = 0.001) +\n",
    "    scale_color_manual(values = c(\"orchid4\", \"firebrick\", \"dodgerblue3\", \"forestgreen\", \"grey70\")) +\n",
    "    guides(color = guide_legend(title = \"Marker genes\", override.aes = list(size = 3))) +\n",
    "    theme_void(base_size = 6) +\n",
    "    theme(\n",
    "        legend.position = \"left\",\n",
    "        legend.key.width = unit(0.12, \"in\"),\n",
    "        legend.key.height = unit(0.12, \"in\"),\n",
    "        legend.margin = margin(0, -10, 0, 5))\n",
    "\n",
    "ggsave(\"plots/cell.type.id.hypodermis.pdf\", plot = plot,\n",
    "    device = cairo_pdf, units = \"in\", width = 2.5, height = 2.0)"
   ]
  },
  {
   "cell_type": "code",
   "execution_count": 139,
   "metadata": {
    "collapsed": true
   },
   "outputs": [],
   "source": [
    "pData(cds)$plot.group = with(pData(cds), ifelse(\n",
    "    expr.mup.4, \"Yes\", \"No\"))\n",
    "\n",
    "pData(cds)$plot.group = factor(pData(cds)$plot.group, levels = c(\n",
    "    \"Yes\", \"No\"))\n",
    "\n",
    "plot = ggplot(pData(cds), aes(x = tsne_1, y = tsne_2, color = plot.group)) +\n",
    "    geom_point(size = 0.001) +\n",
    "    scale_color_manual(values = c(\"orchid4\", \"grey70\")) +\n",
    "    guides(color = guide_legend(title = \"Expresses mup-4?\", override.aes = list(size = 3))) +\n",
    "    theme_void(base_size = 6) +\n",
    "    theme(\n",
    "        legend.position = \"left\",\n",
    "        legend.key.width = unit(0.12, \"in\"),\n",
    "        legend.key.height = unit(0.12, \"in\"),\n",
    "        legend.margin = margin(0, -10, 0, 5))\n",
    "\n",
    "ggsave(\"plots/cell.type.id.mup-4.pdf\", plot = plot,\n",
    "    device = cairo_pdf, units = \"in\", width = 2.5, height = 2.0)"
   ]
  },
  {
   "cell_type": "code",
   "execution_count": 132,
   "metadata": {
    "collapsed": true
   },
   "outputs": [],
   "source": [
    "pData(cds)$expr.egl.21 = expresses.gene(cds, \"egl-21\")\n",
    "pData(cds)$expr.egl.3 = expresses.gene(cds, \"egl-3\")\n",
    "pData(cds)$expr.ida.1 = expresses.gene(cds, \"ida-1\")\n",
    "pData(cds)$expr.sbt.1 = expresses.gene(cds, \"sbt-1\")"
   ]
  },
  {
   "cell_type": "code",
   "execution_count": 138,
   "metadata": {
    "collapsed": false
   },
   "outputs": [],
   "source": [
    "pData(cds)$plot.group = with(pData(cds), ifelse(\n",
    "    expr.egl.21 + expr.egl.3 + expr.ida.1 + expr.sbt.1 > 1, \"Multiple\", ifelse(\n",
    "    expr.egl.21, \"egl-21\", ifelse(\n",
    "    expr.egl.3, \"egl-3\", ifelse(\n",
    "    expr.ida.1, \"ida-1\", ifelse(\n",
    "    expr.sbt.1, \"sbt-1\", \"None\"))))))\n",
    "\n",
    "pData(cds)$plot.group = factor(pData(cds)$plot.group, levels = c(\n",
    "    \"Multiple\", \"egl-21\", \"egl-3\", \"ida-1\", \"sbt-1\", \"None\"))\n",
    "\n",
    "plot = ggplot(pData(cds), aes(x = tsne_1, y = tsne_2, color = plot.group)) +\n",
    "    geom_point(size = 0.001) +\n",
    "    scale_color_manual(values = c(\"orchid4\", \"firebrick\", \"dodgerblue3\", \"forestgreen\", \"darkorange\", \"grey70\")) +\n",
    "    guides(color = guide_legend(title = \"Marker genes\", override.aes = list(size = 3))) +\n",
    "    theme_void(base_size = 6) +\n",
    "    theme(\n",
    "        legend.position = \"left\",\n",
    "        legend.key.width = unit(0.12, \"in\"),\n",
    "        legend.key.height = unit(0.12, \"in\"),\n",
    "        legend.margin = margin(0, -10, 0, 5))\n",
    "\n",
    "ggsave(\"plots/cell.type.id.neurons.pdf\", plot = plot,\n",
    "    device = cairo_pdf, units = \"in\", width = 2.5, height = 2.0)"
   ]
  },
  {
   "cell_type": "code",
   "execution_count": 134,
   "metadata": {
    "collapsed": true
   },
   "outputs": [],
   "source": [
    "pData(cds)$expr.acy.2 = expresses.gene(cds, \"acy-2\")\n",
    "pData(cds)$expr.ace.3 = expresses.gene(cds, \"ace-3\")\n",
    "pData(cds)$expr.mig.6 = expresses.gene(cds, \"mig-6\")\n",
    "pData(cds)$expr.cwn.1 = expresses.gene(cds, \"cwn-1\")"
   ]
  },
  {
   "cell_type": "code",
   "execution_count": 137,
   "metadata": {
    "collapsed": true
   },
   "outputs": [],
   "source": [
    "pData(cds)$plot.group = with(pData(cds), ifelse(\n",
    "    expr.acy.2 & expr.ace.3, \"acy-2 and ace-3\", ifelse(\n",
    "    expr.acy.2, \"acy-2\", ifelse(\n",
    "    expr.ace.3, \"ace-3\", \"None\"))))\n",
    "\n",
    "pData(cds)$plot.group = factor(pData(cds)$plot.group, levels = c(\n",
    "    \"acy-2 and ace-3\", \"acy-2\", \"ace-3\", \"None\"))\n",
    "\n",
    "plot = ggplot(pData(cds), aes(x = tsne_1, y = tsne_2, color = plot.group)) +\n",
    "    geom_point(size = 0.001) +\n",
    "    scale_color_manual(values = c(\"orchid4\", \"firebrick\", \"dodgerblue3\", \"grey70\")) +\n",
    "    guides(color = guide_legend(title = \"Marker genes\", override.aes = list(size = 3))) +\n",
    "    theme_void(base_size = 6) +\n",
    "    theme(\n",
    "        legend.position = \"left\",\n",
    "        legend.key.width = unit(0.12, \"in\"),\n",
    "        legend.key.height = unit(0.12, \"in\"),\n",
    "        legend.margin = margin(0, -10, 0, 5))\n",
    "\n",
    "ggsave(\"plots/cell.type.id.CAN.pdf\", plot = plot,\n",
    "    device = cairo_pdf, units = \"in\", width = 2.5, height = 2.0)"
   ]
  },
  {
   "cell_type": "code",
   "execution_count": 136,
   "metadata": {
    "collapsed": false
   },
   "outputs": [],
   "source": [
    "pData(cds)$expr.vap.1 = expresses.gene(cds, \"vap-1\")\n",
    "pData(cds)$expr.fig.1 = expresses.gene(cds, \"fig-1\")\n",
    "pData(cds)$expr.grl.1 = expresses.gene(cds, \"grl-1\")\n",
    "pData(cds)$expr.grl.2 = expresses.gene(cds, \"grl-2\")\n",
    "pData(cds)$expr.grd.15 = expresses.gene(cds, \"grd-15\")\n",
    "pData(cds)$expr.daf.6 = expresses.gene(cds, \"daf-6\")\n",
    "pData(cds)$expr.ram.5 = expresses.gene(cds, \"ram-5\")\n",
    "pData(cds)$expr.kcc.3 = expresses.gene(cds, \"kcc-3\")"
   ]
  },
  {
   "cell_type": "code",
   "execution_count": 98,
   "metadata": {
    "collapsed": false
   },
   "outputs": [],
   "source": [
    "pData(cds)$plot.group = with(pData(cds), ifelse(\n",
    "    expr.vap.1 & expr.fig.1, \"vap-1 and fig-1\", ifelse(\n",
    "    expr.vap.1, \"vap-1\", ifelse(\n",
    "    expr.fig.1, \"fig-1\", \"None\"))))\n",
    "\n",
    "pData(cds)$plot.group = factor(pData(cds)$plot.group, levels = c(\n",
    "    \"vap-1 and fig-1\", \"vap-1\", \"fig-1\", \"None\"))\n",
    "\n",
    "plot = ggplot(pData(cds), aes(x = tsne_1, y = tsne_2, color = plot.group)) +\n",
    "    geom_point(size = 0.001) +\n",
    "    scale_color_manual(values = c(\"orchid4\", \"firebrick\", \"dodgerblue3\", \"grey70\")) +\n",
    "    guides(color = guide_legend(title = \"Marker genes\", override.aes = list(size = 3))) +\n",
    "    theme_void(base_size = 6) +\n",
    "    theme(\n",
    "        legend.position = \"left\",\n",
    "        legend.key.width = unit(0.12, \"in\"),\n",
    "        legend.key.height = unit(0.12, \"in\"),\n",
    "        legend.margin = margin(0, -10, 0, 5))\n",
    "\n",
    "ggsave(\"plots/cell.type.id.AmPH.sheath.pdf\", plot = plot,\n",
    "    device = cairo_pdf, units = \"in\", width = 2.5, height = 2.0)"
   ]
  },
  {
   "cell_type": "code",
   "execution_count": 105,
   "metadata": {
    "collapsed": true
   },
   "outputs": [],
   "source": [
    "pData(cds)$plot.group = with(pData(cds), ifelse(\n",
    "    expr.grl.1 + expr.ram.5 + expr.kcc.3 > 1, \"Multiple\", ifelse(\n",
    "    expr.grl.1, \"grl-1\", ifelse(\n",
    "    expr.ram.5, \"ram-5\", ifelse(\n",
    "    expr.kcc.3, \"kcc-3\", \"None\")))))\n",
    "\n",
    "pData(cds)$plot.group = factor(pData(cds)$plot.group, levels = c(\n",
    "    \"Multiple\", \"grl-1\", \"ram-5\", \"kcc-3\", \"None\"))\n",
    "\n",
    "plot = ggplot(pData(cds), aes(x = tsne_1, y = tsne_2, color = plot.group)) +\n",
    "    geom_point(size = 0.001) +\n",
    "    scale_color_manual(values = c(\"orchid4\", \"firebrick\", \"dodgerblue3\", \"forestgreen\", \"grey70\")) +\n",
    "    guides(color = guide_legend(title = \"Marker genes\", override.aes = list(size = 3))) +\n",
    "    theme_void(base_size = 6) +\n",
    "    theme(\n",
    "        legend.position = \"left\",\n",
    "        legend.key.width = unit(0.12, \"in\"),\n",
    "        legend.key.height = unit(0.12, \"in\"),\n",
    "        legend.margin = margin(0, -10, 0, 5))\n",
    "\n",
    "ggsave(\"plots/cell.type.id.glia.pdf\", plot = plot,\n",
    "    device = cairo_pdf, units = \"in\", width = 2.5, height = 2.0)"
   ]
  },
  {
   "cell_type": "code",
   "execution_count": 107,
   "metadata": {
    "collapsed": false
   },
   "outputs": [],
   "source": [
    "load(\"RData/cds.glia.RData\")"
   ]
  },
  {
   "cell_type": "code",
   "execution_count": 115,
   "metadata": {
    "collapsed": true
   },
   "outputs": [],
   "source": [
    "pData(cds)$expr.ifa.4 = expresses.gene(cds, \"ifa-4\")\n",
    "pData(cds)$expr.grl.2 = expresses.gene(cds, \"grl-2\")"
   ]
  },
  {
   "cell_type": "code",
   "execution_count": 116,
   "metadata": {
    "collapsed": true
   },
   "outputs": [],
   "source": [
    "pData(cds)$plot.group = with(pData(cds), ifelse(\n",
    "    expr.ifa.4 & expr.grl.2, \"ifa-4 and grl-2\", ifelse(\n",
    "    expr.ifa.4, \"ifa-4\", ifelse(\n",
    "    expr.grl.2, \"grl-2\", \"None\"))))\n",
    "\n",
    "pData(cds)$plot.group = factor(pData(cds)$plot.group, levels = c(\n",
    "    \"ifa-4 and grl-2\", \"ifa-4\", \"grl-2\", \"None\"))\n",
    "\n",
    "plot = ggplot(pData(cds), aes(x = tsne_1, y = tsne_2, color = plot.group)) +\n",
    "    geom_point(size = 0.001) +\n",
    "    scale_color_manual(values = c(\"orchid4\", \"firebrick\", \"dodgerblue3\", \"grey70\")) +\n",
    "    guides(color = guide_legend(title = \"Marker genes\", override.aes = list(size = 3))) +\n",
    "    theme_void(base_size = 6) +\n",
    "    theme(\n",
    "        legend.position = \"left\",\n",
    "        legend.key.width = unit(0.12, \"in\"),\n",
    "        legend.key.height = unit(0.12, \"in\"),\n",
    "        legend.margin = margin(0, -10, 0, 5))\n",
    "\n",
    "ggsave(\"plots/cell.type.id.excretory.cells.pdf\", plot = plot,\n",
    "    device = cairo_pdf, units = \"in\", width = 2.5, height = 2.0)"
   ]
  },
  {
   "cell_type": "code",
   "execution_count": 118,
   "metadata": {
    "collapsed": true
   },
   "outputs": [],
   "source": [
    "pData(cds.glia)$expr.ifa.4 = expresses.gene(cds.glia, \"ifa-4\")\n",
    "pData(cds.glia)$expr.grl.2 = expresses.gene(cds.glia, \"grl-2\")"
   ]
  },
  {
   "cell_type": "code",
   "execution_count": 120,
   "metadata": {
    "collapsed": false
   },
   "outputs": [],
   "source": [
    "pData(cds.glia)$plot.group = with(pData(cds.glia), ifelse(\n",
    "    expr.ifa.4 & expr.grl.2, \"ifa-4 and grl-2\", ifelse(\n",
    "    expr.ifa.4, \"ifa-4\", ifelse(\n",
    "    expr.grl.2, \"grl-2\", \"None\"))))\n",
    "\n",
    "pData(cds.glia)$plot.group = factor(pData(cds.glia)$plot.group, levels = c(\n",
    "    \"ifa-4 and grl-2\", \"ifa-4\", \"grl-2\", \"None\"))\n",
    "\n",
    "plot = ggplot(pData(cds.glia), aes(x = tsne_1, y = tsne_2, color = plot.group)) +\n",
    "    geom_point(size = 0.001) +\n",
    "    scale_color_manual(values = c(\"orchid4\", \"firebrick\", \"dodgerblue3\", \"grey70\")) +\n",
    "    guides(color = guide_legend(title = \"Marker genes\", override.aes = list(size = 3))) +\n",
    "    theme_void(base_size = 6) +\n",
    "    theme(\n",
    "        legend.position = \"left\",\n",
    "        legend.key.width = unit(0.12, \"in\"),\n",
    "        legend.key.height = unit(0.12, \"in\"),\n",
    "        legend.margin = margin(0, -10, 0, 5))\n",
    "\n",
    "ggsave(\"plots/cell.type.id.excretory.cells.zoom.pdf\", plot = plot,\n",
    "    device = cairo_pdf, units = \"in\", width = 2.5, height = 2.0)"
   ]
  },
  {
   "cell_type": "code",
   "execution_count": 4,
   "metadata": {
    "collapsed": true
   },
   "outputs": [],
   "source": [
    "pData(cds)$expr.pgl.1 = expresses.gene(cds, \"pgl-1\")\n",
    "pData(cds)$expr.cgh.1 = expresses.gene(cds, \"cgh-1\")\n",
    "pData(cds)$expr.glh.1 = expresses.gene(cds, \"glh-1\")"
   ]
  },
  {
   "cell_type": "code",
   "execution_count": 5,
   "metadata": {
    "collapsed": true
   },
   "outputs": [],
   "source": [
    "pData(cds)$plot.group = with(pData(cds), ifelse(\n",
    "    expr.glh.1 & expr.pgl.1, \"glh-1 and pgl-1\", ifelse(\n",
    "    expr.glh.1, \"glh-1\", ifelse(\n",
    "    expr.pgl.1, \"pgl-1\", \"None\"))))\n",
    "\n",
    "pData(cds)$plot.group = factor(pData(cds)$plot.group, levels = c(\n",
    "    \"glh-1 and pgl-1\", \"glh-1\", \"pgl-1\", \"None\"))\n",
    "\n",
    "plot = ggplot(pData(cds), aes(x = tsne_1, y = tsne_2, color = plot.group)) +\n",
    "    geom_point(size = 0.001) +\n",
    "    scale_color_manual(values = c(\"orchid4\", \"firebrick\", \"dodgerblue3\", \"grey70\")) +\n",
    "    guides(color = guide_legend(title = \"Marker genes\", override.aes = list(size = 3))) +\n",
    "    theme_void(base_size = 6) +\n",
    "    theme(\n",
    "        legend.position = \"left\",\n",
    "        legend.key.width = unit(0.12, \"in\"),\n",
    "        legend.key.height = unit(0.12, \"in\"),\n",
    "        legend.margin = margin(0, -10, 0, 5))\n",
    "\n",
    "ggsave(\"plots/cell.type.id.germline.pdf\", plot = plot,\n",
    "    device = cairo_pdf, units = \"in\", width = 2.5, height = 2.0)"
   ]
  },
  {
   "cell_type": "code",
   "execution_count": 14,
   "metadata": {
    "collapsed": false
   },
   "outputs": [],
   "source": [
    "pData(cds)$expr.lin.12 = expresses.gene(cds, \"lin-12\")\n",
    "pData(cds)$expr.dgn.1 = expresses.gene(cds, \"dgn-1\")\n",
    "pData(cds)$expr.inx.9 = expresses.gene(cds, \"inx-9\")\n",
    "pData(cds)$expr.cle.1 = expresses.gene(cds, \"cle-1\")\n",
    "pData(cds)$expr.mig.6 = expresses.gene(cds, \"mig-6\")\n",
    "pData(cds)$expr.nid.1 = expresses.gene(cds, \"nid-1\")"
   ]
  },
  {
   "cell_type": "code",
   "execution_count": 9,
   "metadata": {
    "collapsed": false
   },
   "outputs": [],
   "source": [
    "pData(cds)$plot.group = with(pData(cds), ifelse(\n",
    "    expr.mig.6 & expr.nid.1, \"mig-6 and nid-1\", ifelse(\n",
    "    expr.mig.6, \"mig-6\", ifelse(\n",
    "    expr.nid.1, \"nid-1\", \"None\"))))\n",
    "\n",
    "pData(cds)$plot.group = factor(pData(cds)$plot.group, levels = c(\n",
    "    \"mig-6 and nid-1\", \"mig-6\", \"nid-1\", \"None\"))\n",
    "\n",
    "plot = ggplot(pData(cds), aes(x = tsne_1, y = tsne_2, color = plot.group)) +\n",
    "    geom_point(size = 0.001) +\n",
    "    scale_color_manual(values = c(\"orchid4\", \"firebrick\", \"dodgerblue3\", \"grey70\")) +\n",
    "    guides(color = guide_legend(title = \"Marker genes\", override.aes = list(size = 3))) +\n",
    "    theme_void(base_size = 6) +\n",
    "    theme(\n",
    "        legend.position = \"left\",\n",
    "        legend.key.width = unit(0.12, \"in\"),\n",
    "        legend.key.height = unit(0.12, \"in\"),\n",
    "        legend.margin = margin(0, -10, 0, 5))\n",
    "\n",
    "ggsave(\"plots/cell.type.id.DTC.pdf\", plot = plot,\n",
    "    device = cairo_pdf, units = \"in\", width = 2.5, height = 2.0)"
   ]
  },
  {
   "cell_type": "code",
   "execution_count": 15,
   "metadata": {
    "collapsed": true
   },
   "outputs": [],
   "source": [
    "pData(cds)$plot.group = with(pData(cds), ifelse(\n",
    "    expr.lin.12 + expr.dgn.1 + expr.inx.9 + expr.cle.1 > 1, \"Multiple\", ifelse(\n",
    "    expr.lin.12, \"lin-12\", ifelse(\n",
    "    expr.dgn.1, \"dgn-1\", ifelse(\n",
    "    expr.inx.9, \"inx-9\", ifelse(\n",
    "    expr.cle.1, \"cle-1\", \"None\"))))))\n",
    "\n",
    "pData(cds)$plot.group = factor(pData(cds)$plot.group, levels = c(\n",
    "    \"Multiple\", \"lin-12\", \"dgn-1\", \"inx-9\", \"cle-1\", \"None\"))\n",
    "\n",
    "plot = ggplot(pData(cds), aes(x = tsne_1, y = tsne_2, color = plot.group)) +\n",
    "    geom_point(size = 0.001) +\n",
    "    scale_color_manual(values = c(\"orchid4\", \"firebrick\", \"dodgerblue3\", \"forestgreen\", \"darkorange\", \"grey70\")) +\n",
    "    guides(color = guide_legend(title = \"Marker genes\", override.aes = list(size = 3))) +\n",
    "    theme_void(base_size = 6) +\n",
    "    theme(\n",
    "        legend.position = \"left\",\n",
    "        legend.key.width = unit(0.12, \"in\"),\n",
    "        legend.key.height = unit(0.12, \"in\"),\n",
    "        legend.margin = margin(0, -10, 0, 5))\n",
    "\n",
    "ggsave(\"plots/cell.type.id.somatic.gonad.pdf\", plot = plot,\n",
    "    device = cairo_pdf, units = \"in\", width = 2.5, height = 2.0)"
   ]
  },
  {
   "cell_type": "code",
   "execution_count": 16,
   "metadata": {
    "collapsed": true
   },
   "outputs": [],
   "source": [
    "pData(cds)$expr.egl.15 = expresses.gene(cds, \"egl-15\")\n",
    "pData(cds)$expr.osm.11 = expresses.gene(cds, \"osm-11\")\n",
    "pData(cds)$expr.let.23 = expresses.gene(cds, \"let-23\")"
   ]
  },
  {
   "cell_type": "code",
   "execution_count": 17,
   "metadata": {
    "collapsed": true
   },
   "outputs": [],
   "source": [
    "pData(cds)$plot.group = with(pData(cds), ifelse(\n",
    "    expr.egl.15, \"Yes\", \"No\"))\n",
    "\n",
    "pData(cds)$plot.group = factor(pData(cds)$plot.group, levels = c(\n",
    "    \"Yes\", \"No\"))\n",
    "\n",
    "plot = ggplot(pData(cds), aes(x = tsne_1, y = tsne_2, color = plot.group)) +\n",
    "    geom_point(size = 0.001) +\n",
    "    scale_color_manual(values = c(\"orchid4\", \"grey70\")) +\n",
    "    guides(color = guide_legend(title = \"Expresses egl-15?\", override.aes = list(size = 3))) +\n",
    "    theme_void(base_size = 6) +\n",
    "    theme(\n",
    "        legend.position = \"left\",\n",
    "        legend.key.width = unit(0.12, \"in\"),\n",
    "        legend.key.height = unit(0.12, \"in\"),\n",
    "        legend.margin = margin(0, -10, 0, 5))\n",
    "\n",
    "ggsave(\"plots/cell.type.id.egl-15.pdf\", plot = plot,\n",
    "    device = cairo_pdf, units = \"in\", width = 2.5, height = 2.0)"
   ]
  },
  {
   "cell_type": "code",
   "execution_count": 18,
   "metadata": {
    "collapsed": true
   },
   "outputs": [],
   "source": [
    "pData(cds)$plot.group = with(pData(cds), ifelse(\n",
    "    expr.osm.11 & expr.let.23, \"osm-11 and let-23\", ifelse(\n",
    "    expr.osm.11, \"osm-11\", ifelse(\n",
    "    expr.let.23, \"let-23\", \"None\"))))\n",
    "\n",
    "pData(cds)$plot.group = factor(pData(cds)$plot.group, levels = c(\n",
    "    \"osm-11 and let-23\", \"osm-11\", \"let-23\", \"None\"))\n",
    "\n",
    "plot = ggplot(pData(cds), aes(x = tsne_1, y = tsne_2, color = plot.group)) +\n",
    "    geom_point(size = 0.001) +\n",
    "    scale_color_manual(values = c(\"orchid4\", \"firebrick\", \"dodgerblue3\", \"grey70\")) +\n",
    "    guides(color = guide_legend(title = \"Marker genes\", override.aes = list(size = 3))) +\n",
    "    theme_void(base_size = 6) +\n",
    "    theme(\n",
    "        legend.position = \"left\",\n",
    "        legend.key.width = unit(0.12, \"in\"),\n",
    "        legend.key.height = unit(0.12, \"in\"),\n",
    "        legend.margin = margin(0, -10, 0, 5))\n",
    "\n",
    "ggsave(\"plots/cell.type.id.VPCs.pdf\", plot = plot,\n",
    "    device = cairo_pdf, units = \"in\", width = 2.5, height = 2.0)"
   ]
  },
  {
   "cell_type": "code",
   "execution_count": 21,
   "metadata": {
    "collapsed": true
   },
   "outputs": [],
   "source": [
    "fData(cds.experiment.2)$gene_id = fData(cds.experiment.2)$gene"
   ]
  },
  {
   "cell_type": "code",
   "execution_count": 25,
   "metadata": {
    "collapsed": false
   },
   "outputs": [],
   "source": [
    "pData(cds.experiment.2)$expr.asp.1 = expresses.gene(cds.experiment.2, \"asp-1\")\n",
    "pData(cds.experiment.2)$expr.nep.17 = expresses.gene(cds.experiment.2, \"nep-17\")"
   ]
  },
  {
   "cell_type": "code",
   "execution_count": 27,
   "metadata": {
    "collapsed": false
   },
   "outputs": [],
   "source": [
    "pData(cds.experiment.2)$plot.group = with(pData(cds.experiment.2), ifelse(\n",
    "    expr.asp.1 & expr.nep.17, \"asp-1 and nep-17\", ifelse(\n",
    "    expr.asp.1, \"asp-1\", ifelse(\n",
    "    expr.nep.17, \"nep-17\", \"None\"))))\n",
    "\n",
    "pData(cds.experiment.2)$plot.group = factor(pData(cds.experiment.2)$plot.group, levels = c(\n",
    "    \"asp-1 and nep-17\", \"asp-1\", \"nep-17\", \"None\"))\n",
    "\n",
    "plot = ggplot(pData(cds.experiment.2), aes(x = tsne_1, y = tsne_2, color = plot.group)) +\n",
    "    geom_point(size = 0.001) +\n",
    "    scale_color_manual(values = c(\"orchid4\", \"firebrick\", \"dodgerblue3\", \"grey70\")) +\n",
    "    guides(color = guide_legend(title = \"Marker genes\", override.aes = list(size = 3))) +\n",
    "    theme_void(base_size = 6) +\n",
    "    theme(\n",
    "        legend.position = \"left\",\n",
    "        legend.key.width = unit(0.12, \"in\"),\n",
    "        legend.key.height = unit(0.12, \"in\"),\n",
    "        legend.margin = margin(0, -10, 0, 5))\n",
    "\n",
    "ggsave(\"plots/cell.type.id.intestine.pdf\", plot = plot,\n",
    "    device = cairo_pdf, units = \"in\", width = 2.5, height = 2.0)"
   ]
  },
  {
   "cell_type": "code",
   "execution_count": 28,
   "metadata": {
    "collapsed": true
   },
   "outputs": [],
   "source": [
    "pData(cds)$expr.cup.4 = expresses.gene(cds, \"cup-4\")\n",
    "pData(cds)$expr.lgc.26 = expresses.gene(cds, \"lgc-26\")"
   ]
  },
  {
   "cell_type": "code",
   "execution_count": 29,
   "metadata": {
    "collapsed": true
   },
   "outputs": [],
   "source": [
    "pData(cds)$plot.group = with(pData(cds), ifelse(\n",
    "    expr.cup.4 & expr.lgc.26, \"cup-4 and lgc-26\", ifelse(\n",
    "    expr.cup.4, \"cup-4\", ifelse(\n",
    "    expr.lgc.26, \"lgc-26\", \"None\"))))\n",
    "\n",
    "pData(cds)$plot.group = factor(pData(cds)$plot.group, levels = c(\n",
    "    \"cup-4 and lgc-26\", \"cup-4\", \"lgc-26\", \"None\"))\n",
    "\n",
    "plot = ggplot(pData(cds), aes(x = tsne_1, y = tsne_2, color = plot.group)) +\n",
    "    geom_point(size = 0.001) +\n",
    "    scale_color_manual(values = c(\"orchid4\", \"firebrick\", \"dodgerblue3\", \"grey70\")) +\n",
    "    guides(color = guide_legend(title = \"Marker genes\", override.aes = list(size = 3))) +\n",
    "    theme_void(base_size = 6) +\n",
    "    theme(\n",
    "        legend.position = \"left\",\n",
    "        legend.key.width = unit(0.12, \"in\"),\n",
    "        legend.key.height = unit(0.12, \"in\"),\n",
    "        legend.margin = margin(0, -10, 0, 5))\n",
    "\n",
    "ggsave(\"plots/cell.type.id.coelomocytes.pdf\", plot = plot,\n",
    "    device = cairo_pdf, units = \"in\", width = 2.5, height = 2.0)"
   ]
  },
  {
   "cell_type": "code",
   "execution_count": 36,
   "metadata": {
    "collapsed": true
   },
   "outputs": [],
   "source": [
    "pData(cds.neurons)$expr.mec.17 = expresses.gene(cds.neurons, \"mec-17\")\n",
    "pData(cds.neurons)$expr.mec.7 = expresses.gene(cds.neurons, \"mec-7\")"
   ]
  },
  {
   "cell_type": "code",
   "execution_count": 109,
   "metadata": {
    "collapsed": true
   },
   "outputs": [],
   "source": [
    "pData(cds.neurons)$plot.group = with(pData(cds.neurons), ifelse(\n",
    "    expr.mec.17 & expr.mec.7, \"mec-17 and mec-7\", ifelse(\n",
    "    expr.mec.17, \"mec-17\", ifelse(\n",
    "    expr.mec.7, \"mec-7\", \"None\"))))\n",
    "\n",
    "pData(cds.neurons)$plot.group = factor(pData(cds.neurons)$plot.group, levels = c(\n",
    "    \"mec-17 and mec-7\", \"mec-17\", \"mec-7\", \"None\"))\n",
    "\n",
    "plot = ggplot(pData(cds.neurons), aes(x = tsne_1, y = tsne_2, color = plot.group)) +\n",
    "    geom_point(size = 0.001) +\n",
    "    scale_color_manual(values = c(\"firebrick\", \"dodgerblue3\", \"forestgreen\", \"grey70\")) +\n",
    "    guides(color = guide_legend(title = \"Marker genes\", override.aes = list(size = 3))) +\n",
    "    theme_void(base_size = 6) +\n",
    "    theme(\n",
    "        legend.position = \"left\",\n",
    "        legend.key.width = unit(0.12, \"in\"),\n",
    "        legend.key.height = unit(0.12, \"in\"),\n",
    "        legend.margin = margin(0, -10, 0, 5))\n",
    "\n",
    "ggsave(\"plots/cell.type.id.touch.receptor.neurons.pdf\", plot = plot,\n",
    "    device = cairo_pdf, units = \"in\", width = 2.5, height = 2.0)"
   ]
  },
  {
   "cell_type": "code",
   "execution_count": 40,
   "metadata": {
    "collapsed": true
   },
   "outputs": [],
   "source": [
    "pData(cds.neurons)$expr.acy.2 = expresses.gene(cds.neurons, \"acy-2\")\n",
    "pData(cds.neurons)$expr.ace.3 = expresses.gene(cds.neurons, \"ace-3\")\n",
    "pData(cds.neurons)$expr.mig.6 = expresses.gene(cds.neurons, \"mig-6\")"
   ]
  },
  {
   "cell_type": "code",
   "execution_count": 110,
   "metadata": {
    "collapsed": false
   },
   "outputs": [],
   "source": [
    "pData(cds.neurons)$plot.group = with(pData(cds.neurons), ifelse(\n",
    "    expr.acy.2 + expr.ace.3 + expr.mig.6 > 1, \"Multiple\", ifelse(\n",
    "    expr.acy.2, \"acy-2\", ifelse(\n",
    "    expr.ace.3, \"ace-3\", ifelse(\n",
    "    expr.mig.6, \"mig-6\", \"None\")))))\n",
    "\n",
    "pData(cds.neurons)$plot.group = factor(pData(cds.neurons)$plot.group, levels = c(\n",
    "    \"Multiple\", \"acy-2\", \"ace-3\", \"mig-6\", \"None\"))\n",
    "\n",
    "plot = ggplot(pData(cds.neurons), aes(x = tsne_1, y = tsne_2, color = plot.group)) +\n",
    "    geom_point(size = 0.001) +\n",
    "    scale_color_manual(values = c(\"firebrick\", \"dodgerblue3\", \"forestgreen\", \"darkorange\", \"grey70\")) +\n",
    "    guides(color = guide_legend(title = \"Marker genes\", override.aes = list(size = 3))) +\n",
    "    theme_void(base_size = 6) +\n",
    "    theme(\n",
    "        legend.position = \"left\",\n",
    "        legend.key.width = unit(0.12, \"in\"),\n",
    "        legend.key.height = unit(0.12, \"in\"),\n",
    "        legend.margin = margin(0, -10, 0, 5))\n",
    "\n",
    "ggsave(\"plots/cell.type.id.CAN.2.pdf\", plot = plot,\n",
    "    device = cairo_pdf, units = \"in\", width = 2.5, height = 2.0)"
   ]
  },
  {
   "cell_type": "code",
   "execution_count": 42,
   "metadata": {
    "collapsed": true
   },
   "outputs": [],
   "source": [
    "pData(cds.neurons)$expr.flp.1 = expresses.gene(cds.neurons, \"flp-1\")"
   ]
  },
  {
   "cell_type": "code",
   "execution_count": 108,
   "metadata": {
    "collapsed": true
   },
   "outputs": [],
   "source": [
    "pData(cds.neurons)$plot.group = with(pData(cds.neurons), ifelse(\n",
    "    expr.flp.1, \"Yes\", \"No\"))\n",
    "\n",
    "pData(cds.neurons)$plot.group = factor(pData(cds.neurons)$plot.group, levels = c(\n",
    "    \"Yes\", \"No\"))\n",
    "\n",
    "plot = ggplot(pData(cds.neurons), aes(x = tsne_1, y = tsne_2, color = plot.group)) +\n",
    "    geom_point(size = 0.001) +\n",
    "    scale_color_manual(values = c(\"firebrick\", \"grey70\")) +\n",
    "    guides(color = guide_legend(title = \"Expresses flp-1?\", override.aes = list(size = 3))) +\n",
    "    theme_void(base_size = 6) +\n",
    "    theme(\n",
    "        legend.position = \"left\",\n",
    "        legend.key.width = unit(0.12, \"in\"),\n",
    "        legend.key.height = unit(0.12, \"in\"),\n",
    "        legend.margin = margin(0, -10, 0, 5))\n",
    "\n",
    "ggsave(\"plots/cell.type.id.flp-1.pdf\", plot = plot,\n",
    "    device = cairo_pdf, units = \"in\", width = 2.5, height = 2.0)"
   ]
  },
  {
   "cell_type": "code",
   "execution_count": 44,
   "metadata": {
    "collapsed": true
   },
   "outputs": [],
   "source": [
    "pData(cds.neurons)$expr.glr.3 = expresses.gene(cds.neurons, \"glr-3\")"
   ]
  },
  {
   "cell_type": "code",
   "execution_count": 102,
   "metadata": {
    "collapsed": true
   },
   "outputs": [],
   "source": [
    "pData(cds.neurons)$plot.group = with(pData(cds.neurons), ifelse(\n",
    "    expr.glr.3, \"Yes\", \"No\"))\n",
    "\n",
    "pData(cds.neurons)$plot.group = factor(pData(cds.neurons)$plot.group, levels = c(\n",
    "    \"Yes\", \"No\"))\n",
    "\n",
    "plot = ggplot(pData(cds.neurons), aes(x = tsne_1, y = tsne_2, color = plot.group)) +\n",
    "    geom_point(size = 0.001) +\n",
    "    scale_color_manual(values = c(\"firebrick\", \"grey70\")) +\n",
    "    guides(color = guide_legend(title = \"Expresses glr-3?\", override.aes = list(size = 3))) +\n",
    "    theme_void(base_size = 6) +\n",
    "    theme(\n",
    "        legend.position = \"left\",\n",
    "        legend.key.width = unit(0.12, \"in\"),\n",
    "        legend.key.height = unit(0.12, \"in\"),\n",
    "        legend.margin = margin(0, -10, 0, 5))\n",
    "\n",
    "ggsave(\"plots/cell.type.id.glr-3.pdf\", plot = plot,\n",
    "    device = cairo_pdf, units = \"in\", width = 2.5, height = 2.0)"
   ]
  },
  {
   "cell_type": "code",
   "execution_count": 47,
   "metadata": {
    "collapsed": true
   },
   "outputs": [],
   "source": [
    "pData(cds.neurons)$expr.tbh.1 = expresses.gene(cds.neurons, \"tbh-1\")"
   ]
  },
  {
   "cell_type": "code",
   "execution_count": 103,
   "metadata": {
    "collapsed": false
   },
   "outputs": [],
   "source": [
    "pData(cds.neurons)$plot.group = with(pData(cds.neurons), ifelse(\n",
    "    expr.tbh.1, \"Yes\", \"No\"))\n",
    "\n",
    "pData(cds.neurons)$plot.group = factor(pData(cds.neurons)$plot.group, levels = c(\n",
    "    \"Yes\", \"No\"))\n",
    "\n",
    "plot = ggplot(pData(cds.neurons), aes(x = tsne_1, y = tsne_2, color = plot.group)) +\n",
    "    geom_point(size = 0.001) +\n",
    "    scale_color_manual(values = c(\"firebrick\", \"grey70\")) +\n",
    "    guides(color = guide_legend(title = \"Expresses tbh-1?\", override.aes = list(size = 3))) +\n",
    "    theme_void(base_size = 6) +\n",
    "    theme(\n",
    "        legend.position = \"left\",\n",
    "        legend.key.width = unit(0.12, \"in\"),\n",
    "        legend.key.height = unit(0.12, \"in\"),\n",
    "        legend.margin = margin(0, -10, 0, 5))\n",
    "\n",
    "ggsave(\"plots/cell.type.id.tbh-1.pdf\", plot = plot,\n",
    "    device = cairo_pdf, units = \"in\", width = 2.5, height = 2.0)"
   ]
  },
  {
   "cell_type": "code",
   "execution_count": 49,
   "metadata": {
    "collapsed": true
   },
   "outputs": [],
   "source": [
    "pData(cds.neurons)$expr.nlp.12 = expresses.gene(cds.neurons, \"nlp-12\")"
   ]
  },
  {
   "cell_type": "code",
   "execution_count": 107,
   "metadata": {
    "collapsed": true
   },
   "outputs": [],
   "source": [
    "pData(cds.neurons)$plot.group = with(pData(cds.neurons), ifelse(\n",
    "    expr.nlp.12, \"Yes\", \"No\"))\n",
    "\n",
    "pData(cds.neurons)$plot.group = factor(pData(cds.neurons)$plot.group, levels = c(\n",
    "    \"Yes\", \"No\"))\n",
    "\n",
    "plot = ggplot(pData(cds.neurons), aes(x = tsne_1, y = tsne_2, color = plot.group)) +\n",
    "    geom_point(size = 0.001) +\n",
    "    scale_color_manual(values = c(\"firebrick\", \"grey70\")) +\n",
    "    guides(color = guide_legend(title = \"Expresses nlp-12?\", override.aes = list(size = 3))) +\n",
    "    theme_void(base_size = 6) +\n",
    "    theme(\n",
    "        legend.position = \"left\",\n",
    "        legend.key.width = unit(0.12, \"in\"),\n",
    "        legend.key.height = unit(0.12, \"in\"),\n",
    "        legend.margin = margin(0, -10, 0, 5))\n",
    "\n",
    "ggsave(\"plots/cell.type.id.nlp-12.pdf\", plot = plot,\n",
    "    device = cairo_pdf, units = \"in\", width = 2.5, height = 2.0)"
   ]
  },
  {
   "cell_type": "code",
   "execution_count": 61,
   "metadata": {
    "collapsed": true
   },
   "outputs": [],
   "source": [
    "pData(cds.neurons)$expr.cho.1 = expresses.gene(cds.neurons, \"cho-1\")\n",
    "pData(cds.neurons)$expr.cha.1 = expresses.gene(cds.neurons, \"cha-1\")\n",
    "pData(cds.neurons)$expr.unc.17 = expresses.gene(cds.neurons, \"unc-17\")\n",
    "pData(cds.neurons)$expr.acr.15 = expresses.gene(cds.neurons, \"acr-15\")\n",
    "pData(cds.neurons)$expr.acr.18 = expresses.gene(cds.neurons, \"acr-18\")"
   ]
  },
  {
   "cell_type": "code",
   "execution_count": 67,
   "metadata": {
    "collapsed": false
   },
   "outputs": [],
   "source": [
    "pData(cds.neurons)$plot.group = with(pData(cds.neurons), ifelse(\n",
    "    expr.cho.1 + expr.cha.1 + expr.unc.17 > 1, \"Multiple\", ifelse(\n",
    "    expr.cho.1, \"cho-1\", ifelse(\n",
    "    expr.cha.1, \"cha-1\", ifelse(\n",
    "    expr.unc.17, \"unc-17\", \"None\")))))\n",
    "\n",
    "pData(cds.neurons)$plot.group = factor(pData(cds.neurons)$plot.group, levels = c(\n",
    "    \"Multiple\", \"cho-1\", \"cha-1\", \"unc-17\", \"None\"))\n",
    "\n",
    "plot = ggplot(pData(cds.neurons), aes(x = tsne_1, y = tsne_2, color = plot.group)) +\n",
    "    geom_point(size = 0.001) +\n",
    "    scale_color_manual(values = c(\"orchid4\", \"firebrick\", \"dodgerblue3\", \"forestgreen\", \"grey70\")) +\n",
    "    guides(color = guide_legend(title = \"Marker genes\", override.aes = list(size = 3))) +\n",
    "    theme_void(base_size = 6) +\n",
    "    theme(\n",
    "        legend.position = \"left\",\n",
    "        legend.key.width = unit(0.12, \"in\"),\n",
    "        legend.key.height = unit(0.12, \"in\"),\n",
    "        legend.margin = margin(0, -10, 0, 5))\n",
    "\n",
    "ggsave(\"plots/cell.type.id.cholinergic.neurons.pdf\", plot = plot,\n",
    "    device = cairo_pdf, units = \"in\", width = 2.5, height = 2.0)"
   ]
  },
  {
   "cell_type": "code",
   "execution_count": 68,
   "metadata": {
    "collapsed": true
   },
   "outputs": [],
   "source": [
    "pData(cds.neurons)$expr.unc.25 = expresses.gene(cds.neurons, \"unc-25\")\n",
    "pData(cds.neurons)$expr.unc.30 = expresses.gene(cds.neurons, \"unc-30\")"
   ]
  },
  {
   "cell_type": "code",
   "execution_count": 105,
   "metadata": {
    "collapsed": true
   },
   "outputs": [],
   "source": [
    "pData(cds.neurons)$plot.group = with(pData(cds.neurons), ifelse(\n",
    "    expr.unc.25, \"Yes\", \"No\"))\n",
    "\n",
    "pData(cds.neurons)$plot.group = factor(pData(cds.neurons)$plot.group, levels = c(\n",
    "    \"Yes\", \"No\"))\n",
    "\n",
    "plot = ggplot(pData(cds.neurons), aes(x = tsne_1, y = tsne_2, color = plot.group)) +\n",
    "    geom_point(size = 0.001) +\n",
    "    scale_color_manual(values = c(\"firebrick\", \"grey70\")) +\n",
    "    guides(color = guide_legend(title = \"Expresses unc-25?\", override.aes = list(size = 3))) +\n",
    "    theme_void(base_size = 6) +\n",
    "    theme(\n",
    "        legend.position = \"left\",\n",
    "        legend.key.width = unit(0.12, \"in\"),\n",
    "        legend.key.height = unit(0.12, \"in\"),\n",
    "        legend.margin = margin(0, -10, 0, 5))\n",
    "\n",
    "ggsave(\"plots/cell.type.id.unc-25.pdf\", plot = plot,\n",
    "    device = cairo_pdf, units = \"in\", width = 2.5, height = 2.0)"
   ]
  },
  {
   "cell_type": "code",
   "execution_count": 71,
   "metadata": {
    "collapsed": true
   },
   "outputs": [],
   "source": [
    "pData(cds.neurons)$expr.dat.1 = expresses.gene(cds.neurons, \"dat-1\")\n",
    "pData(cds.neurons)$expr.cat.2 = expresses.gene(cds.neurons, \"cat-2\")"
   ]
  },
  {
   "cell_type": "code",
   "execution_count": 72,
   "metadata": {
    "collapsed": true
   },
   "outputs": [],
   "source": [
    "pData(cds.neurons)$plot.group = with(pData(cds.neurons), ifelse(\n",
    "    expr.dat.1 & expr.cat.2, \"dat-1 and cat-2\", ifelse(\n",
    "    expr.dat.1, \"dat-1\", ifelse(\n",
    "    expr.cat.2, \"cat-2\", \"None\"))))\n",
    "\n",
    "pData(cds.neurons)$plot.group = factor(pData(cds.neurons)$plot.group, levels = c(\n",
    "    \"dat-1 and cat-2\", \"dat-1\", \"cat-2\", \"None\"))\n",
    "\n",
    "plot = ggplot(pData(cds.neurons), aes(x = tsne_1, y = tsne_2, color = plot.group)) +\n",
    "    geom_point(size = 0.001) +\n",
    "    scale_color_manual(values = c(\"orchid4\", \"firebrick\", \"dodgerblue3\", \"grey70\")) +\n",
    "    guides(color = guide_legend(title = \"Marker genes\", override.aes = list(size = 3))) +\n",
    "    theme_void(base_size = 6) +\n",
    "    theme(\n",
    "        legend.position = \"left\",\n",
    "        legend.key.width = unit(0.12, \"in\"),\n",
    "        legend.key.height = unit(0.12, \"in\"),\n",
    "        legend.margin = margin(0, -10, 0, 5))\n",
    "\n",
    "ggsave(\"plots/cell.type.id.dopaminergic.neurons.pdf\", plot = plot,\n",
    "    device = cairo_pdf, units = \"in\", width = 2.5, height = 2.0)"
   ]
  },
  {
   "cell_type": "code",
   "execution_count": 81,
   "metadata": {
    "collapsed": true
   },
   "outputs": [],
   "source": [
    "pData(cds.neurons)$expr.ser.7 = expresses.gene(cds.neurons, \"ser-7\")\n",
    "pData(cds.neurons)$expr.eya.1 = expresses.gene(cds.neurons, \"eya-1\")\n",
    "pData(cds.neurons)$expr.pha.4 = expresses.gene(cds.neurons, \"pha-4\")\n",
    "pData(cds.neurons)$expr.flr.2 = expresses.gene(cds.neurons, \"flr-2\")"
   ]
  },
  {
   "cell_type": "code",
   "execution_count": 84,
   "metadata": {
    "collapsed": false
   },
   "outputs": [],
   "source": [
    "pData(cds.neurons)$plot.group = with(pData(cds.neurons), ifelse(\n",
    "    expr.flr.2 + expr.ser.7 + expr.eya.1 > 1, \"Multiple\", ifelse(\n",
    "    expr.flr.2, \"flr-2\", ifelse(\n",
    "    expr.ser.7, \"ser-7\", ifelse(\n",
    "    expr.eya.1, \"eya-1\", ifelse(\n",
    "    expr.pha.4, \"pha-4\", \"None\"))))))\n",
    "\n",
    "pData(cds.neurons)$plot.group = factor(pData(cds.neurons)$plot.group, levels = c(\n",
    "    \"Multiple\", \"flr-2\", \"ser-7\", \"eya-1\", \"pha-4\", \"None\"))\n",
    "\n",
    "plot = ggplot(pData(cds.neurons), aes(x = tsne_1, y = tsne_2, color = plot.group)) +\n",
    "    geom_point(size = 0.001) +\n",
    "    scale_color_manual(values = c(\"orchid4\", \"firebrick\", \"dodgerblue3\", \"forestgreen\", \"darkorange\", \"grey70\")) +\n",
    "    guides(color = guide_legend(title = \"Marker genes\", override.aes = list(size = 3))) +\n",
    "    theme_void(base_size = 6) +\n",
    "    theme(\n",
    "        legend.position = \"left\",\n",
    "        legend.key.width = unit(0.12, \"in\"),\n",
    "        legend.key.height = unit(0.12, \"in\"),\n",
    "        legend.margin = margin(0, -10, 0, 5))\n",
    "\n",
    "ggsave(\"plots/cell.type.id.pharyngeal.neurons.pdf\", plot = plot,\n",
    "    device = cairo_pdf, units = \"in\", width = 2.5, height = 2.0)"
   ]
  },
  {
   "cell_type": "code",
   "execution_count": 99,
   "metadata": {
    "collapsed": true
   },
   "outputs": [],
   "source": [
    "pData(cds.neurons)$expr.odr.10 = expresses.gene(cds.neurons, \"odr-10\")"
   ]
  },
  {
   "cell_type": "code",
   "execution_count": 146,
   "metadata": {
    "collapsed": false
   },
   "outputs": [],
   "source": [
    "pData(cds.neurons)$plot.group = with(pData(cds.neurons), ifelse(\n",
    "    expr.odr.10, \"Yes\", \"No\"))\n",
    "\n",
    "pData(cds.neurons)$plot.group = factor(pData(cds.neurons)$plot.group, levels = c(\n",
    "    \"Yes\", \"No\"))\n",
    "\n",
    "plot = ggplot(pData(cds.neurons), aes(x = tsne_1, y = tsne_2, color = plot.group)) +\n",
    "    geom_point(size = 0.001) +\n",
    "    scale_color_manual(values = c(\"firebrick\", \"grey70\")) +\n",
    "    guides(color = guide_legend(title = \"Expresses odr-10?\", override.aes = list(size = 3))) +\n",
    "    theme_void(base_size = 6) +\n",
    "    theme(\n",
    "        legend.position = \"left\",\n",
    "        legend.key.width = unit(0.12, \"in\"),\n",
    "        legend.key.height = unit(0.12, \"in\"),\n",
    "        legend.margin = margin(0, -10, 0, 5))\n",
    "\n",
    "ggsave(\"plots/cell.type.id.AWA.pdf\", plot = plot,\n",
    "    device = cairo_pdf, units = \"in\", width = 2.5, height = 2.0)"
   ]
  },
  {
   "cell_type": "code",
   "execution_count": 157,
   "metadata": {
    "collapsed": true
   },
   "outputs": [],
   "source": [
    "pData(cds.neurons)$expr.gcy.15 = expresses.gene(cds.neurons, \"gcy-15\")\n",
    "pData(cds.neurons)$expr.capa.1 = expresses.gene(cds.neurons, \"capa-1\")"
   ]
  },
  {
   "cell_type": "code",
   "execution_count": 158,
   "metadata": {
    "collapsed": true
   },
   "outputs": [],
   "source": [
    "pData(cds.neurons)$plot.group = with(pData(cds.neurons), ifelse(\n",
    "    expr.gcy.15 & expr.capa.1, \"gcy-15 and capa-1\", ifelse(\n",
    "    expr.gcy.15, \"gcy-15\", ifelse(\n",
    "    expr.capa.1, \"capa-1\", \"None\"))))\n",
    "\n",
    "pData(cds.neurons)$plot.group = factor(pData(cds.neurons)$plot.group, levels = c(\n",
    "    \"gcy-15 and capa-1\", \"gcy-15\", \"capa-1\", \"None\"))\n",
    "\n",
    "plot = ggplot(pData(cds.neurons), aes(x = tsne_1, y = tsne_2, color = plot.group)) +\n",
    "    geom_point(size = 0.001) +\n",
    "    scale_color_manual(values = c(\"orchid4\", \"firebrick\", \"dodgerblue3\", \"grey70\")) +\n",
    "    guides(color = guide_legend(title = \"Marker genes\", override.aes = list(size = 3))) +\n",
    "    theme_void(base_size = 6) +\n",
    "    theme(\n",
    "        legend.position = \"left\",\n",
    "        legend.key.width = unit(0.12, \"in\"),\n",
    "        legend.key.height = unit(0.12, \"in\"),\n",
    "        legend.margin = margin(0, -10, 0, 5))\n",
    "\n",
    "ggsave(\"plots/cell.type.id.ASG.pdf\", plot = plot,\n",
    "    device = cairo_pdf, units = \"in\", width = 2.5, height = 2.0)"
   ]
  },
  {
   "cell_type": "code",
   "execution_count": 150,
   "metadata": {
    "collapsed": true
   },
   "outputs": [],
   "source": [
    "pData(cds.neurons)$expr.gcy.3 = expresses.gene(cds.neurons, \"gcy-3\")\n",
    "pData(cds.neurons)$expr.gcy.5 = expresses.gene(cds.neurons, \"gcy-5\")\n",
    "pData(cds.neurons)$expr.gcy.6 = expresses.gene(cds.neurons, \"gcy-6\")\n",
    "pData(cds.neurons)$expr.gcy.7 = expresses.gene(cds.neurons, \"gcy-7\")\n",
    "pData(cds.neurons)$expr.gcy.20 = expresses.gene(cds.neurons, \"gcy-20\")\n",
    "pData(cds.neurons)$expr.gcy.22 = expresses.gene(cds.neurons, \"gcy-22\")\n",
    "\n",
    "# ASER: gcy-3, gcy-5, gcy-22\n",
    "# ASEL: gcy-6, gcy-7, gcy-20"
   ]
  },
  {
   "cell_type": "code",
   "execution_count": 151,
   "metadata": {
    "collapsed": false
   },
   "outputs": [],
   "source": [
    "pData(cds.neurons)$plot.group = with(pData(cds.neurons), ifelse(\n",
    "    expr.gcy.3 | expr.gcy.5, \"gcy-3 or gcy-5\", ifelse(\n",
    "    expr.gcy.6 | expr.gcy.7, \"gcy-6 or gcy-7\", \"None\")))\n",
    "\n",
    "pData(cds.neurons)$plot.group = factor(pData(cds.neurons)$plot.group, levels = c(\n",
    "    \"gcy-3 or gcy-5\", \"gcy-6 or gcy-7\", \"None\"))\n",
    "\n",
    "plot = ggplot(pData(cds.neurons), aes(x = tsne_1, y = tsne_2, color = plot.group)) +\n",
    "    geom_point(size = 0.001) +\n",
    "    scale_color_manual(values = c(\"firebrick\", \"dodgerblue3\", \"grey70\")) +\n",
    "    guides(color = guide_legend(title = \"Marker genes\", override.aes = list(size = 3))) +\n",
    "    theme_void(base_size = 6) +\n",
    "    theme(\n",
    "        legend.position = \"left\",\n",
    "        legend.key.width = unit(0.12, \"in\"),\n",
    "        legend.key.height = unit(0.12, \"in\"),\n",
    "        legend.margin = margin(0, -10, 0, 5))\n",
    "\n",
    "ggsave(\"plots/cell.type.id.ASE.pdf\", plot = plot,\n",
    "    device = cairo_pdf, units = \"in\", width = 2.5, height = 2.0)"
   ]
  },
  {
   "cell_type": "code",
   "execution_count": 152,
   "metadata": {
    "collapsed": true
   },
   "outputs": [],
   "source": [
    "pData(cds.neurons)$expr.gcy.8 = expresses.gene(cds.neurons, \"gcy-8\")"
   ]
  },
  {
   "cell_type": "code",
   "execution_count": 153,
   "metadata": {
    "collapsed": true
   },
   "outputs": [],
   "source": [
    "pData(cds.neurons)$plot.group = with(pData(cds.neurons), ifelse(\n",
    "    expr.gcy.8, \"Yes\", \"No\"))\n",
    "\n",
    "pData(cds.neurons)$plot.group = factor(pData(cds.neurons)$plot.group, levels = c(\n",
    "    \"Yes\", \"No\"))\n",
    "\n",
    "plot = ggplot(pData(cds.neurons), aes(x = tsne_1, y = tsne_2, color = plot.group)) +\n",
    "    geom_point(size = 0.001) +\n",
    "    scale_color_manual(values = c(\"firebrick\", \"grey70\")) +\n",
    "    guides(color = guide_legend(title = \"Expresses gcy-8?\", override.aes = list(size = 3))) +\n",
    "    theme_void(base_size = 6) +\n",
    "    theme(\n",
    "        legend.position = \"left\",\n",
    "        legend.key.width = unit(0.12, \"in\"),\n",
    "        legend.key.height = unit(0.12, \"in\"),\n",
    "        legend.margin = margin(0, -10, 0, 5))\n",
    "\n",
    "ggsave(\"plots/cell.type.id.AFD.pdf\", plot = plot,\n",
    "    device = cairo_pdf, units = \"in\", width = 2.5, height = 2.0)"
   ]
  },
  {
   "cell_type": "code",
   "execution_count": 154,
   "metadata": {
    "collapsed": true
   },
   "outputs": [],
   "source": [
    "pData(cds.neurons)$expr.zig.4 = expresses.gene(cds.neurons, \"zig-4\")\n",
    "pData(cds.neurons)$expr.snet.1 = expresses.gene(cds.neurons, \"snet-1\")"
   ]
  },
  {
   "cell_type": "code",
   "execution_count": 156,
   "metadata": {
    "collapsed": true
   },
   "outputs": [],
   "source": [
    "pData(cds.neurons)$plot.group = with(pData(cds.neurons), ifelse(\n",
    "    expr.snet.1 & expr.zig.4, \"snet-1 and zig-4\", ifelse(\n",
    "    expr.snet.1, \"snet-1\", ifelse(\n",
    "    expr.zig.4, \"zig-4\", \"None\"))))\n",
    "\n",
    "pData(cds.neurons)$plot.group = factor(pData(cds.neurons)$plot.group, levels = c(\n",
    "    \"snet-1 and zig-4\", \"snet-1\", \"zig-4\", \"None\"))\n",
    "\n",
    "plot = ggplot(pData(cds.neurons), aes(x = tsne_1, y = tsne_2, color = plot.group)) +\n",
    "    geom_point(size = 0.001) +\n",
    "    scale_color_manual(values = c(\"orchid4\", \"firebrick\", \"dodgerblue3\", \"grey70\")) +\n",
    "    guides(color = guide_legend(title = \"Marker genes\", override.aes = list(size = 3))) +\n",
    "    theme_void(base_size = 6) +\n",
    "    theme(\n",
    "        legend.position = \"left\",\n",
    "        legend.key.width = unit(0.12, \"in\"),\n",
    "        legend.key.height = unit(0.12, \"in\"),\n",
    "        legend.margin = margin(0, -10, 0, 5))\n",
    "\n",
    "ggsave(\"plots/cell.type.id.ASK.pdf\", plot = plot,\n",
    "    device = cairo_pdf, units = \"in\", width = 2.5, height = 2.0)"
   ]
  },
  {
   "cell_type": "code",
   "execution_count": 170,
   "metadata": {
    "collapsed": true
   },
   "outputs": [],
   "source": [
    "pData(cds.neurons)$expr.ins.6 = expresses.gene(cds.neurons, \"ins-6\")\n",
    "pData(cds.neurons)$expr.daf.11 = expresses.gene(cds.neurons, \"daf-11\")\n",
    "pData(cds.neurons)$expr.daf.28 = expresses.gene(cds.neurons, \"daf-28\")"
   ]
  },
  {
   "cell_type": "code",
   "execution_count": 166,
   "metadata": {
    "collapsed": true
   },
   "outputs": [],
   "source": [
    "pData(cds.neurons)$plot.group = with(pData(cds.neurons), ifelse(\n",
    "    expr.ins.6 & expr.daf.28, \"ins-6 and daf-28\", ifelse(\n",
    "    expr.ins.6, \"ins-6\", ifelse(\n",
    "    expr.daf.28, \"daf-28\", \"None\"))))\n",
    "\n",
    "pData(cds.neurons)$plot.group = factor(pData(cds.neurons)$plot.group, levels = c(\n",
    "    \"ins-6 and daf-28\", \"ins-6\", \"daf-28\", \"None\"))\n",
    "\n",
    "plot = ggplot(pData(cds.neurons), aes(x = tsne_1, y = tsne_2, color = plot.group)) +\n",
    "    geom_point(size = 0.001) +\n",
    "    scale_color_manual(values = c(\"orchid4\", \"firebrick\", \"dodgerblue3\", \"grey70\")) +\n",
    "    guides(color = guide_legend(title = \"Marker genes\", override.aes = list(size = 3))) +\n",
    "    theme_void(base_size = 6) +\n",
    "    theme(\n",
    "        legend.position = \"left\",\n",
    "        legend.key.width = unit(0.12, \"in\"),\n",
    "        legend.key.height = unit(0.12, \"in\"),\n",
    "        legend.margin = margin(0, -10, 0, 5))\n",
    "\n",
    "ggsave(\"plots/cell.type.id.ASI.ASJ.pdf\", plot = plot,\n",
    "    device = cairo_pdf, units = \"in\", width = 2.5, height = 2.0)"
   ]
  },
  {
   "cell_type": "code",
   "execution_count": 173,
   "metadata": {
    "collapsed": false
   },
   "outputs": [],
   "source": [
    "pData(cds.neurons)$plot.group = with(pData(cds.neurons), ifelse(\n",
    "    expr.ins.6 + expr.daf.11 + expr.snet.1 > 1, \"Multiple\", ifelse(\n",
    "    expr.daf.11, \"daf-11\", ifelse(\n",
    "    expr.ins.6, \"ins-6\", ifelse(\n",
    "    expr.snet.1, \"snet-1\", \"None\")))))\n",
    "\n",
    "pData(cds.neurons)$plot.group = factor(pData(cds.neurons)$plot.group, levels = c(\n",
    "    \"Multiple\", \"daf-11\", \"ins-6\", \"snet-1\", \"None\"))\n",
    "\n",
    "plot = ggplot(pData(cds.neurons), aes(x = tsne_1, y = tsne_2, color = plot.group)) +\n",
    "    geom_point(size = 0.001) +\n",
    "    scale_color_manual(values = c(\"orchid4\", \"firebrick\", \"dodgerblue3\", \"forestgreen\", \"grey70\")) +\n",
    "    guides(color = guide_legend(title = \"Marker genes\", override.aes = list(size = 3))) +\n",
    "    theme_void(base_size = 6) +\n",
    "    theme(\n",
    "        legend.position = \"left\",\n",
    "        legend.key.width = unit(0.12, \"in\"),\n",
    "        legend.key.height = unit(0.12, \"in\"),\n",
    "        legend.margin = margin(0, -10, 0, 5))\n",
    "\n",
    "ggsave(\"plots/cell.type.id.AWB.AWC.pdf\", plot = plot,\n",
    "    device = cairo_pdf, units = \"in\", width = 2.5, height = 2.0)"
   ]
  },
  {
   "cell_type": "code",
   "execution_count": 180,
   "metadata": {
    "collapsed": true
   },
   "outputs": [],
   "source": [
    "pData(cds.neurons)$expr.R102.2 = expresses.gene(cds.neurons, \"R102.2\")"
   ]
  },
  {
   "cell_type": "code",
   "execution_count": 181,
   "metadata": {
    "collapsed": true
   },
   "outputs": [],
   "source": [
    "pData(cds.neurons)$plot.group = with(pData(cds.neurons), ifelse(\n",
    "    expr.R102.2, \"Yes\", \"No\"))\n",
    "\n",
    "pData(cds.neurons)$plot.group = factor(pData(cds.neurons)$plot.group, levels = c(\n",
    "    \"Yes\", \"No\"))\n",
    "\n",
    "plot = ggplot(pData(cds.neurons), aes(x = tsne_1, y = tsne_2, color = plot.group)) +\n",
    "    geom_point(size = 0.001) +\n",
    "    scale_color_manual(values = c(\"firebrick\", \"grey70\")) +\n",
    "    guides(color = guide_legend(title = \"Expresses R102.2?\", override.aes = list(size = 3))) +\n",
    "    theme_void(base_size = 6) +\n",
    "    theme(\n",
    "        legend.position = \"left\",\n",
    "        legend.key.width = unit(0.12, \"in\"),\n",
    "        legend.key.height = unit(0.12, \"in\"),\n",
    "        legend.margin = margin(0, -10, 0, 5))\n",
    "\n",
    "ggsave(\"plots/cell.type.id.other.CSN.pdf\", plot = plot,\n",
    "    device = cairo_pdf, units = \"in\", width = 2.5, height = 2.0)"
   ]
  },
  {
   "cell_type": "code",
   "execution_count": 182,
   "metadata": {
    "collapsed": true
   },
   "outputs": [],
   "source": [
    "pData(cds.neurons)$expr.flp.17 = expresses.gene(cds.neurons, \"flp-17\")"
   ]
  },
  {
   "cell_type": "code",
   "execution_count": 183,
   "metadata": {
    "collapsed": true
   },
   "outputs": [],
   "source": [
    "pData(cds.neurons)$plot.group = with(pData(cds.neurons), ifelse(\n",
    "    expr.flp.17, \"Yes\", \"No\"))\n",
    "\n",
    "pData(cds.neurons)$plot.group = factor(pData(cds.neurons)$plot.group, levels = c(\n",
    "    \"Yes\", \"No\"))\n",
    "\n",
    "plot = ggplot(pData(cds.neurons), aes(x = tsne_1, y = tsne_2, color = plot.group)) +\n",
    "    geom_point(size = 0.001) +\n",
    "    scale_color_manual(values = c(\"firebrick\", \"grey70\")) +\n",
    "    guides(color = guide_legend(title = \"Expresses flp-17?\", override.aes = list(size = 3))) +\n",
    "    theme_void(base_size = 6) +\n",
    "    theme(\n",
    "        legend.position = \"left\",\n",
    "        legend.key.width = unit(0.12, \"in\"),\n",
    "        legend.key.height = unit(0.12, \"in\"),\n",
    "        legend.margin = margin(0, -10, 0, 5))\n",
    "\n",
    "ggsave(\"plots/cell.type.id.BAG.pdf\", plot = plot,\n",
    "    device = cairo_pdf, units = \"in\", width = 2.5, height = 2.0)"
   ]
  },
  {
   "cell_type": "code",
   "execution_count": 187,
   "metadata": {
    "collapsed": true
   },
   "outputs": [],
   "source": [
    "pData(cds.neurons)$expr.gcy.32 = expresses.gene(cds.neurons, \"gcy-32\")\n",
    "pData(cds.neurons)$expr.gcy.37 = expresses.gene(cds.neurons, \"gcy-37\")"
   ]
  },
  {
   "cell_type": "code",
   "execution_count": 189,
   "metadata": {
    "collapsed": true
   },
   "outputs": [],
   "source": [
    "pData(cds.neurons)$plot.group = with(pData(cds.neurons), ifelse(\n",
    "    expr.gcy.32 & expr.gcy.37, \"gcy-32 and gcy-37\", ifelse(\n",
    "    expr.gcy.32, \"gcy-32\", ifelse(\n",
    "    expr.gcy.37, \"gcy-37\", \"None\"))))\n",
    "\n",
    "pData(cds.neurons)$plot.group = factor(pData(cds.neurons)$plot.group, levels = c(\n",
    "    \"gcy-32 and gcy-37\", \"gcy-32\", \"gcy-37\", \"None\"))\n",
    "\n",
    "plot = ggplot(pData(cds.neurons), aes(x = tsne_1, y = tsne_2, color = plot.group)) +\n",
    "    geom_point(size = 0.001) +\n",
    "    scale_color_manual(values = c(\"orchid4\", \"firebrick\", \"dodgerblue3\", \"grey70\")) +\n",
    "    guides(color = guide_legend(title = \"Marker genes\", override.aes = list(size = 3))) +\n",
    "    theme_void(base_size = 6) +\n",
    "    theme(\n",
    "        legend.position = \"left\",\n",
    "        legend.key.width = unit(0.12, \"in\"),\n",
    "        legend.key.height = unit(0.12, \"in\"),\n",
    "        legend.margin = margin(0, -10, 0, 5))\n",
    "\n",
    "ggsave(\"plots/cell.type.id.URX.pdf\", plot = plot,\n",
    "    device = cairo_pdf, units = \"in\", width = 2.5, height = 2.0)"
   ]
  },
  {
   "cell_type": "code",
   "execution_count": 190,
   "metadata": {
    "collapsed": true
   },
   "outputs": [],
   "source": [
    "pData(cds.neurons)$expr.mec.1 = expresses.gene(cds.neurons, \"mec-1\")\n",
    "pData(cds.neurons)$expr.lad.2 = expresses.gene(cds.neurons, \"lad-2\")\n",
    "pData(cds.neurons)$expr.gcy.35 = expresses.gene(cds.neurons, \"gcy-35\")"
   ]
  },
  {
   "cell_type": "code",
   "execution_count": 197,
   "metadata": {
    "collapsed": false
   },
   "outputs": [],
   "source": [
    "pData(cds.neurons)$plot.group = with(pData(cds.neurons), ifelse(\n",
    "    expr.gcy.35 + expr.lad.2 + expr.mec.1 > 1, \"Multiple\", ifelse(\n",
    "    expr.gcy.35, \"gcy-35\", ifelse(\n",
    "    expr.mec.1, \"mec-1\", ifelse(\n",
    "    expr.lad.2, \"lad-2\", \"None\")))))\n",
    "\n",
    "pData(cds.neurons)$plot.group = factor(pData(cds.neurons)$plot.group, levels = c(\n",
    "    \"Multiple\", \"gcy-35\", \"mec-1\", \"lad-2\", \"None\"))\n",
    "\n",
    "plot = ggplot(pData(cds.neurons), aes(x = tsne_1, y = tsne_2, color = plot.group)) +\n",
    "    geom_point(size = 0.001) +\n",
    "    scale_color_manual(values = c(\"orchid4\", \"firebrick\", \"dodgerblue3\", \"forestgreen\", \"grey70\")) +\n",
    "    guides(color = guide_legend(title = \"Marker genes\", override.aes = list(size = 3))) +\n",
    "    theme_void(base_size = 6) +\n",
    "    theme(\n",
    "        legend.position = \"left\",\n",
    "        legend.key.width = unit(0.12, \"in\"),\n",
    "        legend.key.height = unit(0.12, \"in\"),\n",
    "        legend.margin = margin(0, -10, 0, 5))\n",
    "\n",
    "ggsave(\"plots/cell.type.id.SDQ.pdf\", plot = plot,\n",
    "    device = cairo_pdf, units = \"in\", width = 2.5, height = 2.0)"
   ]
  },
  {
   "cell_type": "code",
   "execution_count": null,
   "metadata": {
    "collapsed": true
   },
   "outputs": [],
   "source": []
  }
 ],
 "metadata": {
  "kernelspec": {
   "display_name": "R",
   "language": "R",
   "name": "ir"
  },
  "language_info": {
   "codemirror_mode": "r",
   "file_extension": ".r",
   "mimetype": "text/x-r-source",
   "name": "R",
   "pygments_lexer": "r",
   "version": "3.2.1"
  }
 },
 "nbformat": 4,
 "nbformat_minor": 1
}
