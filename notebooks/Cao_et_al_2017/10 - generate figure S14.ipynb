{
 "cells": [
  {
   "cell_type": "code",
   "execution_count": 1,
   "metadata": {
    "collapsed": false
   },
   "outputs": [
    {
     "name": "stderr",
     "output_type": "stream",
     "text": [
      "Warning message:\n",
      "“replacing previous import by ‘splines::splineDesign’ when loading ‘VGAM’”Warning message:\n",
      "“replacing previous import by ‘grid::arrow’ when loading ‘monocle’”Warning message:\n",
      "“replacing previous import by ‘grid::unit’ when loading ‘monocle’”Warning message:\n",
      "“replacing previous import by ‘igraph::clusters’ when loading ‘monocle’”Warning message:\n",
      "“replacing previous import by ‘ggplot2::Position’ when loading ‘monocle’”"
     ]
    }
   ],
   "source": [
    "suppressPackageStartupMessages({\n",
    "    library(monocle)\n",
    "    \n",
    "    library(RColorBrewer)\n",
    "    library(dplyr)\n",
    "    library(ggplot2)\n",
    "    library(reshape2)\n",
    "    library(scales)\n",
    "})"
   ]
  },
  {
   "cell_type": "markdown",
   "metadata": {},
   "source": [
    "This analysis was made using Monocle version 2.3.5. The source code for Monocle 2.3.5 is available as a supplementary file to Cao et al. 2017 on the Science website. We are working on updating the analysis to the latest version of Monocle."
   ]
  },
  {
   "cell_type": "code",
   "execution_count": 2,
   "metadata": {
    "collapsed": false
   },
   "outputs": [
    {
     "data": {
      "text/plain": [
       "R version 3.2.1 (2015-06-18)\n",
       "Platform: x86_64-unknown-linux-gnu (64-bit)\n",
       "Running under: CentOS release 6.8 (Final)\n",
       "\n",
       "locale:\n",
       " [1] LC_CTYPE=en_US.UTF-8       LC_NUMERIC=C              \n",
       " [3] LC_TIME=en_US.UTF-8        LC_COLLATE=en_US.UTF-8    \n",
       " [5] LC_MONETARY=en_US.UTF-8    LC_MESSAGES=en_US.UTF-8   \n",
       " [7] LC_PAPER=en_US.UTF-8       LC_NAME=C                 \n",
       " [9] LC_ADDRESS=C               LC_TELEPHONE=C            \n",
       "[11] LC_MEASUREMENT=en_US.UTF-8 LC_IDENTIFICATION=C       \n",
       "\n",
       "attached base packages:\n",
       " [1] splines   stats4    parallel  stats     graphics  grDevices utils    \n",
       " [8] datasets  methods   base     \n",
       "\n",
       "other attached packages:\n",
       " [1] scales_0.4.1        reshape2_1.4.2      dplyr_0.7.1        \n",
       " [4] RColorBrewer_1.1-2  monocle_2.3.5       DDRTree_0.1.5      \n",
       " [7] irlba_2.2.1         VGAM_1.0-3          ggplot2_2.2.1      \n",
       "[10] Biobase_2.30.0      BiocGenerics_0.16.1 Matrix_1.2-7.1     \n",
       "\n",
       "loaded via a namespace (and not attached):\n",
       " [1] Rcpp_0.12.11           bindr_0.1              plyr_1.8.4            \n",
       " [4] tools_3.2.1            digest_0.6.12          densityClust_0.2.1    \n",
       " [7] uuid_0.1-2             jsonlite_1.5           evaluate_0.10.1       \n",
       "[10] tibble_1.3.3           gtable_0.2.0           lattice_0.20-35       \n",
       "[13] pkgconfig_2.0.1        rlang_0.1.1            igraph_1.0.1          \n",
       "[16] IRdisplay_0.4.4        IRkernel_0.7           HSMMSingleCell_0.104.0\n",
       "[19] bindrcpp_0.2           fastICA_1.2-1          cluster_2.0.6         \n",
       "[22] repr_0.12.0            stringr_1.2.0          combinat_0.0-8        \n",
       "[25] grid_3.2.1             glue_1.1.1             R6_2.2.2              \n",
       "[28] qlcMatrix_0.9.5        pheatmap_1.0.8         limma_3.26.9          \n",
       "[31] pbdZMQ_0.2-6           magrittr_1.5           matrixStats_0.52.2    \n",
       "[34] assertthat_0.2.0       colorspace_1.3-2       stringi_1.1.5         \n",
       "[37] lazyeval_0.2.0         munsell_0.4.3          slam_0.1-35           \n",
       "[40] crayon_1.3.2          "
      ]
     },
     "metadata": {},
     "output_type": "display_data"
    }
   ],
   "source": [
    "sessionInfo()"
   ]
  },
  {
   "cell_type": "code",
   "execution_count": null,
   "metadata": {
    "collapsed": true
   },
   "outputs": [],
   "source": [
    "load(\"RData/L2.gene.reports.RData\")"
   ]
  },
  {
   "cell_type": "code",
   "execution_count": 2,
   "metadata": {
    "collapsed": true
   },
   "outputs": [],
   "source": [
    "load(\"RData/L2.data.summaries.no-cruft.RData\")"
   ]
  },
  {
   "cell_type": "code",
   "execution_count": null,
   "metadata": {
    "collapsed": true
   },
   "outputs": [],
   "source": [
    "pData(cds.experiment.1)$cell.type = with(pData(cds.experiment.1), ifelse(\n",
    "    !is.na(cell.type) & cell.type == \"Pharyngeal.neurons\", \"Pharyngeal neurons\", cell.type))"
   ]
  },
  {
   "cell_type": "code",
   "execution_count": null,
   "metadata": {
    "collapsed": true
   },
   "outputs": [],
   "source": [
    "fData(cds.experiment.2)$gene_id = fData(cds.experiment.2)$gene"
   ]
  },
  {
   "cell_type": "code",
   "execution_count": null,
   "metadata": {
    "collapsed": false
   },
   "outputs": [],
   "source": [
    "cell.type.tables = list()\n",
    "\n",
    "for (ct in cell.types) {\n",
    "    message(ct)\n",
    "    \n",
    "    if (ct == \"Intestine\")\n",
    "        tmp.cds = cds.experiment.2[, with(pData(cds.experiment.2), !is.na(cell.type) & cell.type == ct)]\n",
    "    else\n",
    "        tmp.cds = cds.experiment.1[, with(pData(cds.experiment.1), !is.na(cell.type) & cell.type == ct)]\n",
    "        \n",
    "    tmp.cds = estimateSizeFactors(tmp.cds)\n",
    "    tmp.cds = estimateDispersions(tmp.cds)\n",
    "    tmp.cds = detectGenes(tmp.cds, 0.1)\n",
    "        \n",
    "    cell.type.tables[[ct]] = data.frame(\n",
    "            gene_id = fData(tmp.cds)$gene_id,\n",
    "            symbol = fData(tmp.cds)$symbol,\n",
    "            n = ncol(tmp.cds),\n",
    "            mu_hat = cell.type.norm.means[, ct]) %>%\n",
    "        inner_join(\n",
    "            dispersionTable(tmp.cds) %>%\n",
    "                select(gene_id, alpha_hat = dispersion_empirical), by = \"gene_id\") %>%\n",
    "        mutate(\n",
    "            var_hat = mu_hat + mu_hat ^2 * alpha_hat,\n",
    "            ci.95p.lo = qnorm(0.05, mean = mu_hat, sd = sqrt(var_hat / n)),\n",
    "            ci.95p.hi = qnorm(0.95, mean = mu_hat, sd = sqrt(var_hat / n)))\n",
    "        \n",
    "    cell.type.tables[[ct]]$tpm = with(cell.type.tables[[ct]],\n",
    "        (mu_hat / sum(mu_hat)) * 1000000)\n",
    "        \n",
    "    cell.type.tables[[ct]]$tpm.ci.lo = with(cell.type.tables[[ct]],\n",
    "        (ci.95p.lo / mu_hat) * tpm)\n",
    "        \n",
    "    cell.type.tables[[ct]]$tpm.ci.hi = with(cell.type.tables[[ct]],\n",
    "        (ci.95p.hi / mu_hat) * tpm)\n",
    "}\n",
    "\n",
    "rm(tmp.cds)"
   ]
  },
  {
   "cell_type": "code",
   "execution_count": null,
   "metadata": {
    "collapsed": false
   },
   "outputs": [],
   "source": [
    "for (ct in cell.types) {\n",
    "    cell.type.tables[[ct]]$cell.type = ct\n",
    "    cell.type.tables[[ct]]$tpm.ci.lo = pmax(0, cell.type.tables[[ct]]$tpm.ci.lo)\n",
    "    cell.type.tables[[ct]] = cell.type.tables[[ct]] %>%\n",
    "        select(gene_id, symbol, cell.type, tpm, tpm.ci.lo, tpm.ci.hi)\n",
    "}"
   ]
  },
  {
   "cell_type": "code",
   "execution_count": 7,
   "metadata": {
    "collapsed": true
   },
   "outputs": [],
   "source": [
    "cell.type.tpm.ci.df = do.call(rbind, cell.type.tables)"
   ]
  },
  {
   "cell_type": "code",
   "execution_count": 3,
   "metadata": {
    "collapsed": false
   },
   "outputs": [
    {
     "name": "stderr",
     "output_type": "stream",
     "text": [
      "Warning message in inner_join_impl(x, y, by$x, by$y, suffix$x, suffix$y):\n",
      "“joining factors with different levels, coercing to character vector”"
     ]
    }
   ],
   "source": [
    "#tmp.df = cell.type.tpm.ci.df %>% filter(symbol == \"ztf-7\")\n",
    "#tmp.df = cell.type.tpm.ci.df %>% filter(symbol == \"F37C12.14\")\n",
    "tmp.df = cell.type.tpm.ci.df %>% filter(symbol == \"rnt-1\")\n",
    "\n",
    "if (length(unique(tmp.df$cell.type)) < length(cell.types)) {\n",
    "    this.symbol = as.character(tmp.df$symbol[1])\n",
    "    \n",
    "    tmp.df = rbind(tmp.df, data.frame(\n",
    "        gene_id = tmp.df$gene_id[1],\n",
    "        symbol = this.symbol,\n",
    "        cell.type = setdiff(cell.types, unique(tmp.df$cell.type))) %>%\n",
    "        inner_join(data.frame(\n",
    "            cell.type = names(cell.type.tpm[this.symbol,]),\n",
    "            tpm = cell.type.tpm[this.symbol,]), by = \"cell.type\") %>%\n",
    "        mutate(\n",
    "            tpm.ci.lo = ifelse(tpm > 0, NA, 0),\n",
    "            tpm.ci.hi = ifelse(tpm > 0, NA, 0)))\n",
    "}\n",
    "\n",
    "tmp.df$tissue.for.coloring = sapply(tmp.df$cell.type, function(x) {\n",
    "    switch(x,\n",
    "        \"Body wall muscle\" = \"BWM/IRM\",\n",
    "        \"Intestinal/rectal muscle\" = \"BWM/IRM\",\n",
    "        \"Pharyngeal muscle\" = \"Pharynx\",\n",
    "        \"Pharyngeal epithelia\" = \"Pharynx\",\n",
    "        \"Pharyngeal gland\" = \"Pharynx\",\n",
    "        \"Seam cells\" = \"Hypodermis\",\n",
    "        \"Non-seam hypodermis\" = \"Hypodermis\",\n",
    "        \"Rectum\" = \"Hypodermis\",\n",
    "        \"Ciliated sensory neurons\" = \"Neurons\",\n",
    "        \"Oxygen sensory neurons\" = \"Neurons\",\n",
    "        \"Touch receptor neurons\" = \"Neurons\",\n",
    "        \"Cholinergic neurons\" = \"Neurons\",\n",
    "        \"GABAergic neurons\" = \"Neurons\",\n",
    "        \"Pharyngeal neurons\" = \"Neurons\",\n",
    "        \"flp-1(+) interneurons\" = \"Neurons\",\n",
    "        \"Other interneurons\" = \"Neurons\",\n",
    "        \"Canal associated neurons\" = \"Neurons\",\n",
    "        \"Am/PH sheath cells\" = \"Glia\",\n",
    "        \"Socket cells\" = \"Glia\",\n",
    "        \"Excretory cells\" = \"Glia\",\n",
    "        \"Intestine\" = \"Intestine\",\n",
    "        \"Germline\" = \"Gonad\",\n",
    "        \"Somatic gonad precursors\" = \"Gonad\",\n",
    "        \"Distal tip cells\" = \"Gonad\",\n",
    "        \"Vulval precursors\" = \"Gonad\",\n",
    "        \"Sex myoblasts\" = \"Gonad\",\n",
    "        \"Coelomocytes\" = \"Other\")\n",
    "})\n",
    "\n",
    "tmp.df$tissue.for.coloring = ifelse(is.na(tmp.df$tpm.ci.lo),\n",
    "    \"Low sample size\", tmp.df$tissue.for.coloring)\n",
    "\n",
    "tmp.df$tissue.for.coloring = factor(tmp.df$tissue.for.coloring, levels = c(\n",
    "    \"BWM/IRM\", \"Pharynx\", \"Hypodermis\", \"Neurons\", \"Glia\", \"Intestine\", \"Gonad\", \"Other\", \"Low sample size\"))\n",
    "\n",
    "tmp.df$tpm.ci.lo = ifelse(tmp.df$tpm == 0, NA, tmp.df$tpm.ci.lo)\n",
    "tmp.df$tpm.ci.hi = ifelse(tmp.df$tpm == 0, NA, tmp.df$tpm.ci.hi)\n",
    "\n",
    "tmp.df$cell.type = factor(tmp.df$cell.type, levels = rev(c(\n",
    "    \"Body wall muscle\",\n",
    "    \"Intestinal/rectal muscle\",\n",
    "    \"Pharyngeal muscle\",\n",
    "    \"Pharyngeal epithelia\",\n",
    "    \"Pharyngeal gland\",\n",
    "    \"Seam cells\",\n",
    "    \"Non-seam hypodermis\",\n",
    "    \"Rectum\",\n",
    "    \"Ciliated sensory neurons\",\n",
    "    \"Oxygen sensory neurons\",\n",
    "    \"Touch receptor neurons\",\n",
    "    \"Cholinergic neurons\",\n",
    "    \"GABAergic neurons\",\n",
    "    \"Pharyngeal neurons\",\n",
    "    \"flp-1(+) interneurons\",\n",
    "    \"Other interneurons\",\n",
    "    \"Canal associated neurons\",\n",
    "    \"Am/PH sheath cells\",\n",
    "    \"Socket cells\",\n",
    "    \"Excretory cells\",\n",
    "    \"Intestine\",\n",
    "    \"Germline\",\n",
    "    \"Somatic gonad precursors\",\n",
    "    \"Distal tip cells\",\n",
    "    \"Vulval precursors\",\n",
    "    \"Sex myoblasts\",\n",
    "    \"Coelomocytes\")))"
   ]
  },
  {
   "cell_type": "code",
   "execution_count": 4,
   "metadata": {
    "collapsed": false
   },
   "outputs": [
    {
     "data": {
      "text/html": [
       "<table>\n",
       "<thead><tr><th scope=col>gene_id</th><th scope=col>symbol</th><th scope=col>cell.type</th><th scope=col>tpm</th><th scope=col>tpm.ci.lo</th><th scope=col>tpm.ci.hi</th><th scope=col>tissue.for.coloring</th></tr></thead>\n",
       "<tbody>\n",
       "\t<tr><td>WBGene00004393          </td><td>rnt-1                   </td><td>Germline                </td><td> 0.5718662              </td><td> 0.000000               </td><td> 1.270365               </td><td>Gonad                   </td></tr>\n",
       "\t<tr><td>WBGene00004393          </td><td>rnt-1                   </td><td>Intestinal/rectal muscle</td><td> 7.4385053              </td><td> 0.000000               </td><td>17.289972               </td><td>BWM/IRM                 </td></tr>\n",
       "\t<tr><td>WBGene00004393          </td><td>rnt-1                   </td><td>Seam cells              </td><td>10.2858973              </td><td> 5.790142               </td><td>14.781653               </td><td>Hypodermis              </td></tr>\n",
       "\t<tr><td>WBGene00004393          </td><td>rnt-1                   </td><td>Non-seam hypodermis     </td><td> 1.0745069              </td><td> 0.000000               </td><td> 3.005852               </td><td>Hypodermis              </td></tr>\n",
       "\t<tr><td>WBGene00004393          </td><td>rnt-1                   </td><td>Body wall muscle        </td><td>33.7208061              </td><td>29.458958               </td><td>37.982655               </td><td>BWM/IRM                 </td></tr>\n",
       "\t<tr><td>WBGene00004393          </td><td>rnt-1                   </td><td>Sex myoblasts           </td><td>11.1801348              </td><td> 0.000000               </td><td>24.248455               </td><td>Gonad                   </td></tr>\n",
       "\t<tr><td>WBGene00004393          </td><td>rnt-1                   </td><td>Coelomocytes            </td><td> 0.0000000              </td><td>       NA               </td><td>       NA               </td><td>Other                   </td></tr>\n",
       "\t<tr><td>WBGene00004393          </td><td>rnt-1                   </td><td>Ciliated sensory neurons</td><td> 0.0000000              </td><td>       NA               </td><td>       NA               </td><td>Neurons                 </td></tr>\n",
       "\t<tr><td>WBGene00004393          </td><td>rnt-1                   </td><td>Pharyngeal epithelia    </td><td> 3.5937935              </td><td>       NA               </td><td>       NA               </td><td>Low sample size         </td></tr>\n",
       "\t<tr><td>WBGene00004393          </td><td>rnt-1                   </td><td>Touch receptor neurons  </td><td> 0.0000000              </td><td>       NA               </td><td>       NA               </td><td>Neurons                 </td></tr>\n",
       "\t<tr><td>WBGene00004393          </td><td>rnt-1                   </td><td>Cholinergic neurons     </td><td> 0.5802248              </td><td>       NA               </td><td>       NA               </td><td>Low sample size         </td></tr>\n",
       "\t<tr><td>WBGene00004393          </td><td>rnt-1                   </td><td>Distal tip cells        </td><td> 0.0000000              </td><td>       NA               </td><td>       NA               </td><td>Gonad                   </td></tr>\n",
       "\t<tr><td>WBGene00004393          </td><td>rnt-1                   </td><td>Vulval precursors       </td><td> 1.9063705              </td><td>       NA               </td><td>       NA               </td><td>Low sample size         </td></tr>\n",
       "\t<tr><td>WBGene00004393          </td><td>rnt-1                   </td><td>Other interneurons      </td><td> 0.0000000              </td><td>       NA               </td><td>       NA               </td><td>Neurons                 </td></tr>\n",
       "\t<tr><td>WBGene00004393          </td><td>rnt-1                   </td><td>GABAergic neurons       </td><td> 0.0000000              </td><td>       NA               </td><td>       NA               </td><td>Neurons                 </td></tr>\n",
       "\t<tr><td>WBGene00004393          </td><td>rnt-1                   </td><td>Am/PH sheath cells      </td><td> 0.0000000              </td><td>       NA               </td><td>       NA               </td><td>Glia                    </td></tr>\n",
       "\t<tr><td>WBGene00004393          </td><td>rnt-1                   </td><td>Pharyngeal muscle       </td><td>11.1000111              </td><td>       NA               </td><td>       NA               </td><td>Low sample size         </td></tr>\n",
       "\t<tr><td>WBGene00004393          </td><td>rnt-1                   </td><td>Pharyngeal neurons      </td><td> 0.0000000              </td><td>       NA               </td><td>       NA               </td><td>Neurons                 </td></tr>\n",
       "\t<tr><td>WBGene00004393          </td><td>rnt-1                   </td><td>Oxygen sensory neurons  </td><td> 0.0000000              </td><td>       NA               </td><td>       NA               </td><td>Neurons                 </td></tr>\n",
       "\t<tr><td>WBGene00004393          </td><td>rnt-1                   </td><td>Somatic gonad precursors</td><td> 0.8764895              </td><td>       NA               </td><td>       NA               </td><td>Low sample size         </td></tr>\n",
       "\t<tr><td>WBGene00004393          </td><td>rnt-1                   </td><td>flp-1(+) interneurons   </td><td> 0.0000000              </td><td>       NA               </td><td>       NA               </td><td>Neurons                 </td></tr>\n",
       "\t<tr><td>WBGene00004393          </td><td>rnt-1                   </td><td>Canal associated neurons</td><td> 0.0000000              </td><td>       NA               </td><td>       NA               </td><td>Neurons                 </td></tr>\n",
       "\t<tr><td>WBGene00004393          </td><td>rnt-1                   </td><td>Pharyngeal gland        </td><td> 0.0000000              </td><td>       NA               </td><td>       NA               </td><td>Pharynx                 </td></tr>\n",
       "\t<tr><td>WBGene00004393          </td><td>rnt-1                   </td><td>Excretory cells         </td><td> 0.0000000              </td><td>       NA               </td><td>       NA               </td><td>Glia                    </td></tr>\n",
       "\t<tr><td>WBGene00004393          </td><td>rnt-1                   </td><td>Socket cells            </td><td> 0.0000000              </td><td>       NA               </td><td>       NA               </td><td>Glia                    </td></tr>\n",
       "\t<tr><td>WBGene00004393          </td><td>rnt-1                   </td><td>Rectum                  </td><td> 0.0000000              </td><td>       NA               </td><td>       NA               </td><td>Hypodermis              </td></tr>\n",
       "\t<tr><td>WBGene00004393          </td><td>rnt-1                   </td><td>Intestine               </td><td> 1.5886583              </td><td>       NA               </td><td>       NA               </td><td>Low sample size         </td></tr>\n",
       "</tbody>\n",
       "</table>\n"
      ],
      "text/latex": [
       "\\begin{tabular}{r|lllllll}\n",
       " gene\\_id & symbol & cell.type & tpm & tpm.ci.lo & tpm.ci.hi & tissue.for.coloring\\\\\n",
       "\\hline\n",
       "\t WBGene00004393           & rnt-1                    & Germline                 &  0.5718662               &  0.000000                &  1.270365                & Gonad                   \\\\\n",
       "\t WBGene00004393           & rnt-1                    & Intestinal/rectal muscle &  7.4385053               &  0.000000                & 17.289972                & BWM/IRM                 \\\\\n",
       "\t WBGene00004393           & rnt-1                    & Seam cells               & 10.2858973               &  5.790142                & 14.781653                & Hypodermis              \\\\\n",
       "\t WBGene00004393           & rnt-1                    & Non-seam hypodermis      &  1.0745069               &  0.000000                &  3.005852                & Hypodermis              \\\\\n",
       "\t WBGene00004393           & rnt-1                    & Body wall muscle         & 33.7208061               & 29.458958                & 37.982655                & BWM/IRM                 \\\\\n",
       "\t WBGene00004393           & rnt-1                    & Sex myoblasts            & 11.1801348               &  0.000000                & 24.248455                & Gonad                   \\\\\n",
       "\t WBGene00004393           & rnt-1                    & Coelomocytes             &  0.0000000               &        NA                &        NA                & Other                   \\\\\n",
       "\t WBGene00004393           & rnt-1                    & Ciliated sensory neurons &  0.0000000               &        NA                &        NA                & Neurons                 \\\\\n",
       "\t WBGene00004393           & rnt-1                    & Pharyngeal epithelia     &  3.5937935               &        NA                &        NA                & Low sample size         \\\\\n",
       "\t WBGene00004393           & rnt-1                    & Touch receptor neurons   &  0.0000000               &        NA                &        NA                & Neurons                 \\\\\n",
       "\t WBGene00004393           & rnt-1                    & Cholinergic neurons      &  0.5802248               &        NA                &        NA                & Low sample size         \\\\\n",
       "\t WBGene00004393           & rnt-1                    & Distal tip cells         &  0.0000000               &        NA                &        NA                & Gonad                   \\\\\n",
       "\t WBGene00004393           & rnt-1                    & Vulval precursors        &  1.9063705               &        NA                &        NA                & Low sample size         \\\\\n",
       "\t WBGene00004393           & rnt-1                    & Other interneurons       &  0.0000000               &        NA                &        NA                & Neurons                 \\\\\n",
       "\t WBGene00004393           & rnt-1                    & GABAergic neurons        &  0.0000000               &        NA                &        NA                & Neurons                 \\\\\n",
       "\t WBGene00004393           & rnt-1                    & Am/PH sheath cells       &  0.0000000               &        NA                &        NA                & Glia                    \\\\\n",
       "\t WBGene00004393           & rnt-1                    & Pharyngeal muscle        & 11.1000111               &        NA                &        NA                & Low sample size         \\\\\n",
       "\t WBGene00004393           & rnt-1                    & Pharyngeal neurons       &  0.0000000               &        NA                &        NA                & Neurons                 \\\\\n",
       "\t WBGene00004393           & rnt-1                    & Oxygen sensory neurons   &  0.0000000               &        NA                &        NA                & Neurons                 \\\\\n",
       "\t WBGene00004393           & rnt-1                    & Somatic gonad precursors &  0.8764895               &        NA                &        NA                & Low sample size         \\\\\n",
       "\t WBGene00004393           & rnt-1                    & flp-1(+) interneurons    &  0.0000000               &        NA                &        NA                & Neurons                 \\\\\n",
       "\t WBGene00004393           & rnt-1                    & Canal associated neurons &  0.0000000               &        NA                &        NA                & Neurons                 \\\\\n",
       "\t WBGene00004393           & rnt-1                    & Pharyngeal gland         &  0.0000000               &        NA                &        NA                & Pharynx                 \\\\\n",
       "\t WBGene00004393           & rnt-1                    & Excretory cells          &  0.0000000               &        NA                &        NA                & Glia                    \\\\\n",
       "\t WBGene00004393           & rnt-1                    & Socket cells             &  0.0000000               &        NA                &        NA                & Glia                    \\\\\n",
       "\t WBGene00004393           & rnt-1                    & Rectum                   &  0.0000000               &        NA                &        NA                & Hypodermis              \\\\\n",
       "\t WBGene00004393           & rnt-1                    & Intestine                &  1.5886583               &        NA                &        NA                & Low sample size         \\\\\n",
       "\\end{tabular}\n"
      ],
      "text/plain": [
       "   gene_id        symbol cell.type                tpm        tpm.ci.lo\n",
       "1  WBGene00004393 rnt-1  Germline                  0.5718662  0.000000\n",
       "2  WBGene00004393 rnt-1  Intestinal/rectal muscle  7.4385053  0.000000\n",
       "3  WBGene00004393 rnt-1  Seam cells               10.2858973  5.790142\n",
       "4  WBGene00004393 rnt-1  Non-seam hypodermis       1.0745069  0.000000\n",
       "5  WBGene00004393 rnt-1  Body wall muscle         33.7208061 29.458958\n",
       "6  WBGene00004393 rnt-1  Sex myoblasts            11.1801348  0.000000\n",
       "7  WBGene00004393 rnt-1  Coelomocytes              0.0000000        NA\n",
       "8  WBGene00004393 rnt-1  Ciliated sensory neurons  0.0000000        NA\n",
       "9  WBGene00004393 rnt-1  Pharyngeal epithelia      3.5937935        NA\n",
       "10 WBGene00004393 rnt-1  Touch receptor neurons    0.0000000        NA\n",
       "11 WBGene00004393 rnt-1  Cholinergic neurons       0.5802248        NA\n",
       "12 WBGene00004393 rnt-1  Distal tip cells          0.0000000        NA\n",
       "13 WBGene00004393 rnt-1  Vulval precursors         1.9063705        NA\n",
       "14 WBGene00004393 rnt-1  Other interneurons        0.0000000        NA\n",
       "15 WBGene00004393 rnt-1  GABAergic neurons         0.0000000        NA\n",
       "16 WBGene00004393 rnt-1  Am/PH sheath cells        0.0000000        NA\n",
       "17 WBGene00004393 rnt-1  Pharyngeal muscle        11.1000111        NA\n",
       "18 WBGene00004393 rnt-1  Pharyngeal neurons        0.0000000        NA\n",
       "19 WBGene00004393 rnt-1  Oxygen sensory neurons    0.0000000        NA\n",
       "20 WBGene00004393 rnt-1  Somatic gonad precursors  0.8764895        NA\n",
       "21 WBGene00004393 rnt-1  flp-1(+) interneurons     0.0000000        NA\n",
       "22 WBGene00004393 rnt-1  Canal associated neurons  0.0000000        NA\n",
       "23 WBGene00004393 rnt-1  Pharyngeal gland          0.0000000        NA\n",
       "24 WBGene00004393 rnt-1  Excretory cells           0.0000000        NA\n",
       "25 WBGene00004393 rnt-1  Socket cells              0.0000000        NA\n",
       "26 WBGene00004393 rnt-1  Rectum                    0.0000000        NA\n",
       "27 WBGene00004393 rnt-1  Intestine                 1.5886583        NA\n",
       "   tpm.ci.hi tissue.for.coloring\n",
       "1   1.270365 Gonad              \n",
       "2  17.289972 BWM/IRM            \n",
       "3  14.781653 Hypodermis         \n",
       "4   3.005852 Hypodermis         \n",
       "5  37.982655 BWM/IRM            \n",
       "6  24.248455 Gonad              \n",
       "7         NA Other              \n",
       "8         NA Neurons            \n",
       "9         NA Low sample size    \n",
       "10        NA Neurons            \n",
       "11        NA Low sample size    \n",
       "12        NA Gonad              \n",
       "13        NA Low sample size    \n",
       "14        NA Neurons            \n",
       "15        NA Neurons            \n",
       "16        NA Glia               \n",
       "17        NA Low sample size    \n",
       "18        NA Neurons            \n",
       "19        NA Neurons            \n",
       "20        NA Low sample size    \n",
       "21        NA Neurons            \n",
       "22        NA Neurons            \n",
       "23        NA Pharynx            \n",
       "24        NA Glia               \n",
       "25        NA Glia               \n",
       "26        NA Hypodermis         \n",
       "27        NA Low sample size    "
      ]
     },
     "metadata": {},
     "output_type": "display_data"
    }
   ],
   "source": [
    "tmp.df"
   ]
  },
  {
   "cell_type": "code",
   "execution_count": 86,
   "metadata": {
    "collapsed": false
   },
   "outputs": [
    {
     "data": {
      "image/png": "[encoded data removed]",
      "text/plain": [
       "plot without title"
      ]
     },
     "metadata": {},
     "output_type": "display_data"
    }
   ],
   "source": [
    "plot = ggplot(tmp.df, aes(x = cell.type, y = tpm, ymin = tpm.ci.lo, ymax = tpm.ci.hi)) +\n",
    "    geom_bar(aes(fill = tissue.for.coloring), stat = \"identity\") +\n",
    "    geom_errorbar(size = 0.5, width = 0.5, color = \"grey20\") +\n",
    "    geom_point(aes(y = tpm + 0.018 * max(tpm), alpha = tissue.for.coloring == \"Low sample size\"),\n",
    "               shape = 42, size = 6) +\n",
    "    coord_flip() +\n",
    "    xlab(\"Cell type\") +\n",
    "    ylab(\"Transcripts per million\") +\n",
    "    ggtitle(\"Expression pattern for ztf-7\") +\n",
    "    guides(fill = F, alpha = F) +\n",
    "    scale_fill_manual(values = c(\n",
    "        \"#E41A1C\", \"#377EB8\", \"#4DAF4A\", \"#984EA3\", \"#FF7F00\", \"gold\", \"#F781BF\", \"#A65628\", \"#999999\")) +\n",
    "    scale_alpha_manual(values = c(0, 1)) +\n",
    "    monocle:::monocle_theme_opts() +\n",
    "    theme(\n",
    "        plot.title = element_text(size = 10),\n",
    "        axis.title.x = element_text(size = 10, margin = margin(8, 0, 0, 0)),\n",
    "        axis.title.y = element_text(size = 10, margin = margin(0, 8, 0, 0)),\n",
    "        axis.text.x = element_text(size = 8, color = \"black\"),\n",
    "        axis.text.y = element_text(size = 8, color = \"black\"))\n",
    "\n",
    "show(plot)\n",
    "\n",
    "ggsave(\"plots/Fig_S14.pdf\", plot = plot,\n",
    "    device = cairo_pdf, units = \"in\", width = 4, height = 5)"
   ]
  },
  {
   "cell_type": "code",
   "execution_count": 10,
   "metadata": {
    "collapsed": true
   },
   "outputs": [],
   "source": [
    "save.image(\"RData/L2.gene.reports.RData\")"
   ]
  },
  {
   "cell_type": "code",
   "execution_count": 11,
   "metadata": {
    "collapsed": true
   },
   "outputs": [],
   "source": [
    "save(cell.type.tpm.ci.df, file = \"RData/cell.type.tpm.ci.df.RData\")"
   ]
  },
  {
   "cell_type": "code",
   "execution_count": 10,
   "metadata": {
    "collapsed": false
   },
   "outputs": [],
   "source": [
    "gene.id.to.symbol = fData(cds.experiment.1)[, c(\"gene_id\", \"symbol\")]\n",
    "save(gene.id.to.symbol, file = \"RData/gene.id.to.symbol.RData\")"
   ]
  },
  {
   "cell_type": "code",
   "execution_count": 14,
   "metadata": {
    "collapsed": false
   },
   "outputs": [],
   "source": [
    "write(as.character(fData(cds.experiment.1)$gene_id), file = \"RData/WBGenes\")"
   ]
  },
  {
   "cell_type": "code",
   "execution_count": 71,
   "metadata": {
    "collapsed": false
   },
   "outputs": [],
   "source": [
    "?max"
   ]
  },
  {
   "cell_type": "code",
   "execution_count": 8,
   "metadata": {
    "collapsed": false
   },
   "outputs": [
    {
     "data": {
      "text/html": [
       "<ol class=list-inline>\n",
       "\t<li>'BWM/IRM'</li>\n",
       "\t<li>'Pharynx'</li>\n",
       "\t<li>'Hypodermis'</li>\n",
       "\t<li>'Neurons'</li>\n",
       "\t<li>'Glia'</li>\n",
       "\t<li>'Intestine'</li>\n",
       "\t<li>'Gonad'</li>\n",
       "\t<li>'Other'</li>\n",
       "\t<li>'Low sample size'</li>\n",
       "</ol>\n"
      ],
      "text/latex": [
       "\\begin{enumerate*}\n",
       "\\item 'BWM/IRM'\n",
       "\\item 'Pharynx'\n",
       "\\item 'Hypodermis'\n",
       "\\item 'Neurons'\n",
       "\\item 'Glia'\n",
       "\\item 'Intestine'\n",
       "\\item 'Gonad'\n",
       "\\item 'Other'\n",
       "\\item 'Low sample size'\n",
       "\\end{enumerate*}\n"
      ],
      "text/markdown": [
       "1. 'BWM/IRM'\n",
       "2. 'Pharynx'\n",
       "3. 'Hypodermis'\n",
       "4. 'Neurons'\n",
       "5. 'Glia'\n",
       "6. 'Intestine'\n",
       "7. 'Gonad'\n",
       "8. 'Other'\n",
       "9. 'Low sample size'\n",
       "\n",
       "\n"
      ],
      "text/plain": [
       "[1] \"BWM/IRM\"         \"Pharynx\"         \"Hypodermis\"      \"Neurons\"        \n",
       "[5] \"Glia\"            \"Intestine\"       \"Gonad\"           \"Other\"          \n",
       "[9] \"Low sample size\""
      ]
     },
     "metadata": {},
     "output_type": "display_data"
    }
   ],
   "source": [
    "levels(tmp.df$tissue.for.coloring)"
   ]
  },
  {
   "cell_type": "code",
   "execution_count": 10,
   "metadata": {
    "collapsed": false
   },
   "outputs": [
    {
     "name": "stderr",
     "output_type": "stream",
     "text": [
      "Warning message:\n",
      "“Removed 21 rows containing missing values (geom_errorbar).”"
     ]
    },
    {
     "data": {},
     "metadata": {},
     "output_type": "display_data"
    },
    {
     "data": {
      "text/html": [
       "<strong>PNG:</strong> 2"
      ],
      "text/latex": [
       "\\textbf{PNG:} 2"
      ],
      "text/markdown": [
       "**PNG:** 2"
      ],
      "text/plain": [
       "PNG \n",
       "  2 "
      ]
     },
     "metadata": {},
     "output_type": "display_data"
    }
   ],
   "source": [
    "jpeg(\"plots/gene_report_test.jpg\", width = 1100, height = 1100, type = \"cairo\")\n",
    "ggplot(tmp.df, aes(x = cell.type, y = tpm, ymin = tpm.ci.lo, ymax = tpm.ci.hi)) +\n",
    "    geom_bar(aes(fill = tissue.for.coloring), stat = \"identity\") +\n",
    "    geom_errorbar(size = 1.0, width = 0.5, color = \"grey20\") +\n",
    "    geom_point(aes(y = tpm + 0.02 * max(tpm), alpha = tissue.for.coloring == \"Low sample size\"),\n",
    "               shape = 42, size = 14) +\n",
    "    coord_flip() +\n",
    "    xlab(\"Cell type\") +\n",
    "    ylab(\"Transcripts per million\") +\n",
    "    ggtitle(\"Expression pattern for ztf-7\") +\n",
    "    guides(fill = F, alpha = F) +\n",
    "    scale_y_continuous(limits = c(0,\n",
    "        max(1.02 * max(tmp.df$tpm),\n",
    "            max(tmp.df$tpm.ci.hi, na.rm = T)))) +\n",
    "    scale_fill_manual(values = c(\n",
    "        \"BWM/IRM\" = \"#E41A1C\",\n",
    "        \"Pharynx\" = \"#377EB8\",\n",
    "        \"Hypodermis\" = \"#4DAF4A\",\n",
    "        \"Neurons\" = \"#984EA3\",\n",
    "        \"Glia\" = \"#FF7F00\",\n",
    "        \"Intestine\" = \"gold\",\n",
    "        \"Gonad\" = \"#F781BF\",\n",
    "        \"Other\" = \"#A65628\",\n",
    "        \"Low sample size\" = \"#999999\")) +\n",
    "    scale_alpha_manual(values = c(0, 1)) +\n",
    "    monocle:::monocle_theme_opts() +\n",
    "    theme(\n",
    "        plot.title = element_text(size = 25, hjust = 0.5),\n",
    "        plot.margin = margin(10, 40, 10, 20),\n",
    "        axis.title.x = element_text(size = 25, margin = margin(10, 0, 0, 0)),\n",
    "        axis.title.y = element_text(size = 25, margin = margin(0, 8, 0, 0)),\n",
    "        axis.text.x = element_text(size = 20, color = \"black\"),\n",
    "        axis.text.y = element_text(size = 20, color = \"black\"))\n",
    "dev.off()"
   ]
  },
  {
   "cell_type": "code",
   "execution_count": 11,
   "metadata": {
    "collapsed": false
   },
   "outputs": [
    {
     "name": "stderr",
     "output_type": "stream",
     "text": [
      "Warning message:\n",
      "“Removed 21 rows containing missing values (geom_errorbar).”"
     ]
    },
    {
     "data": {},
     "metadata": {},
     "output_type": "display_data"
    },
    {
     "data": {
      "text/html": [
       "<strong>PNG:</strong> 2"
      ],
      "text/latex": [
       "\\textbf{PNG:} 2"
      ],
      "text/markdown": [
       "**PNG:** 2"
      ],
      "text/plain": [
       "PNG \n",
       "  2 "
      ]
     },
     "metadata": {},
     "output_type": "display_data"
    }
   ],
   "source": [
    "jpeg(\"plots/gene_report_thumb_test.jpg\", width = 250, height = 250, type = \"cairo\")\n",
    "ggplot(tmp.df, aes(x = cell.type, y = tpm, ymin = tpm.ci.lo, ymax = tpm.ci.hi)) +\n",
    "    geom_bar(aes(fill = tissue.for.coloring), stat = \"identity\") +\n",
    "    geom_errorbar(size = 0.8, width = 0.5, color = \"grey20\") +\n",
    "    geom_point(aes(y = tpm + 0.018 * max(tpm), alpha = tissue.for.coloring == \"Low sample size\"),\n",
    "               shape = 42, size = 4) +\n",
    "    coord_flip() +\n",
    "    xlab(\"Cell type\") +\n",
    "    ylab(\"Transcripts per million\") +\n",
    "    guides(fill = F, alpha = F) +\n",
    "    scale_y_continuous(limits = c(0,\n",
    "        max(1.02 * max(tmp.df$tpm),\n",
    "            max(tmp.df$tpm.ci.hi, na.rm = T)))) +\n",
    "    scale_fill_manual(values = c(\n",
    "        \"BWM/IRM\" = \"#E41A1C\",\n",
    "        \"Pharynx\" = \"#377EB8\",\n",
    "        \"Hypodermis\" = \"#4DAF4A\",\n",
    "        \"Neurons\" = \"#984EA3\",\n",
    "        \"Glia\" = \"#FF7F00\",\n",
    "        \"Intestine\" = \"gold\",\n",
    "        \"Gonad\" = \"#F781BF\",\n",
    "        \"Other\" = \"#A65628\",\n",
    "        \"Low sample size\" = \"#999999\")) +\n",
    "    scale_alpha_manual(values = c(0, 1)) +\n",
    "    theme_bw() +\n",
    "    theme(\n",
    "        plot.margin = margin(5, 20, 5, 10),\n",
    "        axis.line = element_blank(),\n",
    "        panel.border = element_blank(),\n",
    "        panel.grid = element_blank(),\n",
    "        axis.title.x = element_text(),\n",
    "        axis.title.y = element_text(),\n",
    "        axis.text.x = element_text(),\n",
    "        axis.text.y = element_blank(),\n",
    "        axis.ticks.y = element_blank())\n",
    "dev.off()"
   ]
  },
  {
   "cell_type": "code",
   "execution_count": 89,
   "metadata": {
    "collapsed": true
   },
   "outputs": [],
   "source": [
    "save(cell.type.tpm, file = \"RData/cell.type.tpm.RData\")"
   ]
  },
  {
   "cell_type": "code",
   "execution_count": null,
   "metadata": {
    "collapsed": true
   },
   "outputs": [],
   "source": []
  }
 ],
 "metadata": {
  "kernelspec": {
   "display_name": "R",
   "language": "R",
   "name": "ir"
  },
  "language_info": {
   "codemirror_mode": "r",
   "file_extension": ".r",
   "mimetype": "text/x-r-source",
   "name": "R",
   "pygments_lexer": "r",
   "version": "3.2.1"
  }
 },
 "nbformat": 4,
 "nbformat_minor": 1
}
